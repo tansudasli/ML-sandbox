{
 "cells": [
  {
   "cell_type": "code",
   "execution_count": 36,
   "metadata": {},
   "outputs": [],
   "source": [
    "import cv2\n",
    "\n",
    "import numpy as np \n",
    "\n",
    "import matplotlib.pyplot as plt\n",
    "%matplotlib inline"
   ]
  },
  {
   "cell_type": "code",
   "execution_count": 37,
   "metadata": {},
   "outputs": [
    {
     "data": {
      "text/plain": [
       "(356, 413, 3)"
      ]
     },
     "execution_count": 37,
     "metadata": {},
     "output_type": "execute_result"
    }
   ],
   "source": [
    "frame = cv2.imread('images/smarties.png')\n",
    "\n",
    "frame.shape # y, x, BGR"
   ]
  },
  {
   "cell_type": "code",
   "execution_count": 33,
   "metadata": {},
   "outputs": [],
   "source": [
    "def nothing(x):\n",
    "    pass"
   ]
  },
  {
   "cell_type": "markdown",
   "metadata": {},
   "source": [
    "### create a tracking window to tune low and upper binds"
   ]
  },
  {
   "cell_type": "code",
   "execution_count": 34,
   "metadata": {},
   "outputs": [],
   "source": [
    "cv2.namedWindow('tracking')\n",
    "\n",
    "cv2.createTrackbar('LH', 'tracking', 0, 255, lambda x: x)\n",
    "cv2.createTrackbar('LS', 'tracking', 0, 255, lambda x: x)\n",
    "cv2.createTrackbar('LV', 'tracking', 0, 255, lambda x: x)\n",
    "\n",
    "cv2.createTrackbar('HH', 'tracking', 255, 255, lambda x: x)\n",
    "cv2.createTrackbar('HS', 'tracking', 255, 255, lambda x: x)\n",
    "cv2.createTrackbar('HV', 'tracking', 255, 255, lambda x: x)"
   ]
  },
  {
   "cell_type": "markdown",
   "metadata": {},
   "source": [
    "### show w/ opencv "
   ]
  },
  {
   "cell_type": "code",
   "execution_count": 35,
   "metadata": {},
   "outputs": [
    {
     "data": {
      "text/plain": [
       "-1"
      ]
     },
     "execution_count": 35,
     "metadata": {},
     "output_type": "execute_result"
    }
   ],
   "source": [
    "\n",
    "hsv = cv2.cvtColor(frame, cv2.COLOR_BGR2HSV)\n",
    "\n",
    "while True:\n",
    "    l_bound = np.array([cv2.getTrackbarPos('LH', 'tracking'), \\\n",
    "                        cv2.getTrackbarPos('LS', 'tracking'), \\\n",
    "                        cv2.getTrackbarPos('LV', 'tracking')])       # lower level of colors\n",
    "    u_bound = np.array([cv2.getTrackbarPos('HH', 'tracking'), \\\n",
    "                        cv2.getTrackbarPos('HS', 'tracking'), \\\n",
    "                        cv2.getTrackbarPos('HV', 'tracking')])       # upper level of blue\n",
    "\n",
    "    mask = cv2.inRange(hsv, l_bound, u_bound)\n",
    "\n",
    "    result = cv2.bitwise_and(frame, frame, mask=mask)\n",
    "\n",
    "    cv2.imshow('preview', frame)\n",
    "    cv2.imshow('mask', mask)\n",
    "    cv2.imshow('result', result)\n",
    "\n",
    "    key = cv2.waitKey(1) & 0xFF\n",
    "    \n",
    "    if key == 27:  # esc key\n",
    "        break\n",
    "\n",
    "cv2.destroyAllWindows()\n",
    "\n",
    "cv2.waitKey(1)  # it could not close opened window in mac. so i used matplotlib to show"
   ]
  },
  {
   "cell_type": "code",
   "execution_count": null,
   "metadata": {},
   "outputs": [],
   "source": []
  },
  {
   "cell_type": "code",
   "execution_count": null,
   "metadata": {},
   "outputs": [],
   "source": []
  }
 ],
 "metadata": {
  "kernelspec": {
   "display_name": "Python 3",
   "language": "python",
   "name": "python3"
  },
  "language_info": {
   "codemirror_mode": {
    "name": "ipython",
    "version": 3
   },
   "file_extension": ".py",
   "mimetype": "text/x-python",
   "name": "python",
   "nbconvert_exporter": "python",
   "pygments_lexer": "ipython3",
   "version": "3.7.3"
  }
 },
 "nbformat": 4,
 "nbformat_minor": 4
}
