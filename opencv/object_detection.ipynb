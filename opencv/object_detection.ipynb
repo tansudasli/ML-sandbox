{
 "cells": [
  {
   "cell_type": "code",
   "execution_count": 1,
   "metadata": {},
   "outputs": [],
   "source": [
    "import cv2\n",
    "\n",
    "import numpy as np \n",
    "\n",
    "import matplotlib.pyplot as plt\n",
    "%matplotlib inline"
   ]
  },
  {
   "cell_type": "code",
   "execution_count": 2,
   "metadata": {},
   "outputs": [
    {
     "data": {
      "text/plain": [
       "(356, 413, 3)"
      ]
     },
     "execution_count": 2,
     "metadata": {},
     "output_type": "execute_result"
    }
   ],
   "source": [
    "frame = cv2.imread('smarties.png')\n",
    "\n",
    "frame.shape # y, x, BGR"
   ]
  },
  {
   "cell_type": "code",
   "execution_count": null,
   "metadata": {},
   "outputs": [],
   "source": [
    "# cv2.namedWindow('tracking')\n",
    "\n",
    "# show w/ opencv \n",
    "hsv = cv2.cvtColor(frame, cv2.COLOR_BGR2HSV)\n",
    "\n",
    "l_blue = np.array([110, 50, 50])      # lower level of blue\n",
    "u_blue = np.array([130, 255, 255])    # upper level of blue\n",
    "\n",
    "mask = cv2.inRange(hsv, l_blue, u_blue)\n",
    "\n",
    "result = cv2.bitwise_and(frame, frame, mask=mask)\n",
    "\n",
    "cv2.imshow('preview', frame)\n",
    "cv2.imshow('mask', mask)\n",
    "cv2.imshow('result', result)\n",
    "\n",
    "\n",
    "cv2.waitKey(0)\n",
    "\n",
    "cv2.destroyWindow('preview')\n",
    "\n",
    "cv2.waitKey(1)  # it could not close opened window in mac. so i used matplotlib to show"
   ]
  },
  {
   "cell_type": "code",
   "execution_count": null,
   "metadata": {},
   "outputs": [],
   "source": []
  }
 ],
 "metadata": {
  "kernelspec": {
   "display_name": "Python 3",
   "language": "python",
   "name": "python3"
  },
  "language_info": {
   "codemirror_mode": {
    "name": "ipython",
    "version": 3
   },
   "file_extension": ".py",
   "mimetype": "text/x-python",
   "name": "python",
   "nbconvert_exporter": "python",
   "pygments_lexer": "ipython3",
   "version": "3.7.3"
  }
 },
 "nbformat": 4,
 "nbformat_minor": 4
}
