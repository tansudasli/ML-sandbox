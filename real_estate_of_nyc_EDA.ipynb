{
 "cells": [
  {
   "cell_type": "markdown",
   "metadata": {},
   "source": [
    "# Housing - exploratory data analysis (EDA)\n",
    "\n",
    "NYC housing dataset b/w in 2012-13, seperated by boroughs\n",
    "\n",
    "\n",
    "##### Notes\n",
    "- **raw_data** is readed file w/ proper types and formats\n",
    "- **data_prepared**, dataframe after missing values (sale_price) and **obvious** rows/columns eliminated\n",
    "- **data_cleaned**,  dataframe after **outliers** eliminated\n",
    "- **data_enriched**, starts w/ data, + null row deletions, enrichments (_map, _log ..)  etc..."
   ]
  },
  {
   "cell_type": "markdown",
   "metadata": {},
   "source": [
    "### possible deletion columns/rows\n",
    "\n",
    "   - columns\n",
    "       - borough, building_class_category .. (extracted into diff. columns)\n",
    "       - block, lot (nonsense)\n",
    "       - easement (%100 empty), \n",
    "       - apartment_number (%74 empty)\n",
    "   - rows\n",
    "       - **30% of sale_price is 0 (28K+)**\n",
    "       - building_class_name is null, is **(1500)**\n",
    "       - tax_class_at_present is empty, is **(270)**     \n",
    "   - outliers  \n",
    "       - (data_cleaned.gross_square_feet > 0) & (data_cleaned.gross_square_feet <= 20K)\n",
    "       - (data_cleaned.sale_price < 2M)  \n",
    "\n",
    "\n",
    "### categorical features\n",
    "\n",
    "  - building_class_at_present: may be mapped into 3 groups to use later ?\n",
    "      - if containf FAMILY, Map as FAMILY in building_class_map\n",
    "  - building_class_at_present vs building_class_at_sale change has any meaning?\n",
    "  - tax_class_at_present vs tax_class_at_sale has any meaning? (1, 2 and 4 is dominating values)\n",
    "  - 10019 zipcode is %7 of houses, and 70K houses are located in of 100 zipcodes\n",
    "  - 4000+ diff. apartment_number in 85K rows.\n",
    "  - top 50 neighborhood covers 50K+ houses\n",
    "  \n",
    "### numerical features\n",
    "\n",
    "  - **50% of estates has 0 land_square_feet and gross_square_feet.**\n",
    "  - **how can residential_units and commercial_units be used as numeric columns in a meaningful way?**\n",
    "      - residential_units (165 types), %50 is 0 and 1 (40K+ rows) and 30K+ NaN. \n",
    "      - commercial_units (23 types), 0 has 20K+, NaN is 60K+\n",
    "      - total_units (171 types), 1 (25K+, 0 (16K+), 2 (8K+) and **NaN is 30K**\n",
    "         - total = residental + commercial ?\n",
    "         - if there are dif, can we set to commercial or we should delete  or we may use to create a dummy category ?\n",
    "         - if total = 0 or null **(18K rows)** , what we should do?\n",
    "\n",
    "- [ ] **can we predict total_units, then set null values, then make them numeric**\n",
    "- [ ] **can we predict year_built, then set 0 values,\n"
   ]
  },
  {
   "cell_type": "code",
   "execution_count": 1,
   "metadata": {},
   "outputs": [],
   "source": [
    "import numpy as np\n",
    "import pandas as pd\n",
    "import seaborn as sns\n",
    "\n",
    "import os\n",
    "import glob\n",
    "\n",
    "sns.set()\n",
    "\n",
    "pd.set_option('display.max_columns', 500)\n",
    "pd.set_option('display.max_rows', None)\n",
    "pd.set_option('display.max_colwidth', 250)\n"
   ]
  },
  {
   "cell_type": "code",
   "execution_count": 47,
   "metadata": {},
   "outputs": [],
   "source": [
    "# tuning params\n",
    "\n",
    "neighborhood_min_len = 2\n",
    "\n",
    "sale_price_min = 1000 # minimum intuitive sales price\n",
    "sale_price_lq = 0.01  # left quantile\n",
    "sale_price_rq = 0.99  # right quantile\n",
    "\n",
    "building_class_mapping = ['FAMILY', 'APARTMENT', 'FACILITIES'] # maps building_class_category"
   ]
  },
  {
   "cell_type": "code",
   "execution_count": 3,
   "metadata": {
    "scrolled": false
   },
   "outputs": [
    {
     "data": {
      "text/html": [
       "<div>\n",
       "<style scoped>\n",
       "    .dataframe tbody tr th:only-of-type {\n",
       "        vertical-align: middle;\n",
       "    }\n",
       "\n",
       "    .dataframe tbody tr th {\n",
       "        vertical-align: top;\n",
       "    }\n",
       "\n",
       "    .dataframe thead th {\n",
       "        text-align: right;\n",
       "    }\n",
       "</style>\n",
       "<table border=\"1\" class=\"dataframe\">\n",
       "  <thead>\n",
       "    <tr style=\"text-align: right;\">\n",
       "      <th></th>\n",
       "      <th>borough</th>\n",
       "      <th>neighborhood</th>\n",
       "      <th>building_class_category</th>\n",
       "      <th>tax_class_at_present</th>\n",
       "      <th>block</th>\n",
       "      <th>lot</th>\n",
       "      <th>easement</th>\n",
       "      <th>building_class_at_present</th>\n",
       "      <th>address</th>\n",
       "      <th>apartment_number</th>\n",
       "      <th>zipcode</th>\n",
       "      <th>residential_units</th>\n",
       "      <th>commercial_units</th>\n",
       "      <th>total_units</th>\n",
       "      <th>land_square_feet</th>\n",
       "      <th>gross_square_feet</th>\n",
       "      <th>year_built</th>\n",
       "      <th>tax_class_at_sale</th>\n",
       "      <th>building_class_at_sale</th>\n",
       "      <th>sale_price</th>\n",
       "      <th>sale_date</th>\n",
       "    </tr>\n",
       "  </thead>\n",
       "  <tbody>\n",
       "    <tr>\n",
       "      <th>0</th>\n",
       "      <td>3</td>\n",
       "      <td></td>\n",
       "      <td>15  CONDOS - 2-10 UNIT RESIDENTIAL</td>\n",
       "      <td></td>\n",
       "      <td>814</td>\n",
       "      <td>1103</td>\n",
       "      <td></td>\n",
       "      <td></td>\n",
       "      <td>342 53RD    STREET</td>\n",
       "      <td></td>\n",
       "      <td>11220</td>\n",
       "      <td>0</td>\n",
       "      <td>0</td>\n",
       "      <td>0</td>\n",
       "      <td>0</td>\n",
       "      <td>0</td>\n",
       "      <td>0</td>\n",
       "      <td>2</td>\n",
       "      <td>R1</td>\n",
       "      <td>$403,572</td>\n",
       "      <td>2013-07-09</td>\n",
       "    </tr>\n",
       "    <tr>\n",
       "      <th>1</th>\n",
       "      <td>3</td>\n",
       "      <td></td>\n",
       "      <td>15  CONDOS - 2-10 UNIT RESIDENTIAL</td>\n",
       "      <td></td>\n",
       "      <td>814</td>\n",
       "      <td>1105</td>\n",
       "      <td></td>\n",
       "      <td></td>\n",
       "      <td>342 53RD    STREET</td>\n",
       "      <td></td>\n",
       "      <td>11220</td>\n",
       "      <td>0</td>\n",
       "      <td>0</td>\n",
       "      <td>0</td>\n",
       "      <td>0</td>\n",
       "      <td>0</td>\n",
       "      <td>0</td>\n",
       "      <td>2</td>\n",
       "      <td>R1</td>\n",
       "      <td>$218,010</td>\n",
       "      <td>2013-07-12</td>\n",
       "    </tr>\n",
       "  </tbody>\n",
       "</table>\n",
       "</div>"
      ],
      "text/plain": [
       "  borough               neighborhood  \\\n",
       "0       3                              \n",
       "1       3                              \n",
       "\n",
       "                        building_class_category tax_class_at_present block  \\\n",
       "0  15  CONDOS - 2-10 UNIT RESIDENTIAL                                  814   \n",
       "1  15  CONDOS - 2-10 UNIT RESIDENTIAL                                  814   \n",
       "\n",
       "    lot easement building_class_at_present  \\\n",
       "0  1103                                      \n",
       "1  1105                                      \n",
       "\n",
       "                                       address apartment_number zipcode  \\\n",
       "0   342 53RD    STREET                                            11220   \n",
       "1   342 53RD    STREET                                            11220   \n",
       "\n",
       "  residential_units commercial_units total_units land_square_feet  \\\n",
       "0                 0                0           0                0   \n",
       "1                 0                0           0                0   \n",
       "\n",
       "  gross_square_feet year_built tax_class_at_sale building_class_at_sale  \\\n",
       "0                 0          0                2                     R1    \n",
       "1                 0          0                2                     R1    \n",
       "\n",
       "  sale_price  sale_date  \n",
       "0   $403,572 2013-07-09  \n",
       "1   $218,010 2013-07-12  "
      ]
     },
     "execution_count": 3,
     "metadata": {},
     "output_type": "execute_result"
    }
   ],
   "source": [
    "# read all datasets w/ dates\n",
    "filenames = glob.glob(os.path.join('dataset/housing/', 'r*.csv'))\n",
    "\n",
    "#\n",
    "li = []\n",
    "\n",
    "for filename in filenames:\n",
    "    df = pd.read_csv(filename, \\\n",
    "                dtype={'YEAR BUILT': object, 'BLOCK': object, 'LOT': object, 'ZIP CODE': object, \n",
    "                       'COMMERCIAL UNITS': object,\n",
    "                       'BOROUGH': object, 'NEIGHBORHOOD': object, 'BUILDING CLASS CATEGORY': object,\n",
    "                       'TAX CLASS AT PRESENT': object,  'EASE-MENT': object,\n",
    "                       'BUILDING CLASS AT PRESENT': object, 'ADDRESS': object, \n",
    "                       'APART\\nMENT\\nNUMBER': object,\n",
    "                       'RESIDENTIAL UNITS': object, 'COMMERCIAL UNITS': object, 'TOTAL UNITS': object,\n",
    "                       'LAND SQUARE FEET': object, 'GROSS SQUARE FEET': object,\n",
    "                       'TAX CLASS AT TIME OF SALE': object, 'BUILDING CLASS AT TIME OF SALE': object,\n",
    "                       'SALE\\nPRICE': str}, \\\n",
    "                parse_dates=['SALE DATE'], \\\n",
    "                infer_datetime_format=True)\n",
    "    li.append(df)\n",
    "\n",
    "\n",
    "raw_data = pd.concat(li, axis=0, ignore_index=True)\n",
    "\n",
    "# change column names\n",
    "raw_data.columns = ['borough', 'neighborhood', 'building_class_category',\n",
    "                    'tax_class_at_present', 'block', 'lot', 'easement',\n",
    "                    'building_class_at_present', 'address', 'apartment_number',\n",
    "                    'zipcode', 'residential_units', 'commercial_units', 'total_units',\n",
    "                    'land_square_feet', 'gross_square_feet', 'year_built',\n",
    "                    'tax_class_at_sale', 'building_class_at_sale',\n",
    "                    'sale_price', 'sale_date']\n",
    "\n",
    "raw_data.head(2)"
   ]
  },
  {
   "cell_type": "markdown",
   "metadata": {},
   "source": [
    "# Explore\n",
    "\n",
    "- map and extract some of them, \n",
    "- delete white-spaces, \n",
    "- delete comma and $\n",
    "- convert some object columns to number !\n",
    "- check outliers\n",
    "- reduced categorigal features into less\n",
    "- delete rows and columns"
   ]
  },
  {
   "cell_type": "markdown",
   "metadata": {},
   "source": [
    "### quick checks"
   ]
  },
  {
   "cell_type": "code",
   "execution_count": 4,
   "metadata": {},
   "outputs": [
    {
     "data": {
      "text/plain": [
       "borough                      0\n",
       "neighborhood                 0\n",
       "building_class_category      0\n",
       "tax_class_at_present         0\n",
       "block                        0\n",
       "lot                          0\n",
       "easement                     0\n",
       "building_class_at_present    0\n",
       "address                      0\n",
       "apartment_number             0\n",
       "zipcode                      0\n",
       "residential_units            0\n",
       "commercial_units             0\n",
       "total_units                  0\n",
       "land_square_feet             0\n",
       "gross_square_feet            0\n",
       "year_built                   0\n",
       "tax_class_at_sale            0\n",
       "building_class_at_sale       0\n",
       "sale_price                   0\n",
       "sale_date                    0\n",
       "dtype: int64"
      ]
     },
     "execution_count": 4,
     "metadata": {},
     "output_type": "execute_result"
    }
   ],
   "source": [
    "raw_data.isnull().sum()\n",
    "\n",
    "# no null, but empty values filled w/ blanks! so it requires more operations !"
   ]
  },
  {
   "cell_type": "markdown",
   "metadata": {},
   "source": [
    "### mappings for categorical features"
   ]
  },
  {
   "cell_type": "code",
   "execution_count": 5,
   "metadata": {},
   "outputs": [],
   "source": [
    "data = raw_data"
   ]
  },
  {
   "cell_type": "code",
   "execution_count": 6,
   "metadata": {},
   "outputs": [
    {
     "data": {
      "text/plain": [
       "0    Brooklyn\n",
       "Name: borough_name, dtype: object"
      ]
     },
     "execution_count": 6,
     "metadata": {},
     "output_type": "execute_result"
    }
   ],
   "source": [
    "data['borough_name'] = data['borough'].map({'1':'Manhattan', '3':'Brooklyn', \n",
    "                                                    '2':'Bronx', '4':'Queens', \n",
    "                                                    '5':'Staten Island'})   \n",
    "\n",
    "data.borough_name.head(1)"
   ]
  },
  {
   "cell_type": "code",
   "execution_count": 7,
   "metadata": {},
   "outputs": [
    {
     "data": {
      "text/plain": [
       "Index(['neighborhood', 'building_class_category', 'tax_class_at_present',\n",
       "       'block', 'lot', 'easement', 'building_class_at_present', 'address',\n",
       "       'apartment_number', 'zipcode', 'residential_units', 'commercial_units',\n",
       "       'total_units', 'land_square_feet', 'gross_square_feet', 'year_built',\n",
       "       'tax_class_at_sale', 'building_class_at_sale', 'sale_price',\n",
       "       'sale_date', 'borough_name'],\n",
       "      dtype='object')"
      ]
     },
     "execution_count": 7,
     "metadata": {},
     "output_type": "execute_result"
    }
   ],
   "source": [
    "data.drop('borough', axis=1, inplace=True)\n",
    "\n",
    "data.columns"
   ]
  },
  {
   "cell_type": "markdown",
   "metadata": {},
   "source": [
    "### cleansing\n",
    "\n",
    "- look via a text editor to see obvious issues\n",
    "- start w/ dependent & numerical features"
   ]
  },
  {
   "cell_type": "markdown",
   "metadata": {},
   "source": [
    "##### sale_price"
   ]
  },
  {
   "cell_type": "code",
   "execution_count": 8,
   "metadata": {},
   "outputs": [],
   "source": [
    "x = data"
   ]
  },
  {
   "cell_type": "code",
   "execution_count": 9,
   "metadata": {},
   "outputs": [
    {
     "data": {
      "text/plain": [
       "sale_price\n",
       "$0       26959\n",
       "$0.00     1679\n",
       "$1         147\n",
       "dtype: int64"
      ]
     },
     "execution_count": 9,
     "metadata": {},
     "output_type": "execute_result"
    }
   ],
   "source": [
    "# delete $ and , chars\n",
    "# sale_price is object, but it has to be numeric !\n",
    "x.groupby(x.sale_price).size().head(3)"
   ]
  },
  {
   "cell_type": "code",
   "execution_count": 10,
   "metadata": {},
   "outputs": [],
   "source": [
    "x['sale_price'] = x['sale_price'].str.replace(r',|\\$', '').astype(float)"
   ]
  },
  {
   "cell_type": "code",
   "execution_count": 11,
   "metadata": {},
   "outputs": [
    {
     "data": {
      "text/plain": [
       "count    8.597500e+04\n",
       "mean     8.850979e+05\n",
       "std      9.424213e+06\n",
       "min      0.000000e+00\n",
       "25%      0.000000e+00\n",
       "50%      2.600000e+05\n",
       "75%      6.200000e+05\n",
       "max      1.307965e+09\n",
       "Name: sale_price, dtype: float64"
      ]
     },
     "execution_count": 11,
     "metadata": {},
     "output_type": "execute_result"
    }
   ],
   "source": [
    "x.sale_price.describe()\n",
    "\n",
    "# mean 885K, median 226K  -> skewed\n",
    "# 50% quantile == 0.. delete'em all   ~28K\n",
    "# 75% quantile and max value is enormuous . outliers"
   ]
  },
  {
   "cell_type": "code",
   "execution_count": 12,
   "metadata": {},
   "outputs": [
    {
     "data": {
      "text/plain": [
       "<matplotlib.axes._subplots.AxesSubplot at 0x1a19385400>"
      ]
     },
     "execution_count": 12,
     "metadata": {},
     "output_type": "execute_result"
    },
    {
     "data": {
      "image/png": "[encoded data removed]",
      "text/plain": [
       "<Figure size 432x288 with 1 Axes>"
      ]
     },
     "metadata": {
      "needs_background": "light"
     },
     "output_type": "display_data"
    }
   ],
   "source": [
    "# x axis contains index number :)\n",
    "# seems outliers\n",
    "\n",
    "x.sale_price.plot()"
   ]
  },
  {
   "cell_type": "code",
   "execution_count": 13,
   "metadata": {},
   "outputs": [
    {
     "data": {
      "text/plain": [
       "(85975, 55900)"
      ]
     },
     "execution_count": 13,
     "metadata": {},
     "output_type": "execute_result"
    }
   ],
   "source": [
    "x = x[x.sale_price > sale_price_min]\n",
    "\n",
    "len(data), len(x)"
   ]
  },
  {
   "cell_type": "code",
   "execution_count": 14,
   "metadata": {},
   "outputs": [
    {
     "data": {
      "text/plain": [
       "count    5.590000e+04\n",
       "mean     1.361290e+06\n",
       "std      1.165987e+07\n",
       "min      1.100000e+03\n",
       "25%      2.773358e+05\n",
       "50%      4.910000e+05\n",
       "75%      8.500000e+05\n",
       "max      1.307965e+09\n",
       "Name: sale_price, dtype: float64"
      ]
     },
     "execution_count": 14,
     "metadata": {},
     "output_type": "execute_result"
    }
   ],
   "source": [
    "x.sale_price.describe()\n",
    "\n",
    "# mean 1.3M, median 491K, still skewed\n",
    "# min 1100, 25% 277K -> outliers from left\n",
    "# 75% 850K, max 1.3b -> outliers from right"
   ]
  },
  {
   "cell_type": "code",
   "execution_count": 15,
   "metadata": {},
   "outputs": [
    {
     "data": {
      "text/plain": [
       "(15000.0, 12150000.0)"
      ]
     },
     "execution_count": 15,
     "metadata": {},
     "output_type": "execute_result"
    }
   ],
   "source": [
    "# we can take b/w those values\n",
    "\n",
    "q1 = x.sale_price.quantile(sale_price_lq)\n",
    "\n",
    "q2 = x.sale_price.quantile(sale_price_rq)\n",
    "\n",
    "q1, q2"
   ]
  },
  {
   "cell_type": "code",
   "execution_count": 16,
   "metadata": {},
   "outputs": [
    {
     "data": {
      "text/plain": [
       "(54767, <matplotlib.axes._subplots.AxesSubplot at 0x1a19f8e2e8>)"
      ]
     },
     "execution_count": 16,
     "metadata": {},
     "output_type": "execute_result"
    },
    {
     "data": {
      "image/png": "[encoded data removed]",
      "text/plain": [
       "<Figure size 432x288 with 1 Axes>"
      ]
     },
     "metadata": {
      "needs_background": "light"
     },
     "output_type": "display_data"
    }
   ],
   "source": [
    "x = x[(x.sale_price > q1) & (x.sale_price < q2)]\n",
    "\n",
    "len(x), x.sale_price.plot()\n",
    "\n",
    "# seems much better\n",
    "# still tuning opportunity, can be controlled by tuning params !"
   ]
  },
  {
   "cell_type": "code",
   "execution_count": 17,
   "metadata": {},
   "outputs": [
    {
     "data": {
      "text/plain": [
       "<matplotlib.axes._subplots.AxesSubplot at 0x1a1943eac8>"
      ]
     },
     "execution_count": 17,
     "metadata": {},
     "output_type": "execute_result"
    },
    {
     "data": {
      "image/png": "[encoded data removed]",
      "text/plain": [
       "<Figure size 432x288 with 1 Axes>"
      ]
     },
     "metadata": {
      "needs_background": "light"
     },
     "output_type": "display_data"
    }
   ],
   "source": [
    "x.sale_price.plot.hist(bins=100)"
   ]
  },
  {
   "cell_type": "code",
   "execution_count": 18,
   "metadata": {},
   "outputs": [],
   "source": [
    "data = x"
   ]
  },
  {
   "cell_type": "code",
   "execution_count": null,
   "metadata": {},
   "outputs": [],
   "source": []
  },
  {
   "cell_type": "markdown",
   "metadata": {},
   "source": [
    "##### neighborhood"
   ]
  },
  {
   "cell_type": "code",
   "execution_count": 19,
   "metadata": {},
   "outputs": [],
   "source": [
    "x = data"
   ]
  },
  {
   "cell_type": "code",
   "execution_count": 20,
   "metadata": {},
   "outputs": [
    {
     "data": {
      "text/html": [
       "<div>\n",
       "<style scoped>\n",
       "    .dataframe tbody tr th:only-of-type {\n",
       "        vertical-align: middle;\n",
       "    }\n",
       "\n",
       "    .dataframe tbody tr th {\n",
       "        vertical-align: top;\n",
       "    }\n",
       "\n",
       "    .dataframe thead th {\n",
       "        text-align: right;\n",
       "    }\n",
       "</style>\n",
       "<table border=\"1\" class=\"dataframe\">\n",
       "  <thead>\n",
       "    <tr style=\"text-align: right;\">\n",
       "      <th></th>\n",
       "      <th>neighborhood</th>\n",
       "      <th>building_class_category</th>\n",
       "      <th>tax_class_at_present</th>\n",
       "      <th>block</th>\n",
       "      <th>lot</th>\n",
       "      <th>easement</th>\n",
       "      <th>building_class_at_present</th>\n",
       "      <th>address</th>\n",
       "      <th>apartment_number</th>\n",
       "      <th>zipcode</th>\n",
       "      <th>residential_units</th>\n",
       "      <th>commercial_units</th>\n",
       "      <th>total_units</th>\n",
       "      <th>land_square_feet</th>\n",
       "      <th>gross_square_feet</th>\n",
       "      <th>year_built</th>\n",
       "      <th>tax_class_at_sale</th>\n",
       "      <th>building_class_at_sale</th>\n",
       "      <th>sale_price</th>\n",
       "      <th>sale_date</th>\n",
       "      <th>borough_name</th>\n",
       "    </tr>\n",
       "  </thead>\n",
       "  <tbody>\n",
       "  </tbody>\n",
       "</table>\n",
       "</div>"
      ],
      "text/plain": [
       "Empty DataFrame\n",
       "Columns: [neighborhood, building_class_category, tax_class_at_present, block, lot, easement, building_class_at_present, address, apartment_number, zipcode, residential_units, commercial_units, total_units, land_square_feet, gross_square_feet, year_built, tax_class_at_sale, building_class_at_sale, sale_price, sale_date, borough_name]\n",
       "Index: []"
      ]
     },
     "execution_count": 20,
     "metadata": {},
     "output_type": "execute_result"
    }
   ],
   "source": [
    "# below means there are whitespaces or check inside a text editor\n",
    "\n",
    "x[x.neighborhood == 'ANNADALE'].head()"
   ]
  },
  {
   "cell_type": "code",
   "execution_count": 21,
   "metadata": {},
   "outputs": [
    {
     "data": {
      "text/plain": [
       "neighborhood\n",
       "                              23\n",
       "AIRPORT LA GUARDIA             3\n",
       "ALPHABET CITY                111\n",
       "ANNADALE                      99\n",
       "ARDEN HEIGHTS                171\n",
       "dtype: int64"
      ]
     },
     "execution_count": 21,
     "metadata": {},
     "output_type": "execute_result"
    }
   ],
   "source": [
    "# if whitespaces at the begining, groupby is good. but not enough\n",
    "# good for double checks \n",
    "# delete empty values 25/85K\n",
    "\n",
    "data.groupby('neighborhood').size().head(5)"
   ]
  },
  {
   "cell_type": "code",
   "execution_count": 22,
   "metadata": {},
   "outputs": [],
   "source": [
    "\n",
    "x['neighborhood'] = x.loc[:, 'neighborhood'].str.split(r'(\\s+)$', expand=True)[0]"
   ]
  },
  {
   "cell_type": "code",
   "execution_count": 23,
   "metadata": {},
   "outputs": [
    {
     "data": {
      "text/plain": [
       "neighborhood\n",
       "                       23\n",
       "AIRPORT LA GUARDIA      3\n",
       "ALPHABET CITY         111\n",
       "dtype: int64"
      ]
     },
     "execution_count": 23,
     "metadata": {},
     "output_type": "execute_result"
    }
   ],
   "source": [
    "x.groupby('neighborhood').size().head(3)"
   ]
  },
  {
   "cell_type": "code",
   "execution_count": 24,
   "metadata": {},
   "outputs": [
    {
     "data": {
      "text/html": [
       "<div>\n",
       "<style scoped>\n",
       "    .dataframe tbody tr th:only-of-type {\n",
       "        vertical-align: middle;\n",
       "    }\n",
       "\n",
       "    .dataframe tbody tr th {\n",
       "        vertical-align: top;\n",
       "    }\n",
       "\n",
       "    .dataframe thead th {\n",
       "        text-align: right;\n",
       "    }\n",
       "</style>\n",
       "<table border=\"1\" class=\"dataframe\">\n",
       "  <thead>\n",
       "    <tr style=\"text-align: right;\">\n",
       "      <th></th>\n",
       "      <th>neighborhood</th>\n",
       "      <th>building_class_category</th>\n",
       "      <th>tax_class_at_present</th>\n",
       "      <th>block</th>\n",
       "      <th>lot</th>\n",
       "      <th>easement</th>\n",
       "      <th>building_class_at_present</th>\n",
       "      <th>address</th>\n",
       "      <th>apartment_number</th>\n",
       "      <th>zipcode</th>\n",
       "      <th>residential_units</th>\n",
       "      <th>commercial_units</th>\n",
       "      <th>total_units</th>\n",
       "      <th>land_square_feet</th>\n",
       "      <th>gross_square_feet</th>\n",
       "      <th>year_built</th>\n",
       "      <th>tax_class_at_sale</th>\n",
       "      <th>building_class_at_sale</th>\n",
       "      <th>sale_price</th>\n",
       "      <th>sale_date</th>\n",
       "      <th>borough_name</th>\n",
       "    </tr>\n",
       "  </thead>\n",
       "  <tbody>\n",
       "    <tr>\n",
       "      <th>23373</th>\n",
       "      <td>ANNADALE</td>\n",
       "      <td>01  ONE FAMILY HOMES</td>\n",
       "      <td>1</td>\n",
       "      <td>5395</td>\n",
       "      <td>32</td>\n",
       "      <td></td>\n",
       "      <td>A1</td>\n",
       "      <td>541 SYCAMORE STREET</td>\n",
       "      <td></td>\n",
       "      <td>10312</td>\n",
       "      <td>1</td>\n",
       "      <td>0</td>\n",
       "      <td>1</td>\n",
       "      <td>13,320</td>\n",
       "      <td>4,696</td>\n",
       "      <td>1985</td>\n",
       "      <td>1</td>\n",
       "      <td>A1</td>\n",
       "      <td>1200000.0</td>\n",
       "      <td>2012-08-15</td>\n",
       "      <td>Staten Island</td>\n",
       "    </tr>\n",
       "    <tr>\n",
       "      <th>23374</th>\n",
       "      <td>ANNADALE</td>\n",
       "      <td>01  ONE FAMILY HOMES</td>\n",
       "      <td>1</td>\n",
       "      <td>5401</td>\n",
       "      <td>10</td>\n",
       "      <td></td>\n",
       "      <td>A2</td>\n",
       "      <td>16 JANSEN STREET</td>\n",
       "      <td></td>\n",
       "      <td>10312</td>\n",
       "      <td>1</td>\n",
       "      <td>0</td>\n",
       "      <td>1</td>\n",
       "      <td>10,800</td>\n",
       "      <td>2,015</td>\n",
       "      <td>1980</td>\n",
       "      <td>1</td>\n",
       "      <td>A2</td>\n",
       "      <td>705000.0</td>\n",
       "      <td>2013-02-08</td>\n",
       "      <td>Staten Island</td>\n",
       "    </tr>\n",
       "    <tr>\n",
       "      <th>23375</th>\n",
       "      <td>ANNADALE</td>\n",
       "      <td>01  ONE FAMILY HOMES</td>\n",
       "      <td>1</td>\n",
       "      <td>5401</td>\n",
       "      <td>38</td>\n",
       "      <td></td>\n",
       "      <td>A1</td>\n",
       "      <td>27 WEAVER STREET</td>\n",
       "      <td></td>\n",
       "      <td>10312</td>\n",
       "      <td>1</td>\n",
       "      <td>0</td>\n",
       "      <td>1</td>\n",
       "      <td>10,833</td>\n",
       "      <td>2,128</td>\n",
       "      <td>1980</td>\n",
       "      <td>1</td>\n",
       "      <td>A1</td>\n",
       "      <td>127500.0</td>\n",
       "      <td>2012-09-26</td>\n",
       "      <td>Staten Island</td>\n",
       "    </tr>\n",
       "  </tbody>\n",
       "</table>\n",
       "</div>"
      ],
      "text/plain": [
       "      neighborhood                       building_class_category  \\\n",
       "23373     ANNADALE  01  ONE FAMILY HOMES                           \n",
       "23374     ANNADALE  01  ONE FAMILY HOMES                           \n",
       "23375     ANNADALE  01  ONE FAMILY HOMES                           \n",
       "\n",
       "      tax_class_at_present block lot easement building_class_at_present  \\\n",
       "23373                    1  5395  32                                 A1   \n",
       "23374                    1  5401  10                                 A2   \n",
       "23375                    1  5401  38                                 A1   \n",
       "\n",
       "                                           address apartment_number zipcode  \\\n",
       "23373   541 SYCAMORE STREET                                           10312   \n",
       "23374   16 JANSEN STREET                                              10312   \n",
       "23375   27 WEAVER STREET                                              10312   \n",
       "\n",
       "      residential_units commercial_units total_units land_square_feet  \\\n",
       "23373                 1                0           1           13,320   \n",
       "23374                 1                0           1           10,800   \n",
       "23375                 1                0           1           10,833   \n",
       "\n",
       "      gross_square_feet year_built tax_class_at_sale building_class_at_sale  \\\n",
       "23373             4,696       1985                1                     A1    \n",
       "23374             2,015       1980                1                     A2    \n",
       "23375             2,128       1980                1                     A1    \n",
       "\n",
       "       sale_price  sale_date   borough_name  \n",
       "23373   1200000.0 2012-08-15  Staten Island  \n",
       "23374    705000.0 2013-02-08  Staten Island  \n",
       "23375    127500.0 2012-09-26  Staten Island  "
      ]
     },
     "execution_count": 24,
     "metadata": {},
     "output_type": "execute_result"
    }
   ],
   "source": [
    "x[x.neighborhood == 'ANNADALE'].head(3)\n",
    "\n",
    "# means whitespaces cleaned"
   ]
  },
  {
   "cell_type": "code",
   "execution_count": 25,
   "metadata": {},
   "outputs": [],
   "source": [
    "# filter\n",
    "\n",
    "x = x[x.neighborhood.str.len() > neighborhood_min_len]"
   ]
  },
  {
   "cell_type": "code",
   "execution_count": 26,
   "metadata": {
    "scrolled": false
   },
   "outputs": [
    {
     "data": {
      "text/plain": [
       "neighborhood\n",
       "AIRPORT LA GUARDIA      3\n",
       "ALPHABET CITY         111\n",
       "ANNADALE               99\n",
       "ARDEN HEIGHTS         171\n",
       "ARROCHAR               13\n",
       "dtype: int64"
      ]
     },
     "execution_count": 26,
     "metadata": {},
     "output_type": "execute_result"
    }
   ],
   "source": [
    "# can we reduce into less groups ? (for dummy features)\n",
    "# nope, or requires domain know-how\n",
    "\n",
    "x.groupby('neighborhood').size().head()\n"
   ]
  },
  {
   "cell_type": "code",
   "execution_count": 27,
   "metadata": {},
   "outputs": [
    {
     "data": {
      "text/plain": [
       "count            54744\n",
       "unique             252\n",
       "top       MIDTOWN WEST\n",
       "freq              2866\n",
       "Name: neighborhood, dtype: object"
      ]
     },
     "execution_count": 27,
     "metadata": {},
     "output_type": "execute_result"
    }
   ],
   "source": [
    "x.neighborhood.describe()"
   ]
  },
  {
   "cell_type": "code",
   "execution_count": 28,
   "metadata": {},
   "outputs": [
    {
     "data": {
      "text/plain": [
       "<matplotlib.axes._subplots.AxesSubplot at 0x1a202a1240>"
      ]
     },
     "execution_count": 28,
     "metadata": {},
     "output_type": "execute_result"
    },
    {
     "data": {
      "image/png": "[encoded data removed]",
      "text/plain": [
       "<Figure size 432x288 with 1 Axes>"
      ]
     },
     "metadata": {
      "needs_background": "light"
     },
     "output_type": "display_data"
    }
   ],
   "source": [
    "x.groupby('neighborhood').size().plot(kind='bar')"
   ]
  },
  {
   "cell_type": "code",
   "execution_count": 29,
   "metadata": {},
   "outputs": [],
   "source": [
    "data = x"
   ]
  },
  {
   "cell_type": "code",
   "execution_count": null,
   "metadata": {},
   "outputs": [],
   "source": []
  },
  {
   "cell_type": "markdown",
   "metadata": {},
   "source": [
    "### building_class_category\n",
    "\n",
    "- split into 2 columns (exract text)\n",
    "- eliminate white spaces\n",
    "- reduce into less categories (dummy variables)"
   ]
  },
  {
   "cell_type": "code",
   "execution_count": 30,
   "metadata": {},
   "outputs": [],
   "source": [
    "x = data"
   ]
  },
  {
   "cell_type": "code",
   "execution_count": 31,
   "metadata": {},
   "outputs": [
    {
     "data": {
      "text/plain": [
       "building_class_category\n",
       "                                                1042\n",
       "01  ONE FAMILY HOMES                            9337\n",
       "02  TWO FAMILY HOMES                            7868\n",
       "03  THREE FAMILY HOMES                          2121\n",
       "04  TAX CLASS 1 CONDOS                           849\n",
       "05  TAX CLASS 1 VACANT LAND                      415\n",
       "06  TAX CLASS 1 - OTHER                           43\n",
       "07  RENTALS - WALKUP APARTMENTS                 2118\n",
       "08  RENTALS - ELEVATOR APARTMENTS                267\n",
       "09  COOPS - WALKUP APARTMENTS                   2352\n",
       "dtype: int64"
      ]
     },
     "execution_count": 31,
     "metadata": {},
     "output_type": "execute_result"
    }
   ],
   "source": [
    "# empty 1042 , delete'em all\n",
    "\n",
    "x.groupby('building_class_category').size().head(10)"
   ]
  },
  {
   "cell_type": "code",
   "execution_count": 32,
   "metadata": {},
   "outputs": [
    {
     "data": {
      "text/plain": [
       "count                                            54744\n",
       "unique                                              38\n",
       "top       10  COOPS - ELEVATOR APARTMENTS             \n",
       "freq                                             12437\n",
       "Name: building_class_category, dtype: object"
      ]
     },
     "execution_count": 32,
     "metadata": {},
     "output_type": "execute_result"
    }
   ],
   "source": [
    "x.building_class_category.describe()"
   ]
  },
  {
   "cell_type": "code",
   "execution_count": 33,
   "metadata": {},
   "outputs": [
    {
     "data": {
      "text/html": [
       "<div>\n",
       "<style scoped>\n",
       "    .dataframe tbody tr th:only-of-type {\n",
       "        vertical-align: middle;\n",
       "    }\n",
       "\n",
       "    .dataframe tbody tr th {\n",
       "        vertical-align: top;\n",
       "    }\n",
       "\n",
       "    .dataframe thead th {\n",
       "        text-align: right;\n",
       "    }\n",
       "</style>\n",
       "<table border=\"1\" class=\"dataframe\">\n",
       "  <thead>\n",
       "    <tr style=\"text-align: right;\">\n",
       "      <th></th>\n",
       "      <th>building_class_category</th>\n",
       "      <th>building_class_category_</th>\n",
       "    </tr>\n",
       "  </thead>\n",
       "  <tbody>\n",
       "    <tr>\n",
       "      <th>25</th>\n",
       "      <td>01  ONE FAMILY HOMES</td>\n",
       "      <td>[, 01,   , ONE FAMILY HOMES]</td>\n",
       "    </tr>\n",
       "    <tr>\n",
       "      <th>26</th>\n",
       "      <td>01  ONE FAMILY HOMES</td>\n",
       "      <td>[, 01,   , ONE FAMILY HOMES]</td>\n",
       "    </tr>\n",
       "    <tr>\n",
       "      <th>27</th>\n",
       "      <td>01  ONE FAMILY HOMES</td>\n",
       "      <td>[, 01,   , ONE FAMILY HOMES]</td>\n",
       "    </tr>\n",
       "    <tr>\n",
       "      <th>28</th>\n",
       "      <td>01  ONE FAMILY HOMES</td>\n",
       "      <td>[, 01,   , ONE FAMILY HOMES]</td>\n",
       "    </tr>\n",
       "    <tr>\n",
       "      <th>30</th>\n",
       "      <td>01  ONE FAMILY HOMES</td>\n",
       "      <td>[, 01,   , ONE FAMILY HOMES]</td>\n",
       "    </tr>\n",
       "    <tr>\n",
       "      <th>31</th>\n",
       "      <td>01  ONE FAMILY HOMES</td>\n",
       "      <td>[, 01,   , ONE FAMILY HOMES]</td>\n",
       "    </tr>\n",
       "    <tr>\n",
       "      <th>32</th>\n",
       "      <td>01  ONE FAMILY HOMES</td>\n",
       "      <td>[, 01,   , ONE FAMILY HOMES]</td>\n",
       "    </tr>\n",
       "    <tr>\n",
       "      <th>33</th>\n",
       "      <td>01  ONE FAMILY HOMES</td>\n",
       "      <td>[, 01,   , ONE FAMILY HOMES]</td>\n",
       "    </tr>\n",
       "    <tr>\n",
       "      <th>34</th>\n",
       "      <td>01  ONE FAMILY HOMES</td>\n",
       "      <td>[, 01,   , ONE FAMILY HOMES]</td>\n",
       "    </tr>\n",
       "    <tr>\n",
       "      <th>36</th>\n",
       "      <td>01  ONE FAMILY HOMES</td>\n",
       "      <td>[, 01,   , ONE FAMILY HOMES]</td>\n",
       "    </tr>\n",
       "  </tbody>\n",
       "</table>\n",
       "</div>"
      ],
      "text/plain": [
       "                         building_class_category      building_class_category_\n",
       "25  01  ONE FAMILY HOMES                          [, 01,   , ONE FAMILY HOMES]\n",
       "26  01  ONE FAMILY HOMES                          [, 01,   , ONE FAMILY HOMES]\n",
       "27  01  ONE FAMILY HOMES                          [, 01,   , ONE FAMILY HOMES]\n",
       "28  01  ONE FAMILY HOMES                          [, 01,   , ONE FAMILY HOMES]\n",
       "30  01  ONE FAMILY HOMES                          [, 01,   , ONE FAMILY HOMES]\n",
       "31  01  ONE FAMILY HOMES                          [, 01,   , ONE FAMILY HOMES]\n",
       "32  01  ONE FAMILY HOMES                          [, 01,   , ONE FAMILY HOMES]\n",
       "33  01  ONE FAMILY HOMES                          [, 01,   , ONE FAMILY HOMES]\n",
       "34  01  ONE FAMILY HOMES                          [, 01,   , ONE FAMILY HOMES]\n",
       "36  01  ONE FAMILY HOMES                          [, 01,   , ONE FAMILY HOMES]"
      ]
     },
     "execution_count": 33,
     "metadata": {},
     "output_type": "execute_result"
    }
   ],
   "source": [
    "kkk = pd.DataFrame(data['building_class_category'])\n",
    "\n",
    "\n",
    "# (^\\s)|(\\s+)$\n",
    "# r'(\\s+)$' and r'(^\\S+)(\\s+)\n",
    "\n",
    "kkk['building_class_category_'] = kkk['building_class_category'].str.split(r'(\\s+)$', expand=True)[0].str.split(r'(^\\S+)(\\s+)')\n",
    "# kkk['_len'] = kkk['building_class_category'].str.len()\n",
    "# kkk['__len'] = kkk['building_class_category'].str.len()\n",
    "# kkk['__diff'] = kkk._len - kkk.__len\n",
    "\n",
    "\n",
    "kkk.head(10)\n",
    "# kkk[kkk.__diff > 0 ]\n",
    "# kkk[kkk.total_units == '']"
   ]
  },
  {
   "cell_type": "code",
   "execution_count": 34,
   "metadata": {},
   "outputs": [],
   "source": [
    "# whitespace at end\n",
    "# then, extract 01 and CONDOS - xyz part\n",
    "# 01 CONDOS - xyz klm   \n",
    "\n",
    "\n",
    "x['building_class'] = x['building_class_category'].str.split(r'(\\s+)$', expand=True)[0] \\\n",
    "                                                  .str.split(r'(^\\S+)(\\s+)', expand=True)[3]"
   ]
  },
  {
   "cell_type": "code",
   "execution_count": 35,
   "metadata": {},
   "outputs": [],
   "source": [
    "# 1253 records deleted\n",
    "\n",
    "x = x[x.building_class.notna()]"
   ]
  },
  {
   "cell_type": "code",
   "execution_count": 36,
   "metadata": {},
   "outputs": [
    {
     "data": {
      "text/plain": [
       "(54744, 53702)"
      ]
     },
     "execution_count": 36,
     "metadata": {},
     "output_type": "execute_result"
    }
   ],
   "source": [
    "len(data), len(x)"
   ]
  },
  {
   "cell_type": "code",
   "execution_count": 37,
   "metadata": {},
   "outputs": [
    {
     "data": {
      "text/html": [
       "<div>\n",
       "<style scoped>\n",
       "    .dataframe tbody tr th:only-of-type {\n",
       "        vertical-align: middle;\n",
       "    }\n",
       "\n",
       "    .dataframe tbody tr th {\n",
       "        vertical-align: top;\n",
       "    }\n",
       "\n",
       "    .dataframe thead th {\n",
       "        text-align: right;\n",
       "    }\n",
       "</style>\n",
       "<table border=\"1\" class=\"dataframe\">\n",
       "  <thead>\n",
       "    <tr style=\"text-align: right;\">\n",
       "      <th></th>\n",
       "      <th>neighborhood</th>\n",
       "      <th>building_class_category</th>\n",
       "      <th>tax_class_at_present</th>\n",
       "      <th>block</th>\n",
       "      <th>lot</th>\n",
       "      <th>easement</th>\n",
       "      <th>building_class_at_present</th>\n",
       "      <th>address</th>\n",
       "      <th>apartment_number</th>\n",
       "      <th>zipcode</th>\n",
       "      <th>residential_units</th>\n",
       "      <th>commercial_units</th>\n",
       "      <th>total_units</th>\n",
       "      <th>land_square_feet</th>\n",
       "      <th>gross_square_feet</th>\n",
       "      <th>year_built</th>\n",
       "      <th>tax_class_at_sale</th>\n",
       "      <th>building_class_at_sale</th>\n",
       "      <th>sale_price</th>\n",
       "      <th>sale_date</th>\n",
       "      <th>borough_name</th>\n",
       "      <th>building_class</th>\n",
       "    </tr>\n",
       "  </thead>\n",
       "  <tbody>\n",
       "    <tr>\n",
       "      <th>25</th>\n",
       "      <td>BATH BEACH</td>\n",
       "      <td>01  ONE FAMILY HOMES</td>\n",
       "      <td>1</td>\n",
       "      <td>6363</td>\n",
       "      <td>23</td>\n",
       "      <td></td>\n",
       "      <td>A9</td>\n",
       "      <td>8641 16TH AVENUE</td>\n",
       "      <td></td>\n",
       "      <td>11214</td>\n",
       "      <td>1</td>\n",
       "      <td>0</td>\n",
       "      <td>1</td>\n",
       "      <td>2,058</td>\n",
       "      <td>1,492</td>\n",
       "      <td>1930</td>\n",
       "      <td>1</td>\n",
       "      <td>A9</td>\n",
       "      <td>560000.0</td>\n",
       "      <td>2013-06-06</td>\n",
       "      <td>Brooklyn</td>\n",
       "      <td>ONE FAMILY HOMES</td>\n",
       "    </tr>\n",
       "    <tr>\n",
       "      <th>26</th>\n",
       "      <td>BATH BEACH</td>\n",
       "      <td>01  ONE FAMILY HOMES</td>\n",
       "      <td>1</td>\n",
       "      <td>6366</td>\n",
       "      <td>69</td>\n",
       "      <td></td>\n",
       "      <td>A1</td>\n",
       "      <td>8658 BAY 16TH   STREET</td>\n",
       "      <td></td>\n",
       "      <td>11214</td>\n",
       "      <td>1</td>\n",
       "      <td>0</td>\n",
       "      <td>1</td>\n",
       "      <td>4,833</td>\n",
       "      <td>1,724</td>\n",
       "      <td>1930</td>\n",
       "      <td>1</td>\n",
       "      <td>A1</td>\n",
       "      <td>860000.0</td>\n",
       "      <td>2012-12-18</td>\n",
       "      <td>Brooklyn</td>\n",
       "      <td>ONE FAMILY HOMES</td>\n",
       "    </tr>\n",
       "  </tbody>\n",
       "</table>\n",
       "</div>"
      ],
      "text/plain": [
       "   neighborhood                       building_class_category  \\\n",
       "25   BATH BEACH  01  ONE FAMILY HOMES                           \n",
       "26   BATH BEACH  01  ONE FAMILY HOMES                           \n",
       "\n",
       "   tax_class_at_present block lot easement building_class_at_present  \\\n",
       "25                    1  6363  23                                 A9   \n",
       "26                    1  6366  69                                 A1   \n",
       "\n",
       "                                        address apartment_number zipcode  \\\n",
       "25   8641 16TH AVENUE                                              11214   \n",
       "26   8658 BAY 16TH   STREET                                        11214   \n",
       "\n",
       "   residential_units commercial_units total_units land_square_feet  \\\n",
       "25                 1                0           1            2,058   \n",
       "26                 1                0           1            4,833   \n",
       "\n",
       "   gross_square_feet year_built tax_class_at_sale building_class_at_sale  \\\n",
       "25             1,492       1930                1                     A9    \n",
       "26             1,724       1930                1                     A1    \n",
       "\n",
       "    sale_price  sale_date borough_name    building_class  \n",
       "25    560000.0 2013-06-06     Brooklyn  ONE FAMILY HOMES  \n",
       "26    860000.0 2012-12-18     Brooklyn  ONE FAMILY HOMES  "
      ]
     },
     "execution_count": 37,
     "metadata": {},
     "output_type": "execute_result"
    }
   ],
   "source": [
    "x.head(2)"
   ]
  },
  {
   "cell_type": "code",
   "execution_count": 38,
   "metadata": {},
   "outputs": [
    {
     "name": "stderr",
     "output_type": "stream",
     "text": [
      "/usr/local/anaconda3/lib/python3.7/site-packages/pandas/core/frame.py:3940: SettingWithCopyWarning: \n",
      "A value is trying to be set on a copy of a slice from a DataFrame\n",
      "\n",
      "See the caveats in the documentation: http://pandas.pydata.org/pandas-docs/stable/indexing.html#indexing-view-versus-copy\n",
      "  errors=errors)\n"
     ]
    }
   ],
   "source": [
    "# eliminate after extraction\n",
    "x.drop(['building_class_category'], axis=1, inplace=True)"
   ]
  },
  {
   "cell_type": "code",
   "execution_count": 39,
   "metadata": {},
   "outputs": [
    {
     "data": {
      "text/plain": [
       "Index(['neighborhood', 'tax_class_at_present', 'block', 'lot', 'easement',\n",
       "       'building_class_at_present', 'address', 'apartment_number', 'zipcode',\n",
       "       'residential_units', 'commercial_units', 'total_units',\n",
       "       'land_square_feet', 'gross_square_feet', 'year_built',\n",
       "       'tax_class_at_sale', 'building_class_at_sale', 'sale_price',\n",
       "       'sale_date', 'borough_name', 'building_class'],\n",
       "      dtype='object')"
      ]
     },
     "execution_count": 39,
     "metadata": {},
     "output_type": "execute_result"
    }
   ],
   "source": [
    "x.columns"
   ]
  },
  {
   "cell_type": "code",
   "execution_count": 42,
   "metadata": {},
   "outputs": [
    {
     "data": {
      "text/plain": [
       "<matplotlib.axes._subplots.AxesSubplot at 0x1a23123ba8>"
      ]
     },
     "execution_count": 42,
     "metadata": {},
     "output_type": "execute_result"
    },
    {
     "data": {
      "image/png": "[encoded data removed]",
      "text/plain": [
       "<Figure size 432x288 with 1 Axes>"
      ]
     },
     "metadata": {},
     "output_type": "display_data"
    }
   ],
   "source": [
    "x.groupby('building_class').size().plot(kind='pie')"
   ]
  },
  {
   "cell_type": "code",
   "execution_count": 45,
   "metadata": {},
   "outputs": [],
   "source": [
    "# enrich\n",
    "\n",
    "y = x\n",
    "\n",
    "\n",
    "for m in building_class_mapping:\n",
    "    y.loc[y.building_class.str.contains(m), 'building_class_map'] = m\n",
    "\n",
    "\n",
    "# this keeps getting decreased, above lines increased\n",
    "y.loc[y.building_class_map.isna(), 'building_class_map'] = 'OTHER'"
   ]
  },
  {
   "cell_type": "code",
   "execution_count": 50,
   "metadata": {},
   "outputs": [
    {
     "data": {
      "text/plain": [
       "<matplotlib.axes._subplots.AxesSubplot at 0x1a22dc62b0>"
      ]
     },
     "execution_count": 50,
     "metadata": {},
     "output_type": "execute_result"
    },
    {
     "data": {
      "image/png": "[encoded data removed]",
      "text/plain": [
       "<Figure size 432x288 with 1 Axes>"
      ]
     },
     "metadata": {},
     "output_type": "display_data"
    }
   ],
   "source": [
    "\n",
    "y.groupby('building_class_map').size().plot(kind='pie')\n",
    "\n",
    "# len(data_enriched[data_enriched.building_class_map.notna()])\n",
    "# 20K records contains family, 15K+ apartment"
   ]
  },
  {
   "cell_type": "code",
   "execution_count": 58,
   "metadata": {},
   "outputs": [
    {
     "data": {
      "text/plain": [
       "<matplotlib.axes._subplots.AxesSubplot at 0x1a23117d68>"
      ]
     },
     "execution_count": 58,
     "metadata": {},
     "output_type": "execute_result"
    },
    {
     "data": {
      "image/png": "[encoded data removed]",
      "text/plain": [
       "<Figure size 432x288 with 1 Axes>"
      ]
     },
     "metadata": {
      "needs_background": "light"
     },
     "output_type": "display_data"
    }
   ],
   "source": [
    "y.groupby('building_class').size().sort_values(ascending=False).plot(kind='bar')"
   ]
  },
  {
   "cell_type": "code",
   "execution_count": 61,
   "metadata": {},
   "outputs": [
    {
     "data": {
      "text/plain": [
       "(53702, 53702)"
      ]
     },
     "execution_count": 61,
     "metadata": {},
     "output_type": "execute_result"
    }
   ],
   "source": [
    "len(data), len(x)"
   ]
  },
  {
   "cell_type": "code",
   "execution_count": 59,
   "metadata": {},
   "outputs": [],
   "source": [
    "data = y"
   ]
  },
  {
   "cell_type": "code",
   "execution_count": 60,
   "metadata": {},
   "outputs": [
    {
     "data": {
      "text/plain": [
       "53702"
      ]
     },
     "execution_count": 60,
     "metadata": {},
     "output_type": "execute_result"
    }
   ],
   "source": [
    "len(data)"
   ]
  },
  {
   "cell_type": "markdown",
   "metadata": {},
   "source": [
    "### tax_class_at_present, tax_class_at_sale"
   ]
  },
  {
   "cell_type": "code",
   "execution_count": null,
   "metadata": {},
   "outputs": [],
   "source": []
  },
  {
   "cell_type": "code",
   "execution_count": null,
   "metadata": {},
   "outputs": [],
   "source": []
  },
  {
   "cell_type": "code",
   "execution_count": null,
   "metadata": {},
   "outputs": [],
   "source": [
    "data_prepared = data_prepared[data_prepared.tax_class_at_present != '  '] #271 rows"
   ]
  },
  {
   "cell_type": "code",
   "execution_count": null,
   "metadata": {},
   "outputs": [],
   "source": []
  },
  {
   "cell_type": "code",
   "execution_count": null,
   "metadata": {},
   "outputs": [],
   "source": []
  },
  {
   "cell_type": "markdown",
   "metadata": {},
   "source": [
    "### block, lot, easement"
   ]
  },
  {
   "cell_type": "code",
   "execution_count": null,
   "metadata": {},
   "outputs": [],
   "source": [
    "raw_data.groupby('easement').size()\n",
    "\n",
    "# can be deleted"
   ]
  },
  {
   "cell_type": "code",
   "execution_count": null,
   "metadata": {},
   "outputs": [],
   "source": [
    "raw_data.groupby('block').size().plot()\n",
    "\n",
    "# it reads as numerical, but infact categorical\n",
    "# can be deleted"
   ]
  },
  {
   "cell_type": "code",
   "execution_count": null,
   "metadata": {},
   "outputs": [],
   "source": [
    "raw_data.groupby('lot').size().plot()\n",
    "\n",
    "# it reads as numerical, but infact categorical\n",
    "# can be deleted"
   ]
  },
  {
   "cell_type": "code",
   "execution_count": null,
   "metadata": {},
   "outputs": [],
   "source": []
  },
  {
   "cell_type": "markdown",
   "metadata": {},
   "source": [
    "### building_class_at_present, building_class_at_sale"
   ]
  },
  {
   "cell_type": "code",
   "execution_count": null,
   "metadata": {},
   "outputs": [],
   "source": []
  },
  {
   "cell_type": "code",
   "execution_count": null,
   "metadata": {},
   "outputs": [],
   "source": []
  },
  {
   "cell_type": "code",
   "execution_count": null,
   "metadata": {},
   "outputs": [],
   "source": [
    "raw_data.groupby('building_class_at_sale').size().sort_values(ascending=False).plot()"
   ]
  },
  {
   "cell_type": "code",
   "execution_count": null,
   "metadata": {},
   "outputs": [],
   "source": []
  },
  {
   "cell_type": "code",
   "execution_count": null,
   "metadata": {},
   "outputs": [],
   "source": []
  },
  {
   "cell_type": "code",
   "execution_count": null,
   "metadata": {},
   "outputs": [],
   "source": []
  },
  {
   "cell_type": "markdown",
   "metadata": {},
   "source": [
    "### address, apartment_number, zipcode"
   ]
  },
  {
   "cell_type": "code",
   "execution_count": null,
   "metadata": {},
   "outputs": [],
   "source": []
  },
  {
   "cell_type": "code",
   "execution_count": null,
   "metadata": {},
   "outputs": [],
   "source": []
  },
  {
   "cell_type": "code",
   "execution_count": null,
   "metadata": {},
   "outputs": [],
   "source": [
    "kkk = pd.DataFrame(raw_data['apartment_number'])\n",
    "\n",
    "kkk.groupby('apartment_number').size().sort_index().head(10)\n",
    "\n",
    "# 60K+ empty\n",
    "# nothing special\n",
    "# remove column"
   ]
  },
  {
   "cell_type": "code",
   "execution_count": null,
   "metadata": {},
   "outputs": [],
   "source": [
    "kkk = pd.DataFrame(raw_data['address'])\n",
    "\n",
    "\n",
    "# (^\\s)|(\\s+)$\n",
    "\n",
    "kkk['address_'] = kkk['address'].str.split(r'(^\\s)|(\\s+)$', expand=True)[3]\n",
    "kkk['address_len'] = kkk['address'].str.len()\n",
    "kkk['address__len'] = kkk['address_'].str.len()\n",
    "kkk['address__diff'] = kkk.address_len - kkk.address__len\n",
    "\n",
    "\n",
    "kkk.head()"
   ]
  },
  {
   "cell_type": "code",
   "execution_count": null,
   "metadata": {},
   "outputs": [],
   "source": []
  },
  {
   "cell_type": "code",
   "execution_count": null,
   "metadata": {},
   "outputs": [],
   "source": [
    "    \n",
    "#  white-spaces at the beginning, white-spaces at the end cleared\n",
    "#  b/w words, white-space remains \n",
    "raw_data['address_'] = raw_data['address'].str.split(r'(^\\s+)|(\\s+)$', expand=True)[3]"
   ]
  },
  {
   "cell_type": "code",
   "execution_count": null,
   "metadata": {},
   "outputs": [],
   "source": []
  },
  {
   "cell_type": "code",
   "execution_count": null,
   "metadata": {},
   "outputs": [],
   "source": []
  },
  {
   "cell_type": "markdown",
   "metadata": {},
   "source": [
    "### residential_units, commercial_units, total_units"
   ]
  },
  {
   "cell_type": "code",
   "execution_count": null,
   "metadata": {},
   "outputs": [],
   "source": [
    "raw_data[['residential_units', 'commercial_units', 'total_units']].head(20)\n",
    "\n",
    "# total = residental + commercial ?\n",
    "# if there are dif, can we set to commercial or we should delete  or we may use to create a dummy category ?\n",
    "# if total = 0 , what we should do?"
   ]
  },
  {
   "cell_type": "code",
   "execution_count": null,
   "metadata": {},
   "outputs": [],
   "source": []
  },
  {
   "cell_type": "code",
   "execution_count": null,
   "metadata": {},
   "outputs": [],
   "source": []
  },
  {
   "cell_type": "code",
   "execution_count": null,
   "metadata": {},
   "outputs": [],
   "source": [
    "raw_data['residential_units'] = raw_data['residential_units'].str.replace(r',', '')\n",
    "raw_data['commercial_units'] = raw_data['commercial_units'].str.replace(r',', '')\n",
    "raw_data['total_units'] = raw_data['total_units'].str.replace(r',', '')"
   ]
  },
  {
   "cell_type": "code",
   "execution_count": null,
   "metadata": {},
   "outputs": [],
   "source": []
  },
  {
   "cell_type": "code",
   "execution_count": 276,
   "metadata": {},
   "outputs": [
    {
     "data": {
      "text/plain": [
       "total_units\n",
       "1     25991\n",
       "0     16133\n",
       "2      8178\n",
       "3      2289\n",
       "4       612\n",
       "6       450\n",
       "5       323\n",
       "10      192\n",
       "8       182\n",
       "7       166\n",
       "dtype: int64"
      ]
     },
     "execution_count": 276,
     "metadata": {},
     "output_type": "execute_result"
    }
   ],
   "source": [
    "len(kkk[kkk.total_units.isna()])\n",
    "\n",
    "len(kkk[kkk.residential_units.isna()])\n",
    "\n",
    "kkk.groupby('total_units').size().sort_values(ascending=False).head(10)#.plot()\n",
    "\n",
    "kkk.groupby('commercial_units').size().sort_values(ascending=False).head(10)#.plot()"
   ]
  },
  {
   "cell_type": "code",
   "execution_count": 292,
   "metadata": {},
   "outputs": [
    {
     "data": {
      "text/plain": [
       "building_class_name\n",
       "ASYLUMS AND HOMES                             7\n",
       "COMMERCIAL CONDOS                           488\n",
       "COMMERCIAL GARAGES                          376\n",
       "COMMERCIAL VACANT LAND                      206\n",
       "CONDO-RENTALS                                 3\n",
       "CONDOPS                                      94\n",
       "CONDOS - 2-10 UNIT RESIDENTIAL              675\n",
       "CONDOS - 2-10 UNIT WITH COMMERCIAL UNIT      28\n",
       "CONDOS - ELEVATOR APARTMENTS               2870\n",
       "CONDOS - WALKUP APARTMENTS                  532\n",
       "COOPS - ELEVATOR APARTMENTS                2172\n",
       "COOPS - WALKUP APARTMENTS                   706\n",
       "EDUCATIONAL FACILITIES                       30\n",
       "FACTORIES                                   173\n",
       "HOSPITAL AND HEALTH FACILITIES               11\n",
       "INDOOR PUBLIC AND CULTURAL FACILITIES        11\n",
       "LOFT BUILDINGS                               12\n",
       "LUXURY HOTELS                                 2\n",
       "OFFICE BUILDINGS                            170\n",
       "ONE FAMILY HOMES                           6383\n",
       "OTHER HOTELS                                 11\n",
       "OUTDOOR RECREATIONAL FACILITIES               7\n",
       "RELIGIOUS FACILITIES                         39\n",
       "RENTALS - 4-10 UNIT                         435\n",
       "RENTALS - ELEVATOR APARTMENTS               117\n",
       "RENTALS - WALKUP APARTMENTS                1809\n",
       "SELECTED GOVERNMENTAL FACILITIES              5\n",
       "STORE BUILDINGS                             527\n",
       "TAX CLASS 1 - OTHER                          76\n",
       "TAX CLASS 1 CONDOS                          795\n",
       "TAX CLASS 1 VACANT LAND                     700\n",
       "TAX CLASS 3 - UTILITY PROPERTIES              3\n",
       "TAX CLASS 4 - OTHER                         115\n",
       "THEATRES                                      3\n",
       "THREE FAMILY HOMES                         2310\n",
       "TWO FAMILY HOMES                           7279\n",
       "WAREHOUSES                                  213\n",
       "dtype: int64"
      ]
     },
     "execution_count": 292,
     "metadata": {},
     "output_type": "execute_result"
    }
   ],
   "source": [
    "# we can set empty residential_units w/ means by building_class_name,\n",
    "# or we can cluster then, predict more meaningful values?\n",
    "\n",
    "xyz = raw_data[raw_data.residential_units.isna()]\n",
    "\n",
    "xyz.groupby('building_class_name').size()"
   ]
  },
  {
   "cell_type": "code",
   "execution_count": 344,
   "metadata": {},
   "outputs": [
    {
     "name": "stderr",
     "output_type": "stream",
     "text": [
      "/usr/local/anaconda3/lib/python3.7/site-packages/ipykernel_launcher.py:2: SettingWithCopyWarning: \n",
      "A value is trying to be set on a copy of a slice from a DataFrame.\n",
      "Try using .loc[row_indexer,col_indexer] = value instead\n",
      "\n",
      "See the caveats in the documentation: http://pandas.pydata.org/pandas-docs/stable/indexing.html#indexing-view-versus-copy\n",
      "  \n"
     ]
    },
    {
     "data": {
      "text/plain": [
       "building_class_name  residential_units\n",
       "ASYLUMS AND HOMES    0                       3\n",
       "                     2                       1\n",
       "                     40                      1\n",
       "                     65                      1\n",
       "COMMERCIAL CONDOS    0                    1194\n",
       "dtype: int64"
      ]
     },
     "execution_count": 344,
     "metadata": {},
     "output_type": "execute_result"
    }
   ],
   "source": [
    "xyz_notna = raw_data[raw_data.residential_units.notna()]\n",
    "xyz_notna['residential_units_'] = xyz_notna['residential_units'].astype(int)\n",
    "\n",
    "# xyz_notna = xyz_notna.groupby(['building_class_name']).mean().round()\n",
    "\n",
    "\n",
    "xyz_notna = xyz_notna.groupby(['building_class_name', 'residential_units']).size()\n",
    "\n",
    "xyz_notna.head(5)"
   ]
  },
  {
   "cell_type": "code",
   "execution_count": 426,
   "metadata": {},
   "outputs": [
    {
     "data": {
      "text/plain": [
       "borough                              object\n",
       "borough_name                         object\n",
       "neighborhood                         object\n",
       "building_class_category              object\n",
       "building_class                       object\n",
       "building_class_name                  object\n",
       "tax_class_at_present                 object\n",
       "tax_class_at_sale                    object\n",
       "block                                object\n",
       "lot                                  object\n",
       "easement                             object\n",
       "building_class_at_present            object\n",
       "building_class_at_sale               object\n",
       "address                              object\n",
       "address_                             object\n",
       "apartment_number                     object\n",
       "zipcode                              object\n",
       "residential_units                    object\n",
       "commercial_units                     object\n",
       "total_units                          object\n",
       "land_square_feet                      int64\n",
       "gross_square_feet                     int64\n",
       "year_built                           object\n",
       "sale_date                    datetime64[ns]\n",
       "sale_price                          float64\n",
       "dtype: object"
      ]
     },
     "execution_count": 426,
     "metadata": {},
     "output_type": "execute_result"
    }
   ],
   "source": [
    "raw_data.dtypes"
   ]
  },
  {
   "cell_type": "code",
   "execution_count": 431,
   "metadata": {},
   "outputs": [
    {
     "data": {
      "text/html": [
       "<div>\n",
       "<style scoped>\n",
       "    .dataframe tbody tr th:only-of-type {\n",
       "        vertical-align: middle;\n",
       "    }\n",
       "\n",
       "    .dataframe tbody tr th {\n",
       "        vertical-align: top;\n",
       "    }\n",
       "\n",
       "    .dataframe thead th {\n",
       "        text-align: right;\n",
       "    }\n",
       "</style>\n",
       "<table border=\"1\" class=\"dataframe\">\n",
       "  <thead>\n",
       "    <tr style=\"text-align: right;\">\n",
       "      <th></th>\n",
       "      <th>borough</th>\n",
       "      <th>borough_name</th>\n",
       "      <th>neighborhood</th>\n",
       "      <th>building_class_category</th>\n",
       "      <th>building_class</th>\n",
       "      <th>building_class_name</th>\n",
       "      <th>tax_class_at_present</th>\n",
       "      <th>tax_class_at_sale</th>\n",
       "      <th>block</th>\n",
       "      <th>lot</th>\n",
       "      <th>easement</th>\n",
       "      <th>building_class_at_present</th>\n",
       "      <th>building_class_at_sale</th>\n",
       "      <th>address</th>\n",
       "      <th>address_</th>\n",
       "      <th>apartment_number</th>\n",
       "      <th>zipcode</th>\n",
       "      <th>residential_units</th>\n",
       "      <th>commercial_units</th>\n",
       "      <th>total_units</th>\n",
       "      <th>land_square_feet</th>\n",
       "      <th>gross_square_feet</th>\n",
       "      <th>year_built</th>\n",
       "      <th>sale_date</th>\n",
       "      <th>sale_price</th>\n",
       "    </tr>\n",
       "  </thead>\n",
       "  <tbody>\n",
       "    <tr>\n",
       "      <th>count</th>\n",
       "      <td>85975</td>\n",
       "      <td>85975</td>\n",
       "      <td>85975</td>\n",
       "      <td>85975</td>\n",
       "      <td>81771</td>\n",
       "      <td>81771</td>\n",
       "      <td>85975</td>\n",
       "      <td>85975</td>\n",
       "      <td>85975</td>\n",
       "      <td>85975</td>\n",
       "      <td>85975</td>\n",
       "      <td>85975</td>\n",
       "      <td>85975</td>\n",
       "      <td>85975</td>\n",
       "      <td>85975</td>\n",
       "      <td>85975</td>\n",
       "      <td>85975</td>\n",
       "      <td>85975</td>\n",
       "      <td>85975</td>\n",
       "      <td>85975</td>\n",
       "      <td>8.597500e+04</td>\n",
       "      <td>8.597500e+04</td>\n",
       "      <td>85975</td>\n",
       "      <td>85975</td>\n",
       "      <td>8.597500e+04</td>\n",
       "    </tr>\n",
       "    <tr>\n",
       "      <th>unique</th>\n",
       "      <td>5</td>\n",
       "      <td>5</td>\n",
       "      <td>257</td>\n",
       "      <td>40</td>\n",
       "      <td>39</td>\n",
       "      <td>39</td>\n",
       "      <td>11</td>\n",
       "      <td>5</td>\n",
       "      <td>11043</td>\n",
       "      <td>2496</td>\n",
       "      <td>2</td>\n",
       "      <td>170</td>\n",
       "      <td>170</td>\n",
       "      <td>63419</td>\n",
       "      <td>63419</td>\n",
       "      <td>4492</td>\n",
       "      <td>185</td>\n",
       "      <td>178</td>\n",
       "      <td>63</td>\n",
       "      <td>187</td>\n",
       "      <td>NaN</td>\n",
       "      <td>NaN</td>\n",
       "      <td>160</td>\n",
       "      <td>386</td>\n",
       "      <td>NaN</td>\n",
       "    </tr>\n",
       "    <tr>\n",
       "      <th>top</th>\n",
       "      <td>1</td>\n",
       "      <td>Manhattan</td>\n",
       "      <td>MIDTOWN WEST</td>\n",
       "      <td>01  ONE FAMILY HOMES</td>\n",
       "      <td>01</td>\n",
       "      <td>ONE FAMILY HOMES</td>\n",
       "      <td>2</td>\n",
       "      <td>2</td>\n",
       "      <td>1027</td>\n",
       "      <td>1</td>\n",
       "      <td></td>\n",
       "      <td>D4</td>\n",
       "      <td>D4</td>\n",
       "      <td>870 7 AVENUE</td>\n",
       "      <td>870 7 AVENUE</td>\n",
       "      <td></td>\n",
       "      <td>10019</td>\n",
       "      <td>1</td>\n",
       "      <td>0</td>\n",
       "      <td>1</td>\n",
       "      <td>NaN</td>\n",
       "      <td>NaN</td>\n",
       "      <td>0</td>\n",
       "      <td>2012-09-27 00:00:00</td>\n",
       "      <td>NaN</td>\n",
       "    </tr>\n",
       "    <tr>\n",
       "      <th>freq</th>\n",
       "      <td>27395</td>\n",
       "      <td>27395</td>\n",
       "      <td>6264</td>\n",
       "      <td>14846</td>\n",
       "      <td>14846</td>\n",
       "      <td>14846</td>\n",
       "      <td>32899</td>\n",
       "      <td>38662</td>\n",
       "      <td>2735</td>\n",
       "      <td>4015</td>\n",
       "      <td>85973</td>\n",
       "      <td>13461</td>\n",
       "      <td>13461</td>\n",
       "      <td>2087</td>\n",
       "      <td>2087</td>\n",
       "      <td>63830</td>\n",
       "      <td>6193</td>\n",
       "      <td>31393</td>\n",
       "      <td>77358</td>\n",
       "      <td>38672</td>\n",
       "      <td>NaN</td>\n",
       "      <td>NaN</td>\n",
       "      <td>11782</td>\n",
       "      <td>988</td>\n",
       "      <td>NaN</td>\n",
       "    </tr>\n",
       "    <tr>\n",
       "      <th>first</th>\n",
       "      <td>NaN</td>\n",
       "      <td>NaN</td>\n",
       "      <td>NaN</td>\n",
       "      <td>NaN</td>\n",
       "      <td>NaN</td>\n",
       "      <td>NaN</td>\n",
       "      <td>NaN</td>\n",
       "      <td>NaN</td>\n",
       "      <td>NaN</td>\n",
       "      <td>NaN</td>\n",
       "      <td>NaN</td>\n",
       "      <td>NaN</td>\n",
       "      <td>NaN</td>\n",
       "      <td>NaN</td>\n",
       "      <td>NaN</td>\n",
       "      <td>NaN</td>\n",
       "      <td>NaN</td>\n",
       "      <td>NaN</td>\n",
       "      <td>NaN</td>\n",
       "      <td>NaN</td>\n",
       "      <td>NaN</td>\n",
       "      <td>NaN</td>\n",
       "      <td>NaN</td>\n",
       "      <td>2012-08-01 00:00:00</td>\n",
       "      <td>NaN</td>\n",
       "    </tr>\n",
       "    <tr>\n",
       "      <th>last</th>\n",
       "      <td>NaN</td>\n",
       "      <td>NaN</td>\n",
       "      <td>NaN</td>\n",
       "      <td>NaN</td>\n",
       "      <td>NaN</td>\n",
       "      <td>NaN</td>\n",
       "      <td>NaN</td>\n",
       "      <td>NaN</td>\n",
       "      <td>NaN</td>\n",
       "      <td>NaN</td>\n",
       "      <td>NaN</td>\n",
       "      <td>NaN</td>\n",
       "      <td>NaN</td>\n",
       "      <td>NaN</td>\n",
       "      <td>NaN</td>\n",
       "      <td>NaN</td>\n",
       "      <td>NaN</td>\n",
       "      <td>NaN</td>\n",
       "      <td>NaN</td>\n",
       "      <td>NaN</td>\n",
       "      <td>NaN</td>\n",
       "      <td>NaN</td>\n",
       "      <td>NaN</td>\n",
       "      <td>2013-08-26 00:00:00</td>\n",
       "      <td>NaN</td>\n",
       "    </tr>\n",
       "    <tr>\n",
       "      <th>mean</th>\n",
       "      <td>NaN</td>\n",
       "      <td>NaN</td>\n",
       "      <td>NaN</td>\n",
       "      <td>NaN</td>\n",
       "      <td>NaN</td>\n",
       "      <td>NaN</td>\n",
       "      <td>NaN</td>\n",
       "      <td>NaN</td>\n",
       "      <td>NaN</td>\n",
       "      <td>NaN</td>\n",
       "      <td>NaN</td>\n",
       "      <td>NaN</td>\n",
       "      <td>NaN</td>\n",
       "      <td>NaN</td>\n",
       "      <td>NaN</td>\n",
       "      <td>NaN</td>\n",
       "      <td>NaN</td>\n",
       "      <td>NaN</td>\n",
       "      <td>NaN</td>\n",
       "      <td>NaN</td>\n",
       "      <td>3.085275e+03</td>\n",
       "      <td>5.049742e+03</td>\n",
       "      <td>NaN</td>\n",
       "      <td>NaN</td>\n",
       "      <td>8.850979e+05</td>\n",
       "    </tr>\n",
       "    <tr>\n",
       "      <th>std</th>\n",
       "      <td>NaN</td>\n",
       "      <td>NaN</td>\n",
       "      <td>NaN</td>\n",
       "      <td>NaN</td>\n",
       "      <td>NaN</td>\n",
       "      <td>NaN</td>\n",
       "      <td>NaN</td>\n",
       "      <td>NaN</td>\n",
       "      <td>NaN</td>\n",
       "      <td>NaN</td>\n",
       "      <td>NaN</td>\n",
       "      <td>NaN</td>\n",
       "      <td>NaN</td>\n",
       "      <td>NaN</td>\n",
       "      <td>NaN</td>\n",
       "      <td>NaN</td>\n",
       "      <td>NaN</td>\n",
       "      <td>NaN</td>\n",
       "      <td>NaN</td>\n",
       "      <td>NaN</td>\n",
       "      <td>5.501497e+04</td>\n",
       "      <td>2.836546e+04</td>\n",
       "      <td>NaN</td>\n",
       "      <td>NaN</td>\n",
       "      <td>9.424213e+06</td>\n",
       "    </tr>\n",
       "    <tr>\n",
       "      <th>min</th>\n",
       "      <td>NaN</td>\n",
       "      <td>NaN</td>\n",
       "      <td>NaN</td>\n",
       "      <td>NaN</td>\n",
       "      <td>NaN</td>\n",
       "      <td>NaN</td>\n",
       "      <td>NaN</td>\n",
       "      <td>NaN</td>\n",
       "      <td>NaN</td>\n",
       "      <td>NaN</td>\n",
       "      <td>NaN</td>\n",
       "      <td>NaN</td>\n",
       "      <td>NaN</td>\n",
       "      <td>NaN</td>\n",
       "      <td>NaN</td>\n",
       "      <td>NaN</td>\n",
       "      <td>NaN</td>\n",
       "      <td>NaN</td>\n",
       "      <td>NaN</td>\n",
       "      <td>NaN</td>\n",
       "      <td>0.000000e+00</td>\n",
       "      <td>0.000000e+00</td>\n",
       "      <td>NaN</td>\n",
       "      <td>NaN</td>\n",
       "      <td>0.000000e+00</td>\n",
       "    </tr>\n",
       "    <tr>\n",
       "      <th>25%</th>\n",
       "      <td>NaN</td>\n",
       "      <td>NaN</td>\n",
       "      <td>NaN</td>\n",
       "      <td>NaN</td>\n",
       "      <td>NaN</td>\n",
       "      <td>NaN</td>\n",
       "      <td>NaN</td>\n",
       "      <td>NaN</td>\n",
       "      <td>NaN</td>\n",
       "      <td>NaN</td>\n",
       "      <td>NaN</td>\n",
       "      <td>NaN</td>\n",
       "      <td>NaN</td>\n",
       "      <td>NaN</td>\n",
       "      <td>NaN</td>\n",
       "      <td>NaN</td>\n",
       "      <td>NaN</td>\n",
       "      <td>NaN</td>\n",
       "      <td>NaN</td>\n",
       "      <td>NaN</td>\n",
       "      <td>0.000000e+00</td>\n",
       "      <td>0.000000e+00</td>\n",
       "      <td>NaN</td>\n",
       "      <td>NaN</td>\n",
       "      <td>0.000000e+00</td>\n",
       "    </tr>\n",
       "    <tr>\n",
       "      <th>50%</th>\n",
       "      <td>NaN</td>\n",
       "      <td>NaN</td>\n",
       "      <td>NaN</td>\n",
       "      <td>NaN</td>\n",
       "      <td>NaN</td>\n",
       "      <td>NaN</td>\n",
       "      <td>NaN</td>\n",
       "      <td>NaN</td>\n",
       "      <td>NaN</td>\n",
       "      <td>NaN</td>\n",
       "      <td>NaN</td>\n",
       "      <td>NaN</td>\n",
       "      <td>NaN</td>\n",
       "      <td>NaN</td>\n",
       "      <td>NaN</td>\n",
       "      <td>NaN</td>\n",
       "      <td>NaN</td>\n",
       "      <td>NaN</td>\n",
       "      <td>NaN</td>\n",
       "      <td>NaN</td>\n",
       "      <td>1.512000e+03</td>\n",
       "      <td>6.500000e+02</td>\n",
       "      <td>NaN</td>\n",
       "      <td>NaN</td>\n",
       "      <td>2.600000e+05</td>\n",
       "    </tr>\n",
       "    <tr>\n",
       "      <th>75%</th>\n",
       "      <td>NaN</td>\n",
       "      <td>NaN</td>\n",
       "      <td>NaN</td>\n",
       "      <td>NaN</td>\n",
       "      <td>NaN</td>\n",
       "      <td>NaN</td>\n",
       "      <td>NaN</td>\n",
       "      <td>NaN</td>\n",
       "      <td>NaN</td>\n",
       "      <td>NaN</td>\n",
       "      <td>NaN</td>\n",
       "      <td>NaN</td>\n",
       "      <td>NaN</td>\n",
       "      <td>NaN</td>\n",
       "      <td>NaN</td>\n",
       "      <td>NaN</td>\n",
       "      <td>NaN</td>\n",
       "      <td>NaN</td>\n",
       "      <td>NaN</td>\n",
       "      <td>NaN</td>\n",
       "      <td>2.625000e+03</td>\n",
       "      <td>2.344000e+03</td>\n",
       "      <td>NaN</td>\n",
       "      <td>NaN</td>\n",
       "      <td>6.200000e+05</td>\n",
       "    </tr>\n",
       "    <tr>\n",
       "      <th>max</th>\n",
       "      <td>NaN</td>\n",
       "      <td>NaN</td>\n",
       "      <td>NaN</td>\n",
       "      <td>NaN</td>\n",
       "      <td>NaN</td>\n",
       "      <td>NaN</td>\n",
       "      <td>NaN</td>\n",
       "      <td>NaN</td>\n",
       "      <td>NaN</td>\n",
       "      <td>NaN</td>\n",
       "      <td>NaN</td>\n",
       "      <td>NaN</td>\n",
       "      <td>NaN</td>\n",
       "      <td>NaN</td>\n",
       "      <td>NaN</td>\n",
       "      <td>NaN</td>\n",
       "      <td>NaN</td>\n",
       "      <td>NaN</td>\n",
       "      <td>NaN</td>\n",
       "      <td>NaN</td>\n",
       "      <td>7.446955e+06</td>\n",
       "      <td>2.548000e+06</td>\n",
       "      <td>NaN</td>\n",
       "      <td>NaN</td>\n",
       "      <td>1.307965e+09</td>\n",
       "    </tr>\n",
       "  </tbody>\n",
       "</table>\n",
       "</div>"
      ],
      "text/plain": [
       "       borough borough_name  neighborhood  \\\n",
       "count    85975        85975         85975   \n",
       "unique       5            5           257   \n",
       "top          1    Manhattan  MIDTOWN WEST   \n",
       "freq     27395        27395          6264   \n",
       "first      NaN          NaN           NaN   \n",
       "last       NaN          NaN           NaN   \n",
       "mean       NaN          NaN           NaN   \n",
       "std        NaN          NaN           NaN   \n",
       "min        NaN          NaN           NaN   \n",
       "25%        NaN          NaN           NaN   \n",
       "50%        NaN          NaN           NaN   \n",
       "75%        NaN          NaN           NaN   \n",
       "max        NaN          NaN           NaN   \n",
       "\n",
       "                             building_class_category building_class  \\\n",
       "count                                          85975          81771   \n",
       "unique                                            40             39   \n",
       "top     01  ONE FAMILY HOMES                                     01   \n",
       "freq                                           14846          14846   \n",
       "first                                            NaN            NaN   \n",
       "last                                             NaN            NaN   \n",
       "mean                                             NaN            NaN   \n",
       "std                                              NaN            NaN   \n",
       "min                                              NaN            NaN   \n",
       "25%                                              NaN            NaN   \n",
       "50%                                              NaN            NaN   \n",
       "75%                                              NaN            NaN   \n",
       "max                                              NaN            NaN   \n",
       "\n",
       "       building_class_name tax_class_at_present tax_class_at_sale  block  \\\n",
       "count                81771                85975             85975  85975   \n",
       "unique                  39                   11                 5  11043   \n",
       "top       ONE FAMILY HOMES                    2                2    1027   \n",
       "freq                 14846                32899             38662   2735   \n",
       "first                  NaN                  NaN               NaN    NaN   \n",
       "last                   NaN                  NaN               NaN    NaN   \n",
       "mean                   NaN                  NaN               NaN    NaN   \n",
       "std                    NaN                  NaN               NaN    NaN   \n",
       "min                    NaN                  NaN               NaN    NaN   \n",
       "25%                    NaN                  NaN               NaN    NaN   \n",
       "50%                    NaN                  NaN               NaN    NaN   \n",
       "75%                    NaN                  NaN               NaN    NaN   \n",
       "max                    NaN                  NaN               NaN    NaN   \n",
       "\n",
       "          lot easement building_class_at_present building_class_at_sale  \\\n",
       "count   85975    85975                     85975                  85975   \n",
       "unique   2496        2                       170                    170   \n",
       "top         1                                 D4                    D4    \n",
       "freq     4015    85973                     13461                  13461   \n",
       "first     NaN      NaN                       NaN                    NaN   \n",
       "last      NaN      NaN                       NaN                    NaN   \n",
       "mean      NaN      NaN                       NaN                    NaN   \n",
       "std       NaN      NaN                       NaN                    NaN   \n",
       "min       NaN      NaN                       NaN                    NaN   \n",
       "25%       NaN      NaN                       NaN                    NaN   \n",
       "50%       NaN      NaN                       NaN                    NaN   \n",
       "75%       NaN      NaN                       NaN                    NaN   \n",
       "max       NaN      NaN                       NaN                    NaN   \n",
       "\n",
       "                                            address      address_  \\\n",
       "count                                         85975         85975   \n",
       "unique                                        63419         63419   \n",
       "top      870 7 AVENUE                                870 7 AVENUE   \n",
       "freq                                           2087          2087   \n",
       "first                                           NaN           NaN   \n",
       "last                                            NaN           NaN   \n",
       "mean                                            NaN           NaN   \n",
       "std                                             NaN           NaN   \n",
       "min                                             NaN           NaN   \n",
       "25%                                             NaN           NaN   \n",
       "50%                                             NaN           NaN   \n",
       "75%                                             NaN           NaN   \n",
       "max                                             NaN           NaN   \n",
       "\n",
       "       apartment_number zipcode residential_units commercial_units  \\\n",
       "count             85975   85975             85975            85975   \n",
       "unique             4492     185               178               63   \n",
       "top                       10019                 1                0   \n",
       "freq              63830    6193             31393            77358   \n",
       "first               NaN     NaN               NaN              NaN   \n",
       "last                NaN     NaN               NaN              NaN   \n",
       "mean                NaN     NaN               NaN              NaN   \n",
       "std                 NaN     NaN               NaN              NaN   \n",
       "min                 NaN     NaN               NaN              NaN   \n",
       "25%                 NaN     NaN               NaN              NaN   \n",
       "50%                 NaN     NaN               NaN              NaN   \n",
       "75%                 NaN     NaN               NaN              NaN   \n",
       "max                 NaN     NaN               NaN              NaN   \n",
       "\n",
       "       total_units  land_square_feet  gross_square_feet year_built  \\\n",
       "count        85975      8.597500e+04       8.597500e+04      85975   \n",
       "unique         187               NaN                NaN        160   \n",
       "top              1               NaN                NaN          0   \n",
       "freq         38672               NaN                NaN      11782   \n",
       "first          NaN               NaN                NaN        NaN   \n",
       "last           NaN               NaN                NaN        NaN   \n",
       "mean           NaN      3.085275e+03       5.049742e+03        NaN   \n",
       "std            NaN      5.501497e+04       2.836546e+04        NaN   \n",
       "min            NaN      0.000000e+00       0.000000e+00        NaN   \n",
       "25%            NaN      0.000000e+00       0.000000e+00        NaN   \n",
       "50%            NaN      1.512000e+03       6.500000e+02        NaN   \n",
       "75%            NaN      2.625000e+03       2.344000e+03        NaN   \n",
       "max            NaN      7.446955e+06       2.548000e+06        NaN   \n",
       "\n",
       "                  sale_date    sale_price  \n",
       "count                 85975  8.597500e+04  \n",
       "unique                  386           NaN  \n",
       "top     2012-09-27 00:00:00           NaN  \n",
       "freq                    988           NaN  \n",
       "first   2012-08-01 00:00:00           NaN  \n",
       "last    2013-08-26 00:00:00           NaN  \n",
       "mean                    NaN  8.850979e+05  \n",
       "std                     NaN  9.424213e+06  \n",
       "min                     NaN  0.000000e+00  \n",
       "25%                     NaN  0.000000e+00  \n",
       "50%                     NaN  2.600000e+05  \n",
       "75%                     NaN  6.200000e+05  \n",
       "max                     NaN  1.307965e+09  "
      ]
     },
     "execution_count": 431,
     "metadata": {},
     "output_type": "execute_result"
    }
   ],
   "source": [
    "raw_data.describe(include='all')"
   ]
  },
  {
   "cell_type": "code",
   "execution_count": 428,
   "metadata": {},
   "outputs": [
    {
     "data": {
      "text/plain": [
       "0    NaN\n",
       "1    NaN\n",
       "2    NaN\n",
       "3    NaN\n",
       "4    NaN\n",
       "5    NaN\n",
       "6    NaN\n",
       "7    NaN\n",
       "8    NaN\n",
       "9    NaN\n",
       "Name: borough_name, dtype: object"
      ]
     },
     "execution_count": 428,
     "metadata": {},
     "output_type": "execute_result"
    }
   ],
   "source": [
    "raw_data.borough_name.head(10)"
   ]
  },
  {
   "cell_type": "code",
   "execution_count": null,
   "metadata": {},
   "outputs": [],
   "source": []
  },
  {
   "cell_type": "markdown",
   "metadata": {},
   "source": [
    "### land_square_feet, gross_square_feet"
   ]
  },
  {
   "cell_type": "code",
   "execution_count": null,
   "metadata": {},
   "outputs": [],
   "source": [
    "\n",
    "for col in ('land_square_feet', 'gross_square_feet'):\n",
    "    raw_data[col] = raw_data[col].str.replace(r',', '').astype(int)"
   ]
  },
  {
   "cell_type": "code",
   "execution_count": null,
   "metadata": {},
   "outputs": [],
   "source": []
  },
  {
   "cell_type": "markdown",
   "metadata": {},
   "source": [
    "### end of cleansing"
   ]
  },
  {
   "cell_type": "code",
   "execution_count": null,
   "metadata": {},
   "outputs": [],
   "source": [
    "# change column names' order\n",
    "data_cleaned = data[['borough', 'borough_name' , 'neighborhood',\n",
    "                     'building_class_category', 'building_class', 'building_class_name',\n",
    "                     'tax_class_at_present', 'tax_class_at_sale', \n",
    "                     'block', 'lot', 'easement','building_class_at_present', 'building_class_at_sale', \n",
    "                     'address', 'address_', 'apartment_number','zipcode',\n",
    "                     'residential_units', 'commercial_units', 'total_units',\n",
    "                     'land_square_feet', 'gross_square_feet', \n",
    "                     'year_built','sale_date', 'sale_price']]\n",
    "\n",
    "data_cleaned.head(2)"
   ]
  },
  {
   "cell_type": "code",
   "execution_count": null,
   "metadata": {},
   "outputs": [],
   "source": []
  },
  {
   "cell_type": "code",
   "execution_count": null,
   "metadata": {},
   "outputs": [],
   "source": []
  },
  {
   "cell_type": "code",
   "execution_count": null,
   "metadata": {},
   "outputs": [],
   "source": []
  },
  {
   "cell_type": "code",
   "execution_count": null,
   "metadata": {},
   "outputs": [],
   "source": []
  },
  {
   "cell_type": "code",
   "execution_count": null,
   "metadata": {},
   "outputs": [],
   "source": []
  },
  {
   "cell_type": "markdown",
   "metadata": {},
   "source": [
    "## Export OUTPUT file"
   ]
  },
  {
   "cell_type": "code",
   "execution_count": 195,
   "metadata": {},
   "outputs": [],
   "source": [
    "data_prepared.drop(['borough', 'building_class_category', 'building_class',\n",
    "                    'block', 'lot',\n",
    "                    'easement', \n",
    "                    'address', 'apartment_number', \n",
    "                    'tax_class_at_sale', 'building_class_at_sale'], \\\n",
    "                  axis=1, \\\n",
    "                  inplace=True)"
   ]
  },
  {
   "cell_type": "code",
   "execution_count": 196,
   "metadata": {},
   "outputs": [
    {
     "data": {
      "text/plain": [
       "borough_name                         object\n",
       "neighborhood                         object\n",
       "building_class_name                  object\n",
       "tax_class_at_present                 object\n",
       "building_class_at_present            object\n",
       "address_                             object\n",
       "zipcode                               int64\n",
       "residential_units                    object\n",
       "commercial_units                     object\n",
       "total_units                          object\n",
       "land_square_feet                      int64\n",
       "gross_square_feet                     int64\n",
       "year_built                            int64\n",
       "sale_date                    datetime64[ns]\n",
       "sale_price                          float64\n",
       "dtype: object"
      ]
     },
     "execution_count": 196,
     "metadata": {},
     "output_type": "execute_result"
    }
   ],
   "source": [
    "data_prepared.dtypes"
   ]
  },
  {
   "cell_type": "markdown",
   "metadata": {},
   "source": [
    "## outliers esp. for numerical features \n",
    "\n",
    "- **data_cleaned** is the outcome data frame"
   ]
  },
  {
   "cell_type": "code",
   "execution_count": 188,
   "metadata": {},
   "outputs": [
    {
     "data": {
      "text/plain": [
       "55568"
      ]
     },
     "execution_count": 188,
     "metadata": {},
     "output_type": "execute_result"
    }
   ],
   "source": [
    "len(data_prepared)"
   ]
  },
  {
   "cell_type": "code",
   "execution_count": 201,
   "metadata": {},
   "outputs": [
    {
     "data": {
      "text/plain": [
       "(29311, 24880, 24119, <matplotlib.axes._subplots.AxesSubplot at 0x1a31fbda58>)"
      ]
     },
     "execution_count": 201,
     "metadata": {},
     "output_type": "execute_result"
    },
    {
     "data": {
      "image/png": "[encoded data removed]",
      "text/plain": [
       "<Figure size 432x288 with 1 Axes>"
      ]
     },
     "metadata": {
      "needs_background": "light"
     },
     "output_type": "display_data"
    }
   ],
   "source": [
    "# below type plotting, x axis contains dump values !!!!\n",
    "\n",
    "outliers = data\n",
    "\n",
    "x = outliers[outliers.gross_square_feet == 0]\n",
    "y = outliers[(outliers.gross_square_feet > 0) & (outliers.gross_square_feet <= 100000)]\n",
    "\n",
    "z = outliers[(outliers.gross_square_feet > 0) & (outliers.gross_square_feet <= 20000)]\n",
    "\n",
    "len(x), len(y), len(z), outliers.gross_square_feet.plot()\n",
    "\n",
    "# gross_square_feet>500K seems outliers! or >20K (seems much better)"
   ]
  },
  {
   "cell_type": "code",
   "execution_count": 202,
   "metadata": {
    "scrolled": false
   },
   "outputs": [
    {
     "data": {
      "text/plain": [
       "<matplotlib.axes._subplots.AxesSubplot at 0x1a3201de10>"
      ]
     },
     "execution_count": 202,
     "metadata": {},
     "output_type": "execute_result"
    },
    {
     "data": {
      "image/png": "[encoded data removed]",
      "text/plain": [
       "<Figure size 432x288 with 1 Axes>"
      ]
     },
     "metadata": {
      "needs_background": "light"
     },
     "output_type": "display_data"
    }
   ],
   "source": [
    "z.gross_square_feet.plot.hist(bins=100)"
   ]
  },
  {
   "cell_type": "code",
   "execution_count": 235,
   "metadata": {},
   "outputs": [
    {
     "data": {
      "text/plain": [
       "(0,\n",
       " 55544,\n",
       " 55353,\n",
       " 51593,\n",
       " 50462,\n",
       " <matplotlib.axes._subplots.AxesSubplot at 0x1a4d709f98>)"
      ]
     },
     "execution_count": 235,
     "metadata": {},
     "output_type": "execute_result"
    },
    {
     "data": {
      "image/png": "[encoded data removed]",
      "text/plain": [
       "<Figure size 432x288 with 1 Axes>"
      ]
     },
     "metadata": {
      "needs_background": "light"
     },
     "output_type": "display_data"
    }
   ],
   "source": [
    "x = outliers[outliers.sale_price == 0]\n",
    "\n",
    "y = outliers[outliers.sale_price <= 200000000]\n",
    "\n",
    "z = outliers[outliers.sale_price <= 25000000]\n",
    "k = outliers[outliers.sale_price <= 2500000]  # still covers most of the rows :)\n",
    "\n",
    "m = outliers[outliers.sale_price <= 2000000]  # still covers most of the rows :)\n",
    "\n",
    "len(x), len(y), len(z), len(k), len(m), outliers.sale_price.plot()\n",
    "\n",
    "# data contains >0 sale_price, but it seems we also elimine under some values?\n",
    "\n",
    "# over sale_price>2M usd seems outliers !\n",
    "# or we may also create a category column depending sales_price (< 1M, ..., >200M and <500M, >500M, >900M ...)"
   ]
  },
  {
   "cell_type": "code",
   "execution_count": 242,
   "metadata": {},
   "outputs": [
    {
     "data": {
      "text/plain": [
       "<matplotlib.axes._subplots.AxesSubplot at 0x1a4d4567b8>"
      ]
     },
     "execution_count": 242,
     "metadata": {},
     "output_type": "execute_result"
    },
    {
     "data": {
      "image/png": "[encoded data removed]",
      "text/plain": [
       "<Figure size 432x288 with 1 Axes>"
      ]
     },
     "metadata": {
      "needs_background": "light"
     },
     "output_type": "display_data"
    }
   ],
   "source": [
    "m.sale_price.plot.hist(bins=100)"
   ]
  },
  {
   "cell_type": "code",
   "execution_count": null,
   "metadata": {},
   "outputs": [],
   "source": []
  },
  {
   "cell_type": "code",
   "execution_count": null,
   "metadata": {},
   "outputs": [],
   "source": []
  },
  {
   "cell_type": "code",
   "execution_count": 245,
   "metadata": {},
   "outputs": [
    {
     "data": {
      "text/plain": [
       "22627"
      ]
     },
     "execution_count": 245,
     "metadata": {},
     "output_type": "execute_result"
    }
   ],
   "source": [
    "data_cleaned = data_prepared\n",
    "\n",
    "data_cleaned = data_cleaned[(data_cleaned.gross_square_feet > 0) & (data_cleaned.gross_square_feet <= 20000)]\n",
    "\n",
    "data_cleaned = data_cleaned[(data_cleaned.sale_price < 2000000)]\n",
    "\n",
    "len(data_cleaned)"
   ]
  },
  {
   "cell_type": "code",
   "execution_count": 251,
   "metadata": {},
   "outputs": [
    {
     "data": {
      "text/plain": [
       "array([[<matplotlib.axes._subplots.AxesSubplot object at 0x1a504cd240>,\n",
       "        <matplotlib.axes._subplots.AxesSubplot object at 0x1a50526978>],\n",
       "       [<matplotlib.axes._subplots.AxesSubplot object at 0x1a505b2fd0>,\n",
       "        <matplotlib.axes._subplots.AxesSubplot object at 0x1a505df668>],\n",
       "       [<matplotlib.axes._subplots.AxesSubplot object at 0x1a50607cc0>,\n",
       "        <matplotlib.axes._subplots.AxesSubplot object at 0x1a50639358>]],\n",
       "      dtype=object)"
      ]
     },
     "execution_count": 251,
     "metadata": {},
     "output_type": "execute_result"
    },
    {
     "data": {
      "image/png": "[encoded data removed]",
      "text/plain": [
       "<Figure size 432x288 with 6 Axes>"
      ]
     },
     "metadata": {
      "needs_background": "light"
     },
     "output_type": "display_data"
    }
   ],
   "source": [
    "data_cleaned.hist()"
   ]
  },
  {
   "cell_type": "markdown",
   "metadata": {},
   "source": [
    "## Enrichment etc..\n",
    "\n",
    "- read OUTPUT data as **data_prepared** generated above\n",
    "\n",
    "#### Problem w/ features\n",
    "we have \n",
    "- so many **categorical features** which _must be mapped_ into less values, to predict sale_price and, \n",
    "- **less numerical features**, which will be used to predict sale_price"
   ]
  },
  {
   "cell_type": "code",
   "execution_count": null,
   "metadata": {},
   "outputs": [],
   "source": []
  },
  {
   "cell_type": "code",
   "execution_count": 261,
   "metadata": {},
   "outputs": [
    {
     "data": {
      "image/png": "[encoded data removed]",
      "text/plain": [
       "<Figure size 432x288 with 1 Axes>"
      ]
     },
     "metadata": {
      "needs_background": "light"
     },
     "output_type": "display_data"
    }
   ],
   "source": [
    "ax1 = sns.scatterplot(x='gross_square_feet', y='sale_price', palette='Set2', data=data_cleaned)\n"
   ]
  },
  {
   "cell_type": "code",
   "execution_count": null,
   "metadata": {},
   "outputs": [],
   "source": []
  },
  {
   "cell_type": "code",
   "execution_count": 63,
   "metadata": {},
   "outputs": [
    {
     "data": {
      "text/plain": [
       "29311"
      ]
     },
     "execution_count": 63,
     "metadata": {},
     "output_type": "execute_result"
    }
   ],
   "source": [
    "# data.gross_square_feet.plot()\n",
    "kz = data[data.gross_square_feet == 0]\n",
    "\n",
    "\n",
    "len(kz)\n",
    "\n",
    "# 29K of filled sales_price rows have 0 square_feet"
   ]
  },
  {
   "cell_type": "code",
   "execution_count": 263,
   "metadata": {},
   "outputs": [
    {
     "data": {
      "image/png": "[encoded data removed]",
      "text/plain": [
       "<Figure size 432x288 with 1 Axes>"
      ]
     },
     "metadata": {
      "needs_background": "light"
     },
     "output_type": "display_data"
    }
   ],
   "source": [
    "ax10 = sns.scatterplot(x='gross_square_feet', y='sale_price', palette='Set2', data=data_cleaned)\n"
   ]
  },
  {
   "cell_type": "markdown",
   "metadata": {},
   "source": [
    "### Cross Analysis"
   ]
  },
  {
   "cell_type": "code",
   "execution_count": 39,
   "metadata": {},
   "outputs": [],
   "source": [
    "# k = data[['building_class_name', 'residential_units']] \n",
    "\n",
    "\n",
    "# k.groupby([ 'building_class_name', 'residential_units']).size()#.sort_values(ascending=False).unstack('residential_units')#.plot(kind='pie')"
   ]
  },
  {
   "cell_type": "code",
   "execution_count": null,
   "metadata": {},
   "outputs": [],
   "source": []
  },
  {
   "cell_type": "code",
   "execution_count": 206,
   "metadata": {},
   "outputs": [],
   "source": [
    "export_csv = data_cleaned.to_csv (r'./dataset/housing/output_after_eda.csv', \n",
    "                                  index = None,\n",
    "                                  header = True) \n",
    "\n",
    "export_csv"
   ]
  }
 ],
 "metadata": {
  "kernelspec": {
   "display_name": "Python 3",
   "language": "python",
   "name": "python3"
  },
  "language_info": {
   "codemirror_mode": {
    "name": "ipython",
    "version": 3
   },
   "file_extension": ".py",
   "mimetype": "text/x-python",
   "name": "python",
   "nbconvert_exporter": "python",
   "pygments_lexer": "ipython3",
   "version": "3.7.3"
  }
 },
 "nbformat": 4,
 "nbformat_minor": 2
}
