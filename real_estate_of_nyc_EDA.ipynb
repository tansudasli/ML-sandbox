{
 "cells": [
  {
   "cell_type": "markdown",
   "metadata": {},
   "source": [
    "# Housing - exploratory data analysis (EDA)\n",
    "\n",
    "NYC housing dataset b/w in 2012-13, seperated by boroughs\n",
    "\n",
    "- [x] get an intuitive understanding, \n",
    "- [x] clear data\n",
    "- [x] adjust columns data types\n",
    "- [x] adjust columns\n",
    "- [x] enrich\n",
    "- [x] missing values\n",
    "- [x] outliers\n",
    "- [x] visualize for yourself\n",
    "- [ ] visualize for client\n",
    "- [ ] make cross comparisons\n",
    "- [x] then **create an OUTPUT file for other models**\n",
    "\n",
    "##### Notes\n",
    "- **raw_data** is readed file w/ proper types and formats\n",
    "- **data_prepared**, dataframe after missing values (sale_price) and **obvious** rows/columns eliminated\n",
    "- **data_cleaned**,  dataframe after **outliers** eliminated\n",
    "- **data_enriched**, starts w/ data, + null row deletions, enrichments (_map, _log ..)  etc..."
   ]
  },
  {
   "cell_type": "markdown",
   "metadata": {},
   "source": [
    "### possible deletion columns/rows\n",
    "\n",
    "   - columns\n",
    "       - borough, building_class_category .. (extracted into diff. columns)\n",
    "       - block, lot (nonsense)\n",
    "       - easement (%100 empty), \n",
    "       - apartment_number (%74 empty)\n",
    "   - rows\n",
    "       - **30% of sale_price is 0 (28K+)**\n",
    "       - building_class_name is null, is **(1500)**\n",
    "       - tax_class_at_present is empty, is **(270)**     \n",
    "   - outliers  \n",
    "       - (data_cleaned.gross_square_feet > 0) & (data_cleaned.gross_square_feet <= 20K)\n",
    "       - (data_cleaned.sale_price < 2M)  \n",
    "\n",
    "\n",
    "### categorical features\n",
    "\n",
    "  - building_class_at_present: may be mapped into 3 groups to use later ?\n",
    "      - if containf FAMILY, Map as FAMILY in building_class_map\n",
    "  - building_class_at_present vs building_class_at_sale change has any meaning?\n",
    "  - tax_class_at_present vs tax_class_at_sale has any meaning? (1, 2 and 4 is dominating values)\n",
    "  - 10019 zipcode is %7 of houses, and 70K houses are located in of 100 zipcodes\n",
    "  - 4000+ diff. apartment_number in 85K rows.\n",
    "  - top 50 neighborhood covers 50K+ houses\n",
    "  \n",
    "### numerical features\n",
    "\n",
    "  - **50% of estates has 0 land_square_feet and gross_square_feet.**\n",
    "  - **how can residential_units and commercial_units be used as numeric columns in a meaningful way?**\n",
    "      - residential_units (165 types), %50 is 0 and 1 (40K+ rows) and 30K+ NaN. \n",
    "      - commercial_units (23 types), 0 has 20K+, NaN is 60K+\n",
    "      - total_units (171 types), 1 (25K+, 0 (16K+), 2 (8K+) and **NaN is 30K**\n",
    "         - total = residental + commercial ?\n",
    "         - if there are dif, can we set to commercial or we should delete  or we may use to create a dummy category ?\n",
    "         - if total = 0 or null **(18K rows)** , what we should do?\n",
    "\n",
    "- [ ] **can we predict total_units, then set null values, then make them numeric**\n",
    "- [ ] **can we predict year_built, then set 0 values,\n"
   ]
  },
  {
   "cell_type": "code",
   "execution_count": 407,
   "metadata": {},
   "outputs": [],
   "source": [
    "import numpy as np\n",
    "import pandas as pd\n",
    "import seaborn as sns\n",
    "\n",
    "import os\n",
    "import glob\n",
    "\n",
    "sns.set()\n",
    "\n",
    "pd.set_option('display.max_columns', 500)\n",
    "pd.set_option('display.max_rows', None)\n",
    "pd.set_option('display.max_colwidth', 250)\n"
   ]
  },
  {
   "cell_type": "code",
   "execution_count": 416,
   "metadata": {
    "scrolled": false
   },
   "outputs": [
    {
     "data": {
      "text/html": [
       "<div>\n",
       "<style scoped>\n",
       "    .dataframe tbody tr th:only-of-type {\n",
       "        vertical-align: middle;\n",
       "    }\n",
       "\n",
       "    .dataframe tbody tr th {\n",
       "        vertical-align: top;\n",
       "    }\n",
       "\n",
       "    .dataframe thead th {\n",
       "        text-align: right;\n",
       "    }\n",
       "</style>\n",
       "<table border=\"1\" class=\"dataframe\">\n",
       "  <thead>\n",
       "    <tr style=\"text-align: right;\">\n",
       "      <th></th>\n",
       "      <th>borough</th>\n",
       "      <th>neighborhood</th>\n",
       "      <th>building_class_category</th>\n",
       "      <th>tax_class_at_present</th>\n",
       "      <th>block</th>\n",
       "      <th>lot</th>\n",
       "      <th>easement</th>\n",
       "      <th>building_class_at_present</th>\n",
       "      <th>address</th>\n",
       "      <th>apartment_number</th>\n",
       "      <th>zipcode</th>\n",
       "      <th>residential_units</th>\n",
       "      <th>commercial_units</th>\n",
       "      <th>total_units</th>\n",
       "      <th>land_square_feet</th>\n",
       "      <th>gross_square_feet</th>\n",
       "      <th>year_built</th>\n",
       "      <th>tax_class_at_sale</th>\n",
       "      <th>building_class_at_sale</th>\n",
       "      <th>sale_price</th>\n",
       "      <th>sale_date</th>\n",
       "    </tr>\n",
       "  </thead>\n",
       "  <tbody>\n",
       "    <tr>\n",
       "      <th>0</th>\n",
       "      <td>3</td>\n",
       "      <td></td>\n",
       "      <td>15  CONDOS - 2-10 UNIT RESIDENTIAL</td>\n",
       "      <td></td>\n",
       "      <td>814</td>\n",
       "      <td>1103</td>\n",
       "      <td></td>\n",
       "      <td></td>\n",
       "      <td>342 53RD    STREET</td>\n",
       "      <td></td>\n",
       "      <td>11220</td>\n",
       "      <td>0</td>\n",
       "      <td>0</td>\n",
       "      <td>0</td>\n",
       "      <td>0</td>\n",
       "      <td>0</td>\n",
       "      <td>0</td>\n",
       "      <td>2</td>\n",
       "      <td>R1</td>\n",
       "      <td>$403,572</td>\n",
       "      <td>2013-07-09</td>\n",
       "    </tr>\n",
       "    <tr>\n",
       "      <th>1</th>\n",
       "      <td>3</td>\n",
       "      <td></td>\n",
       "      <td>15  CONDOS - 2-10 UNIT RESIDENTIAL</td>\n",
       "      <td></td>\n",
       "      <td>814</td>\n",
       "      <td>1105</td>\n",
       "      <td></td>\n",
       "      <td></td>\n",
       "      <td>342 53RD    STREET</td>\n",
       "      <td></td>\n",
       "      <td>11220</td>\n",
       "      <td>0</td>\n",
       "      <td>0</td>\n",
       "      <td>0</td>\n",
       "      <td>0</td>\n",
       "      <td>0</td>\n",
       "      <td>0</td>\n",
       "      <td>2</td>\n",
       "      <td>R1</td>\n",
       "      <td>$218,010</td>\n",
       "      <td>2013-07-12</td>\n",
       "    </tr>\n",
       "  </tbody>\n",
       "</table>\n",
       "</div>"
      ],
      "text/plain": [
       "  borough               neighborhood  \\\n",
       "0       3                              \n",
       "1       3                              \n",
       "\n",
       "                        building_class_category tax_class_at_present block  \\\n",
       "0  15  CONDOS - 2-10 UNIT RESIDENTIAL                                  814   \n",
       "1  15  CONDOS - 2-10 UNIT RESIDENTIAL                                  814   \n",
       "\n",
       "    lot easement building_class_at_present  \\\n",
       "0  1103                                      \n",
       "1  1105                                      \n",
       "\n",
       "                                       address apartment_number zipcode  \\\n",
       "0   342 53RD    STREET                                            11220   \n",
       "1   342 53RD    STREET                                            11220   \n",
       "\n",
       "  residential_units commercial_units total_units land_square_feet  \\\n",
       "0                 0                0           0                0   \n",
       "1                 0                0           0                0   \n",
       "\n",
       "  gross_square_feet year_built tax_class_at_sale building_class_at_sale  \\\n",
       "0                 0          0                2                     R1    \n",
       "1                 0          0                2                     R1    \n",
       "\n",
       "  sale_price  sale_date  \n",
       "0   $403,572 2013-07-09  \n",
       "1   $218,010 2013-07-12  "
      ]
     },
     "execution_count": 416,
     "metadata": {},
     "output_type": "execute_result"
    }
   ],
   "source": [
    "# read all datasets w/ dates\n",
    "filenames = glob.glob(os.path.join('dataset/housing/', 'r*.csv'))\n",
    "\n",
    "#\n",
    "li = []\n",
    "\n",
    "for filename in filenames:\n",
    "    df = pd.read_csv(filename, \\\n",
    "                dtype={'YEAR BUILT': object, 'BLOCK': object, 'LOT': object, 'ZIP CODE': object, \n",
    "                       'COMMERCIAL UNITS': object,\n",
    "                       'BOROUGH': object, 'NEIGHBORHOOD': object, 'BUILDING CLASS CATEGORY': object,\n",
    "                       'TAX CLASS AT PRESENT': object,  'EASE-MENT': object,\n",
    "                       'BUILDING CLASS AT PRESENT': object, 'ADDRESS': object, \n",
    "                       'APART\\nMENT\\nNUMBER': object,\n",
    "                       'RESIDENTIAL UNITS': object, 'COMMERCIAL UNITS': object, 'TOTAL UNITS': object,\n",
    "                       'LAND SQUARE FEET': object, 'GROSS SQUARE FEET': object,\n",
    "                       'TAX CLASS AT TIME OF SALE': object, 'BUILDING CLASS AT TIME OF SALE': object,\n",
    "                       'SALE\\nPRICE': object}, \\\n",
    "                parse_dates=['SALE DATE'], \\\n",
    "                infer_datetime_format=True)\n",
    "    li.append(df)\n",
    "\n",
    "\n",
    "raw_data = pd.concat(li, axis=0, ignore_index=True)\n",
    "\n",
    "# change column names\n",
    "raw_data.columns = ['borough', 'neighborhood', 'building_class_category',\n",
    "                    'tax_class_at_present', 'block', 'lot', 'easement',\n",
    "                    'building_class_at_present', 'address', 'apartment_number',\n",
    "                    'zipcode', 'residential_units', 'commercial_units', 'total_units',\n",
    "                    'land_square_feet', 'gross_square_feet', 'year_built',\n",
    "                    'tax_class_at_sale', 'building_class_at_sale',\n",
    "                    'sale_price', 'sale_date']\n",
    "\n",
    "raw_data.head(2)"
   ]
  },
  {
   "cell_type": "markdown",
   "metadata": {},
   "source": [
    "#### Do data format corrections"
   ]
  },
  {
   "cell_type": "code",
   "execution_count": 417,
   "metadata": {},
   "outputs": [
    {
     "data": {
      "text/html": [
       "<div>\n",
       "<style scoped>\n",
       "    .dataframe tbody tr th:only-of-type {\n",
       "        vertical-align: middle;\n",
       "    }\n",
       "\n",
       "    .dataframe tbody tr th {\n",
       "        vertical-align: top;\n",
       "    }\n",
       "\n",
       "    .dataframe thead th {\n",
       "        text-align: right;\n",
       "    }\n",
       "</style>\n",
       "<table border=\"1\" class=\"dataframe\">\n",
       "  <thead>\n",
       "    <tr style=\"text-align: right;\">\n",
       "      <th></th>\n",
       "      <th>borough</th>\n",
       "      <th>borough_name</th>\n",
       "      <th>neighborhood</th>\n",
       "      <th>building_class_category</th>\n",
       "      <th>building_class</th>\n",
       "      <th>building_class_name</th>\n",
       "      <th>tax_class_at_present</th>\n",
       "      <th>tax_class_at_sale</th>\n",
       "      <th>block</th>\n",
       "      <th>lot</th>\n",
       "      <th>easement</th>\n",
       "      <th>building_class_at_present</th>\n",
       "      <th>building_class_at_sale</th>\n",
       "      <th>address</th>\n",
       "      <th>address_</th>\n",
       "      <th>apartment_number</th>\n",
       "      <th>zipcode</th>\n",
       "      <th>residential_units</th>\n",
       "      <th>commercial_units</th>\n",
       "      <th>total_units</th>\n",
       "      <th>land_square_feet</th>\n",
       "      <th>gross_square_feet</th>\n",
       "      <th>year_built</th>\n",
       "      <th>sale_date</th>\n",
       "      <th>sale_price</th>\n",
       "    </tr>\n",
       "  </thead>\n",
       "  <tbody>\n",
       "    <tr>\n",
       "      <th>0</th>\n",
       "      <td>3</td>\n",
       "      <td>NaN</td>\n",
       "      <td></td>\n",
       "      <td>15  CONDOS - 2-10 UNIT RESIDENTIAL</td>\n",
       "      <td>15</td>\n",
       "      <td>CONDOS - 2-10 UNIT RESIDENTIAL</td>\n",
       "      <td></td>\n",
       "      <td>2</td>\n",
       "      <td>814</td>\n",
       "      <td>1103</td>\n",
       "      <td></td>\n",
       "      <td></td>\n",
       "      <td>R1</td>\n",
       "      <td>342 53RD    STREET</td>\n",
       "      <td>342 53RD    STREET</td>\n",
       "      <td></td>\n",
       "      <td>11220</td>\n",
       "      <td>0</td>\n",
       "      <td>0</td>\n",
       "      <td>0</td>\n",
       "      <td>0</td>\n",
       "      <td>0</td>\n",
       "      <td>0</td>\n",
       "      <td>2013-07-09</td>\n",
       "      <td>403572.0</td>\n",
       "    </tr>\n",
       "    <tr>\n",
       "      <th>1</th>\n",
       "      <td>3</td>\n",
       "      <td>NaN</td>\n",
       "      <td></td>\n",
       "      <td>15  CONDOS - 2-10 UNIT RESIDENTIAL</td>\n",
       "      <td>15</td>\n",
       "      <td>CONDOS - 2-10 UNIT RESIDENTIAL</td>\n",
       "      <td></td>\n",
       "      <td>2</td>\n",
       "      <td>814</td>\n",
       "      <td>1105</td>\n",
       "      <td></td>\n",
       "      <td></td>\n",
       "      <td>R1</td>\n",
       "      <td>342 53RD    STREET</td>\n",
       "      <td>342 53RD    STREET</td>\n",
       "      <td></td>\n",
       "      <td>11220</td>\n",
       "      <td>0</td>\n",
       "      <td>0</td>\n",
       "      <td>0</td>\n",
       "      <td>0</td>\n",
       "      <td>0</td>\n",
       "      <td>0</td>\n",
       "      <td>2013-07-12</td>\n",
       "      <td>218010.0</td>\n",
       "    </tr>\n",
       "    <tr>\n",
       "      <th>2</th>\n",
       "      <td>3</td>\n",
       "      <td>NaN</td>\n",
       "      <td></td>\n",
       "      <td>15  CONDOS - 2-10 UNIT RESIDENTIAL</td>\n",
       "      <td>15</td>\n",
       "      <td>CONDOS - 2-10 UNIT RESIDENTIAL</td>\n",
       "      <td></td>\n",
       "      <td>2</td>\n",
       "      <td>1967</td>\n",
       "      <td>1401</td>\n",
       "      <td></td>\n",
       "      <td></td>\n",
       "      <td>R1</td>\n",
       "      <td>290 GREENE AVE</td>\n",
       "      <td>290 GREENE AVE</td>\n",
       "      <td></td>\n",
       "      <td>11238</td>\n",
       "      <td>0</td>\n",
       "      <td>0</td>\n",
       "      <td>0</td>\n",
       "      <td>0</td>\n",
       "      <td>0</td>\n",
       "      <td>0</td>\n",
       "      <td>2013-04-25</td>\n",
       "      <td>952311.0</td>\n",
       "    </tr>\n",
       "  </tbody>\n",
       "</table>\n",
       "</div>"
      ],
      "text/plain": [
       "  borough borough_name neighborhood  \\\n",
       "0       3          NaN                \n",
       "1       3          NaN                \n",
       "2       3          NaN                \n",
       "\n",
       "                        building_class_category building_class  \\\n",
       "0  15  CONDOS - 2-10 UNIT RESIDENTIAL                       15   \n",
       "1  15  CONDOS - 2-10 UNIT RESIDENTIAL                       15   \n",
       "2  15  CONDOS - 2-10 UNIT RESIDENTIAL                       15   \n",
       "\n",
       "              building_class_name tax_class_at_present tax_class_at_sale  \\\n",
       "0  CONDOS - 2-10 UNIT RESIDENTIAL                                     2    \n",
       "1  CONDOS - 2-10 UNIT RESIDENTIAL                                     2    \n",
       "2  CONDOS - 2-10 UNIT RESIDENTIAL                                     2    \n",
       "\n",
       "  block   lot easement building_class_at_present building_class_at_sale  \\\n",
       "0   814  1103                                                       R1    \n",
       "1   814  1105                                                       R1    \n",
       "2  1967  1401                                                       R1    \n",
       "\n",
       "                                       address            address_  \\\n",
       "0   342 53RD    STREET                          342 53RD    STREET   \n",
       "1   342 53RD    STREET                          342 53RD    STREET   \n",
       "2   290 GREENE AVE                                  290 GREENE AVE   \n",
       "\n",
       "  apartment_number zipcode residential_units commercial_units total_units  \\\n",
       "0                    11220                 0                0           0   \n",
       "1                    11220                 0                0           0   \n",
       "2                    11238                 0                0           0   \n",
       "\n",
       "   land_square_feet  gross_square_feet year_built  sale_date  sale_price  \n",
       "0                 0                  0          0 2013-07-09    403572.0  \n",
       "1                 0                  0          0 2013-07-12    218010.0  \n",
       "2                 0                  0          0 2013-04-25    952311.0  "
      ]
     },
     "execution_count": 417,
     "metadata": {},
     "output_type": "execute_result"
    }
   ],
   "source": [
    "# map and extract some of them, delete white-spaces, delete ',' from number columns\n",
    "raw_data['borough_name'] = raw_data['borough'].map({1:'Manhattan', 3:'Brooklyn', \n",
    "                                                    2:'Bronx', 4:'Queens', \n",
    "                                                    5:'Staten Island'})   \n",
    "\n",
    "raw_data['neighborhood'] = raw_data['neighborhood'].str.split(r'(\\s+)$', expand=True)[0]\n",
    "\n",
    "raw_data['residential_units'] = raw_data['residential_units'].str.replace(r',', '')\n",
    "raw_data['commercial_units'] = raw_data['commercial_units'].str.replace(r',', '')\n",
    "raw_data['total_units'] = raw_data['total_units'].str.replace(r',', '')\n",
    "    \n",
    "#  white-spaces at the beginning, white-spaces at the end cleared\n",
    "#  b/w words, white-space remains \n",
    "raw_data['address_'] = raw_data['address'].str.split(r'(^\\s+)|(\\s+)$', expand=True)[3]\n",
    "\n",
    "# whitespace at end\n",
    "# then, extract 01 and CONDOS - xyz part\n",
    "# 01 CONDOS - xyz klm    \n",
    "raw_data['building_class'] = raw_data['building_class_category'].str.split(r'(\\s+)$', expand=True)[0] \\\n",
    "                                                                .str.split(r'(^\\S+)(\\s+)', expand=True)[1]\n",
    "\n",
    "raw_data['building_class_name'] = raw_data['building_class_category'].str.split(r'(\\s+)$', expand=True)[0] \\\n",
    "                                                                     .str.split(r'(^\\S+)(\\s+)', expand=True)[3]\n",
    "\n",
    "\n",
    "for col in ('land_square_feet', 'gross_square_feet'):\n",
    "    raw_data[col] = raw_data[col].str.replace(r',', '').astype(int)\n",
    "    \n",
    "\n",
    "raw_data['sale_price'] = raw_data['sale_price'].str.replace(r',|\\$', '').astype(float)\n",
    "\n",
    "# change column names' order\n",
    "raw_data = raw_data[['borough', 'borough_name' , 'neighborhood',\n",
    "                     'building_class_category', 'building_class', 'building_class_name',\n",
    "                     'tax_class_at_present', 'tax_class_at_sale', \n",
    "                     'block', 'lot', 'easement','building_class_at_present', 'building_class_at_sale', \n",
    "                     'address', 'address_', 'apartment_number','zipcode',\n",
    "                     'residential_units', 'commercial_units', 'total_units',\n",
    "                     'land_square_feet', 'gross_square_feet', \n",
    "                     'year_built','sale_date', 'sale_price']]\n",
    "\n",
    "raw_data.head(3)"
   ]
  },
  {
   "cell_type": "code",
   "execution_count": 415,
   "metadata": {},
   "outputs": [
    {
     "data": {
      "text/plain": [
       "borough                              object\n",
       "borough_name                         object\n",
       "neighborhood                         object\n",
       "building_class_category              object\n",
       "building_class                       object\n",
       "building_class_name                  object\n",
       "tax_class_at_present                 object\n",
       "tax_class_at_sale                    object\n",
       "block                                object\n",
       "lot                                  object\n",
       "easement                             object\n",
       "building_class_at_present            object\n",
       "building_class_at_sale               object\n",
       "address                              object\n",
       "address_                             object\n",
       "apartment_number                     object\n",
       "zipcode                              object\n",
       "residential_units                    object\n",
       "commercial_units                     object\n",
       "total_units                          object\n",
       "land_square_feet                      int64\n",
       "gross_square_feet                     int64\n",
       "year_built                           object\n",
       "sale_date                    datetime64[ns]\n",
       "sale_price                          float64\n",
       "dtype: object"
      ]
     },
     "execution_count": 415,
     "metadata": {},
     "output_type": "execute_result"
    }
   ],
   "source": [
    "raw_data.dtypes"
   ]
  },
  {
   "cell_type": "code",
   "execution_count": 418,
   "metadata": {},
   "outputs": [
    {
     "data": {
      "text/html": [
       "<div>\n",
       "<style scoped>\n",
       "    .dataframe tbody tr th:only-of-type {\n",
       "        vertical-align: middle;\n",
       "    }\n",
       "\n",
       "    .dataframe tbody tr th {\n",
       "        vertical-align: top;\n",
       "    }\n",
       "\n",
       "    .dataframe thead th {\n",
       "        text-align: right;\n",
       "    }\n",
       "</style>\n",
       "<table border=\"1\" class=\"dataframe\">\n",
       "  <thead>\n",
       "    <tr style=\"text-align: right;\">\n",
       "      <th></th>\n",
       "      <th>borough</th>\n",
       "      <th>borough_name</th>\n",
       "      <th>neighborhood</th>\n",
       "      <th>building_class_category</th>\n",
       "      <th>building_class</th>\n",
       "      <th>building_class_name</th>\n",
       "      <th>tax_class_at_present</th>\n",
       "      <th>tax_class_at_sale</th>\n",
       "      <th>block</th>\n",
       "      <th>lot</th>\n",
       "      <th>easement</th>\n",
       "      <th>building_class_at_present</th>\n",
       "      <th>building_class_at_sale</th>\n",
       "      <th>address</th>\n",
       "      <th>address_</th>\n",
       "      <th>apartment_number</th>\n",
       "      <th>zipcode</th>\n",
       "      <th>residential_units</th>\n",
       "      <th>commercial_units</th>\n",
       "      <th>total_units</th>\n",
       "      <th>land_square_feet</th>\n",
       "      <th>gross_square_feet</th>\n",
       "      <th>year_built</th>\n",
       "      <th>sale_date</th>\n",
       "      <th>sale_price</th>\n",
       "    </tr>\n",
       "  </thead>\n",
       "  <tbody>\n",
       "    <tr>\n",
       "      <th>count</th>\n",
       "      <td>85975</td>\n",
       "      <td>0.0</td>\n",
       "      <td>85975</td>\n",
       "      <td>85975</td>\n",
       "      <td>81771</td>\n",
       "      <td>81771</td>\n",
       "      <td>85975</td>\n",
       "      <td>85975</td>\n",
       "      <td>85975</td>\n",
       "      <td>85975</td>\n",
       "      <td>85975</td>\n",
       "      <td>85975</td>\n",
       "      <td>85975</td>\n",
       "      <td>85975</td>\n",
       "      <td>85975</td>\n",
       "      <td>85975</td>\n",
       "      <td>85975</td>\n",
       "      <td>85975</td>\n",
       "      <td>85975</td>\n",
       "      <td>85975</td>\n",
       "      <td>8.597500e+04</td>\n",
       "      <td>8.597500e+04</td>\n",
       "      <td>85975</td>\n",
       "      <td>85975</td>\n",
       "      <td>8.597500e+04</td>\n",
       "    </tr>\n",
       "    <tr>\n",
       "      <th>unique</th>\n",
       "      <td>5</td>\n",
       "      <td>0.0</td>\n",
       "      <td>257</td>\n",
       "      <td>40</td>\n",
       "      <td>39</td>\n",
       "      <td>39</td>\n",
       "      <td>11</td>\n",
       "      <td>5</td>\n",
       "      <td>11043</td>\n",
       "      <td>2496</td>\n",
       "      <td>2</td>\n",
       "      <td>170</td>\n",
       "      <td>170</td>\n",
       "      <td>63419</td>\n",
       "      <td>63419</td>\n",
       "      <td>4492</td>\n",
       "      <td>185</td>\n",
       "      <td>178</td>\n",
       "      <td>63</td>\n",
       "      <td>187</td>\n",
       "      <td>NaN</td>\n",
       "      <td>NaN</td>\n",
       "      <td>160</td>\n",
       "      <td>386</td>\n",
       "      <td>NaN</td>\n",
       "    </tr>\n",
       "    <tr>\n",
       "      <th>top</th>\n",
       "      <td>1</td>\n",
       "      <td>NaN</td>\n",
       "      <td>MIDTOWN WEST</td>\n",
       "      <td>01  ONE FAMILY HOMES</td>\n",
       "      <td>01</td>\n",
       "      <td>ONE FAMILY HOMES</td>\n",
       "      <td>2</td>\n",
       "      <td>2</td>\n",
       "      <td>1027</td>\n",
       "      <td>1</td>\n",
       "      <td></td>\n",
       "      <td>D4</td>\n",
       "      <td>D4</td>\n",
       "      <td>870 7 AVENUE</td>\n",
       "      <td>870 7 AVENUE</td>\n",
       "      <td></td>\n",
       "      <td>10019</td>\n",
       "      <td>1</td>\n",
       "      <td>0</td>\n",
       "      <td>1</td>\n",
       "      <td>NaN</td>\n",
       "      <td>NaN</td>\n",
       "      <td>0</td>\n",
       "      <td>2012-09-27 00:00:00</td>\n",
       "      <td>NaN</td>\n",
       "    </tr>\n",
       "    <tr>\n",
       "      <th>freq</th>\n",
       "      <td>27395</td>\n",
       "      <td>NaN</td>\n",
       "      <td>6264</td>\n",
       "      <td>14846</td>\n",
       "      <td>14846</td>\n",
       "      <td>14846</td>\n",
       "      <td>32899</td>\n",
       "      <td>38662</td>\n",
       "      <td>2735</td>\n",
       "      <td>4015</td>\n",
       "      <td>85973</td>\n",
       "      <td>13461</td>\n",
       "      <td>13461</td>\n",
       "      <td>2087</td>\n",
       "      <td>2087</td>\n",
       "      <td>63830</td>\n",
       "      <td>6193</td>\n",
       "      <td>31393</td>\n",
       "      <td>77358</td>\n",
       "      <td>38672</td>\n",
       "      <td>NaN</td>\n",
       "      <td>NaN</td>\n",
       "      <td>11782</td>\n",
       "      <td>988</td>\n",
       "      <td>NaN</td>\n",
       "    </tr>\n",
       "    <tr>\n",
       "      <th>first</th>\n",
       "      <td>NaN</td>\n",
       "      <td>NaN</td>\n",
       "      <td>NaN</td>\n",
       "      <td>NaN</td>\n",
       "      <td>NaN</td>\n",
       "      <td>NaN</td>\n",
       "      <td>NaN</td>\n",
       "      <td>NaN</td>\n",
       "      <td>NaN</td>\n",
       "      <td>NaN</td>\n",
       "      <td>NaN</td>\n",
       "      <td>NaN</td>\n",
       "      <td>NaN</td>\n",
       "      <td>NaN</td>\n",
       "      <td>NaN</td>\n",
       "      <td>NaN</td>\n",
       "      <td>NaN</td>\n",
       "      <td>NaN</td>\n",
       "      <td>NaN</td>\n",
       "      <td>NaN</td>\n",
       "      <td>NaN</td>\n",
       "      <td>NaN</td>\n",
       "      <td>NaN</td>\n",
       "      <td>2012-08-01 00:00:00</td>\n",
       "      <td>NaN</td>\n",
       "    </tr>\n",
       "    <tr>\n",
       "      <th>last</th>\n",
       "      <td>NaN</td>\n",
       "      <td>NaN</td>\n",
       "      <td>NaN</td>\n",
       "      <td>NaN</td>\n",
       "      <td>NaN</td>\n",
       "      <td>NaN</td>\n",
       "      <td>NaN</td>\n",
       "      <td>NaN</td>\n",
       "      <td>NaN</td>\n",
       "      <td>NaN</td>\n",
       "      <td>NaN</td>\n",
       "      <td>NaN</td>\n",
       "      <td>NaN</td>\n",
       "      <td>NaN</td>\n",
       "      <td>NaN</td>\n",
       "      <td>NaN</td>\n",
       "      <td>NaN</td>\n",
       "      <td>NaN</td>\n",
       "      <td>NaN</td>\n",
       "      <td>NaN</td>\n",
       "      <td>NaN</td>\n",
       "      <td>NaN</td>\n",
       "      <td>NaN</td>\n",
       "      <td>2013-08-26 00:00:00</td>\n",
       "      <td>NaN</td>\n",
       "    </tr>\n",
       "    <tr>\n",
       "      <th>mean</th>\n",
       "      <td>NaN</td>\n",
       "      <td>NaN</td>\n",
       "      <td>NaN</td>\n",
       "      <td>NaN</td>\n",
       "      <td>NaN</td>\n",
       "      <td>NaN</td>\n",
       "      <td>NaN</td>\n",
       "      <td>NaN</td>\n",
       "      <td>NaN</td>\n",
       "      <td>NaN</td>\n",
       "      <td>NaN</td>\n",
       "      <td>NaN</td>\n",
       "      <td>NaN</td>\n",
       "      <td>NaN</td>\n",
       "      <td>NaN</td>\n",
       "      <td>NaN</td>\n",
       "      <td>NaN</td>\n",
       "      <td>NaN</td>\n",
       "      <td>NaN</td>\n",
       "      <td>NaN</td>\n",
       "      <td>3.085275e+03</td>\n",
       "      <td>5.049742e+03</td>\n",
       "      <td>NaN</td>\n",
       "      <td>NaN</td>\n",
       "      <td>8.850979e+05</td>\n",
       "    </tr>\n",
       "    <tr>\n",
       "      <th>std</th>\n",
       "      <td>NaN</td>\n",
       "      <td>NaN</td>\n",
       "      <td>NaN</td>\n",
       "      <td>NaN</td>\n",
       "      <td>NaN</td>\n",
       "      <td>NaN</td>\n",
       "      <td>NaN</td>\n",
       "      <td>NaN</td>\n",
       "      <td>NaN</td>\n",
       "      <td>NaN</td>\n",
       "      <td>NaN</td>\n",
       "      <td>NaN</td>\n",
       "      <td>NaN</td>\n",
       "      <td>NaN</td>\n",
       "      <td>NaN</td>\n",
       "      <td>NaN</td>\n",
       "      <td>NaN</td>\n",
       "      <td>NaN</td>\n",
       "      <td>NaN</td>\n",
       "      <td>NaN</td>\n",
       "      <td>5.501497e+04</td>\n",
       "      <td>2.836546e+04</td>\n",
       "      <td>NaN</td>\n",
       "      <td>NaN</td>\n",
       "      <td>9.424213e+06</td>\n",
       "    </tr>\n",
       "    <tr>\n",
       "      <th>min</th>\n",
       "      <td>NaN</td>\n",
       "      <td>NaN</td>\n",
       "      <td>NaN</td>\n",
       "      <td>NaN</td>\n",
       "      <td>NaN</td>\n",
       "      <td>NaN</td>\n",
       "      <td>NaN</td>\n",
       "      <td>NaN</td>\n",
       "      <td>NaN</td>\n",
       "      <td>NaN</td>\n",
       "      <td>NaN</td>\n",
       "      <td>NaN</td>\n",
       "      <td>NaN</td>\n",
       "      <td>NaN</td>\n",
       "      <td>NaN</td>\n",
       "      <td>NaN</td>\n",
       "      <td>NaN</td>\n",
       "      <td>NaN</td>\n",
       "      <td>NaN</td>\n",
       "      <td>NaN</td>\n",
       "      <td>0.000000e+00</td>\n",
       "      <td>0.000000e+00</td>\n",
       "      <td>NaN</td>\n",
       "      <td>NaN</td>\n",
       "      <td>0.000000e+00</td>\n",
       "    </tr>\n",
       "    <tr>\n",
       "      <th>25%</th>\n",
       "      <td>NaN</td>\n",
       "      <td>NaN</td>\n",
       "      <td>NaN</td>\n",
       "      <td>NaN</td>\n",
       "      <td>NaN</td>\n",
       "      <td>NaN</td>\n",
       "      <td>NaN</td>\n",
       "      <td>NaN</td>\n",
       "      <td>NaN</td>\n",
       "      <td>NaN</td>\n",
       "      <td>NaN</td>\n",
       "      <td>NaN</td>\n",
       "      <td>NaN</td>\n",
       "      <td>NaN</td>\n",
       "      <td>NaN</td>\n",
       "      <td>NaN</td>\n",
       "      <td>NaN</td>\n",
       "      <td>NaN</td>\n",
       "      <td>NaN</td>\n",
       "      <td>NaN</td>\n",
       "      <td>0.000000e+00</td>\n",
       "      <td>0.000000e+00</td>\n",
       "      <td>NaN</td>\n",
       "      <td>NaN</td>\n",
       "      <td>0.000000e+00</td>\n",
       "    </tr>\n",
       "    <tr>\n",
       "      <th>50%</th>\n",
       "      <td>NaN</td>\n",
       "      <td>NaN</td>\n",
       "      <td>NaN</td>\n",
       "      <td>NaN</td>\n",
       "      <td>NaN</td>\n",
       "      <td>NaN</td>\n",
       "      <td>NaN</td>\n",
       "      <td>NaN</td>\n",
       "      <td>NaN</td>\n",
       "      <td>NaN</td>\n",
       "      <td>NaN</td>\n",
       "      <td>NaN</td>\n",
       "      <td>NaN</td>\n",
       "      <td>NaN</td>\n",
       "      <td>NaN</td>\n",
       "      <td>NaN</td>\n",
       "      <td>NaN</td>\n",
       "      <td>NaN</td>\n",
       "      <td>NaN</td>\n",
       "      <td>NaN</td>\n",
       "      <td>1.512000e+03</td>\n",
       "      <td>6.500000e+02</td>\n",
       "      <td>NaN</td>\n",
       "      <td>NaN</td>\n",
       "      <td>2.600000e+05</td>\n",
       "    </tr>\n",
       "    <tr>\n",
       "      <th>75%</th>\n",
       "      <td>NaN</td>\n",
       "      <td>NaN</td>\n",
       "      <td>NaN</td>\n",
       "      <td>NaN</td>\n",
       "      <td>NaN</td>\n",
       "      <td>NaN</td>\n",
       "      <td>NaN</td>\n",
       "      <td>NaN</td>\n",
       "      <td>NaN</td>\n",
       "      <td>NaN</td>\n",
       "      <td>NaN</td>\n",
       "      <td>NaN</td>\n",
       "      <td>NaN</td>\n",
       "      <td>NaN</td>\n",
       "      <td>NaN</td>\n",
       "      <td>NaN</td>\n",
       "      <td>NaN</td>\n",
       "      <td>NaN</td>\n",
       "      <td>NaN</td>\n",
       "      <td>NaN</td>\n",
       "      <td>2.625000e+03</td>\n",
       "      <td>2.344000e+03</td>\n",
       "      <td>NaN</td>\n",
       "      <td>NaN</td>\n",
       "      <td>6.200000e+05</td>\n",
       "    </tr>\n",
       "    <tr>\n",
       "      <th>max</th>\n",
       "      <td>NaN</td>\n",
       "      <td>NaN</td>\n",
       "      <td>NaN</td>\n",
       "      <td>NaN</td>\n",
       "      <td>NaN</td>\n",
       "      <td>NaN</td>\n",
       "      <td>NaN</td>\n",
       "      <td>NaN</td>\n",
       "      <td>NaN</td>\n",
       "      <td>NaN</td>\n",
       "      <td>NaN</td>\n",
       "      <td>NaN</td>\n",
       "      <td>NaN</td>\n",
       "      <td>NaN</td>\n",
       "      <td>NaN</td>\n",
       "      <td>NaN</td>\n",
       "      <td>NaN</td>\n",
       "      <td>NaN</td>\n",
       "      <td>NaN</td>\n",
       "      <td>NaN</td>\n",
       "      <td>7.446955e+06</td>\n",
       "      <td>2.548000e+06</td>\n",
       "      <td>NaN</td>\n",
       "      <td>NaN</td>\n",
       "      <td>1.307965e+09</td>\n",
       "    </tr>\n",
       "  </tbody>\n",
       "</table>\n",
       "</div>"
      ],
      "text/plain": [
       "       borough  borough_name  neighborhood  \\\n",
       "count    85975           0.0         85975   \n",
       "unique       5           0.0           257   \n",
       "top          1           NaN  MIDTOWN WEST   \n",
       "freq     27395           NaN          6264   \n",
       "first      NaN           NaN           NaN   \n",
       "last       NaN           NaN           NaN   \n",
       "mean       NaN           NaN           NaN   \n",
       "std        NaN           NaN           NaN   \n",
       "min        NaN           NaN           NaN   \n",
       "25%        NaN           NaN           NaN   \n",
       "50%        NaN           NaN           NaN   \n",
       "75%        NaN           NaN           NaN   \n",
       "max        NaN           NaN           NaN   \n",
       "\n",
       "                             building_class_category building_class  \\\n",
       "count                                          85975          81771   \n",
       "unique                                            40             39   \n",
       "top     01  ONE FAMILY HOMES                                     01   \n",
       "freq                                           14846          14846   \n",
       "first                                            NaN            NaN   \n",
       "last                                             NaN            NaN   \n",
       "mean                                             NaN            NaN   \n",
       "std                                              NaN            NaN   \n",
       "min                                              NaN            NaN   \n",
       "25%                                              NaN            NaN   \n",
       "50%                                              NaN            NaN   \n",
       "75%                                              NaN            NaN   \n",
       "max                                              NaN            NaN   \n",
       "\n",
       "       building_class_name tax_class_at_present tax_class_at_sale  block  \\\n",
       "count                81771                85975             85975  85975   \n",
       "unique                  39                   11                 5  11043   \n",
       "top       ONE FAMILY HOMES                    2                2    1027   \n",
       "freq                 14846                32899             38662   2735   \n",
       "first                  NaN                  NaN               NaN    NaN   \n",
       "last                   NaN                  NaN               NaN    NaN   \n",
       "mean                   NaN                  NaN               NaN    NaN   \n",
       "std                    NaN                  NaN               NaN    NaN   \n",
       "min                    NaN                  NaN               NaN    NaN   \n",
       "25%                    NaN                  NaN               NaN    NaN   \n",
       "50%                    NaN                  NaN               NaN    NaN   \n",
       "75%                    NaN                  NaN               NaN    NaN   \n",
       "max                    NaN                  NaN               NaN    NaN   \n",
       "\n",
       "          lot easement building_class_at_present building_class_at_sale  \\\n",
       "count   85975    85975                     85975                  85975   \n",
       "unique   2496        2                       170                    170   \n",
       "top         1                                 D4                    D4    \n",
       "freq     4015    85973                     13461                  13461   \n",
       "first     NaN      NaN                       NaN                    NaN   \n",
       "last      NaN      NaN                       NaN                    NaN   \n",
       "mean      NaN      NaN                       NaN                    NaN   \n",
       "std       NaN      NaN                       NaN                    NaN   \n",
       "min       NaN      NaN                       NaN                    NaN   \n",
       "25%       NaN      NaN                       NaN                    NaN   \n",
       "50%       NaN      NaN                       NaN                    NaN   \n",
       "75%       NaN      NaN                       NaN                    NaN   \n",
       "max       NaN      NaN                       NaN                    NaN   \n",
       "\n",
       "                                            address      address_  \\\n",
       "count                                         85975         85975   \n",
       "unique                                        63419         63419   \n",
       "top      870 7 AVENUE                                870 7 AVENUE   \n",
       "freq                                           2087          2087   \n",
       "first                                           NaN           NaN   \n",
       "last                                            NaN           NaN   \n",
       "mean                                            NaN           NaN   \n",
       "std                                             NaN           NaN   \n",
       "min                                             NaN           NaN   \n",
       "25%                                             NaN           NaN   \n",
       "50%                                             NaN           NaN   \n",
       "75%                                             NaN           NaN   \n",
       "max                                             NaN           NaN   \n",
       "\n",
       "       apartment_number zipcode residential_units commercial_units  \\\n",
       "count             85975   85975             85975            85975   \n",
       "unique             4492     185               178               63   \n",
       "top                       10019                 1                0   \n",
       "freq              63830    6193             31393            77358   \n",
       "first               NaN     NaN               NaN              NaN   \n",
       "last                NaN     NaN               NaN              NaN   \n",
       "mean                NaN     NaN               NaN              NaN   \n",
       "std                 NaN     NaN               NaN              NaN   \n",
       "min                 NaN     NaN               NaN              NaN   \n",
       "25%                 NaN     NaN               NaN              NaN   \n",
       "50%                 NaN     NaN               NaN              NaN   \n",
       "75%                 NaN     NaN               NaN              NaN   \n",
       "max                 NaN     NaN               NaN              NaN   \n",
       "\n",
       "       total_units  land_square_feet  gross_square_feet year_built  \\\n",
       "count        85975      8.597500e+04       8.597500e+04      85975   \n",
       "unique         187               NaN                NaN        160   \n",
       "top              1               NaN                NaN          0   \n",
       "freq         38672               NaN                NaN      11782   \n",
       "first          NaN               NaN                NaN        NaN   \n",
       "last           NaN               NaN                NaN        NaN   \n",
       "mean           NaN      3.085275e+03       5.049742e+03        NaN   \n",
       "std            NaN      5.501497e+04       2.836546e+04        NaN   \n",
       "min            NaN      0.000000e+00       0.000000e+00        NaN   \n",
       "25%            NaN      0.000000e+00       0.000000e+00        NaN   \n",
       "50%            NaN      1.512000e+03       6.500000e+02        NaN   \n",
       "75%            NaN      2.625000e+03       2.344000e+03        NaN   \n",
       "max            NaN      7.446955e+06       2.548000e+06        NaN   \n",
       "\n",
       "                  sale_date    sale_price  \n",
       "count                 85975  8.597500e+04  \n",
       "unique                  386           NaN  \n",
       "top     2012-09-27 00:00:00           NaN  \n",
       "freq                    988           NaN  \n",
       "first   2012-08-01 00:00:00           NaN  \n",
       "last    2013-08-26 00:00:00           NaN  \n",
       "mean                    NaN  8.850979e+05  \n",
       "std                     NaN  9.424213e+06  \n",
       "min                     NaN  0.000000e+00  \n",
       "25%                     NaN  0.000000e+00  \n",
       "50%                     NaN  2.600000e+05  \n",
       "75%                     NaN  6.200000e+05  \n",
       "max                     NaN  1.307965e+09  "
      ]
     },
     "execution_count": 418,
     "metadata": {},
     "output_type": "execute_result"
    }
   ],
   "source": [
    "raw_data.describe(include='all')"
   ]
  },
  {
   "cell_type": "code",
   "execution_count": null,
   "metadata": {},
   "outputs": [],
   "source": []
  },
  {
   "cell_type": "markdown",
   "metadata": {},
   "source": [
    "## Analysis in Detail - Missing,  Format Problems etc..\n",
    "\n",
    "- all results below section applied to the **raw_data**\n",
    "- **data_prepared** is the outcome data frame"
   ]
  },
  {
   "cell_type": "code",
   "execution_count": 273,
   "metadata": {},
   "outputs": [
    {
     "data": {
      "text/html": [
       "<div>\n",
       "<style scoped>\n",
       "    .dataframe tbody tr th:only-of-type {\n",
       "        vertical-align: middle;\n",
       "    }\n",
       "\n",
       "    .dataframe tbody tr th {\n",
       "        vertical-align: top;\n",
       "    }\n",
       "\n",
       "    .dataframe thead th {\n",
       "        text-align: right;\n",
       "    }\n",
       "</style>\n",
       "<table border=\"1\" class=\"dataframe\">\n",
       "  <thead>\n",
       "    <tr style=\"text-align: right;\">\n",
       "      <th></th>\n",
       "      <th>building_class_category</th>\n",
       "      <th>building_class_category_</th>\n",
       "    </tr>\n",
       "  </thead>\n",
       "  <tbody>\n",
       "    <tr>\n",
       "      <th>0</th>\n",
       "      <td>13  CONDOS - ELEVATOR APARTMENTS</td>\n",
       "      <td>[, 13,   , CONDOS - ELEVATOR APARTMENTS]</td>\n",
       "    </tr>\n",
       "    <tr>\n",
       "      <th>1</th>\n",
       "      <td>13  CONDOS - ELEVATOR APARTMENTS</td>\n",
       "      <td>[, 13,   , CONDOS - ELEVATOR APARTMENTS]</td>\n",
       "    </tr>\n",
       "    <tr>\n",
       "      <th>2</th>\n",
       "      <td>13  CONDOS - ELEVATOR APARTMENTS</td>\n",
       "      <td>[, 13,   , CONDOS - ELEVATOR APARTMENTS]</td>\n",
       "    </tr>\n",
       "    <tr>\n",
       "      <th>3</th>\n",
       "      <td>13  CONDOS - ELEVATOR APARTMENTS</td>\n",
       "      <td>[, 13,   , CONDOS - ELEVATOR APARTMENTS]</td>\n",
       "    </tr>\n",
       "    <tr>\n",
       "      <th>4</th>\n",
       "      <td>13  CONDOS - ELEVATOR APARTMENTS</td>\n",
       "      <td>[, 13,   , CONDOS - ELEVATOR APARTMENTS]</td>\n",
       "    </tr>\n",
       "    <tr>\n",
       "      <th>5</th>\n",
       "      <td>13  CONDOS - ELEVATOR APARTMENTS</td>\n",
       "      <td>[, 13,   , CONDOS - ELEVATOR APARTMENTS]</td>\n",
       "    </tr>\n",
       "    <tr>\n",
       "      <th>6</th>\n",
       "      <td>13  CONDOS - ELEVATOR APARTMENTS</td>\n",
       "      <td>[, 13,   , CONDOS - ELEVATOR APARTMENTS]</td>\n",
       "    </tr>\n",
       "    <tr>\n",
       "      <th>7</th>\n",
       "      <td>13  CONDOS - ELEVATOR APARTMENTS</td>\n",
       "      <td>[, 13,   , CONDOS - ELEVATOR APARTMENTS]</td>\n",
       "    </tr>\n",
       "    <tr>\n",
       "      <th>8</th>\n",
       "      <td>13  CONDOS - ELEVATOR APARTMENTS</td>\n",
       "      <td>[, 13,   , CONDOS - ELEVATOR APARTMENTS]</td>\n",
       "    </tr>\n",
       "    <tr>\n",
       "      <th>9</th>\n",
       "      <td>13  CONDOS - ELEVATOR APARTMENTS</td>\n",
       "      <td>[, 13,   , CONDOS - ELEVATOR APARTMENTS]</td>\n",
       "    </tr>\n",
       "  </tbody>\n",
       "</table>\n",
       "</div>"
      ],
      "text/plain": [
       "                        building_class_category  \\\n",
       "0  13  CONDOS - ELEVATOR APARTMENTS               \n",
       "1  13  CONDOS - ELEVATOR APARTMENTS               \n",
       "2  13  CONDOS - ELEVATOR APARTMENTS               \n",
       "3  13  CONDOS - ELEVATOR APARTMENTS               \n",
       "4  13  CONDOS - ELEVATOR APARTMENTS               \n",
       "5  13  CONDOS - ELEVATOR APARTMENTS               \n",
       "6  13  CONDOS - ELEVATOR APARTMENTS               \n",
       "7  13  CONDOS - ELEVATOR APARTMENTS               \n",
       "8  13  CONDOS - ELEVATOR APARTMENTS               \n",
       "9  13  CONDOS - ELEVATOR APARTMENTS               \n",
       "\n",
       "                   building_class_category_  \n",
       "0  [, 13,   , CONDOS - ELEVATOR APARTMENTS]  \n",
       "1  [, 13,   , CONDOS - ELEVATOR APARTMENTS]  \n",
       "2  [, 13,   , CONDOS - ELEVATOR APARTMENTS]  \n",
       "3  [, 13,   , CONDOS - ELEVATOR APARTMENTS]  \n",
       "4  [, 13,   , CONDOS - ELEVATOR APARTMENTS]  \n",
       "5  [, 13,   , CONDOS - ELEVATOR APARTMENTS]  \n",
       "6  [, 13,   , CONDOS - ELEVATOR APARTMENTS]  \n",
       "7  [, 13,   , CONDOS - ELEVATOR APARTMENTS]  \n",
       "8  [, 13,   , CONDOS - ELEVATOR APARTMENTS]  \n",
       "9  [, 13,   , CONDOS - ELEVATOR APARTMENTS]  "
      ]
     },
     "execution_count": 273,
     "metadata": {},
     "output_type": "execute_result"
    }
   ],
   "source": [
    "kkk = pd.DataFrame(raw_data['building_class_category'])\n",
    "\n",
    "\n",
    "# (^\\s)|(\\s+)$\n",
    "# r'(\\s+)$' and r'(^\\S+)(\\s+)\n",
    "\n",
    "kkk['building_class_category_'] = kkk['building_class_category'].str.split(r'(\\s+)$', expand=True)[0].str.split(r'(^\\S+)(\\s+)')\n",
    "# kkk['_len'] = kkk['building_class_category'].str.len()\n",
    "# kkk['__len'] = kkk['building_class_category'].str.len()\n",
    "# kkk['__diff'] = kkk._len - kkk.__len\n",
    "\n",
    "\n",
    "kkk.head(10)\n",
    "# kkk[kkk.__diff > 0 ]\n",
    "# kkk[kkk.total_units == '']"
   ]
  },
  {
   "cell_type": "code",
   "execution_count": null,
   "metadata": {},
   "outputs": [],
   "source": []
  },
  {
   "cell_type": "code",
   "execution_count": 274,
   "metadata": {},
   "outputs": [
    {
     "data": {
      "text/html": [
       "<div>\n",
       "<style scoped>\n",
       "    .dataframe tbody tr th:only-of-type {\n",
       "        vertical-align: middle;\n",
       "    }\n",
       "\n",
       "    .dataframe tbody tr th {\n",
       "        vertical-align: top;\n",
       "    }\n",
       "\n",
       "    .dataframe thead th {\n",
       "        text-align: right;\n",
       "    }\n",
       "</style>\n",
       "<table border=\"1\" class=\"dataframe\">\n",
       "  <thead>\n",
       "    <tr style=\"text-align: right;\">\n",
       "      <th></th>\n",
       "      <th>total_units</th>\n",
       "      <th>total_units_</th>\n",
       "      <th>total_units_len</th>\n",
       "      <th>total_units__len</th>\n",
       "      <th>total_units__diff</th>\n",
       "    </tr>\n",
       "  </thead>\n",
       "  <tbody>\n",
       "  </tbody>\n",
       "</table>\n",
       "</div>"
      ],
      "text/plain": [
       "Empty DataFrame\n",
       "Columns: [total_units, total_units_, total_units_len, total_units__len, total_units__diff]\n",
       "Index: []"
      ]
     },
     "execution_count": 274,
     "metadata": {},
     "output_type": "execute_result"
    }
   ],
   "source": [
    "kkk = pd.DataFrame(raw_data['total_units'])\n",
    "\n",
    "\n",
    "# (^\\s)|(\\s+)$\n",
    "\n",
    "kkk['total_units_'] = kkk['total_units'].str.split(r'(\\s+)$|,', expand=True)[0]\n",
    "kkk['total_units_len'] = kkk['total_units'].str.len()\n",
    "kkk['total_units__len'] = kkk['total_units'].str.len()\n",
    "kkk['total_units__diff'] = kkk.total_units_len - kkk.total_units__len\n",
    "\n",
    "\n",
    "kkk[kkk.total_units__diff > 0 ]\n",
    "# kkk[kkk.total_units == '']"
   ]
  },
  {
   "cell_type": "code",
   "execution_count": 275,
   "metadata": {},
   "outputs": [
    {
     "data": {
      "text/plain": [
       "29729"
      ]
     },
     "execution_count": 275,
     "metadata": {},
     "output_type": "execute_result"
    }
   ],
   "source": [
    "len(kkk[kkk.total_units.isna()])"
   ]
  },
  {
   "cell_type": "code",
   "execution_count": 276,
   "metadata": {},
   "outputs": [
    {
     "data": {
      "text/plain": [
       "total_units\n",
       "1     25991\n",
       "0     16133\n",
       "2      8178\n",
       "3      2289\n",
       "4       612\n",
       "6       450\n",
       "5       323\n",
       "10      192\n",
       "8       182\n",
       "7       166\n",
       "dtype: int64"
      ]
     },
     "execution_count": 276,
     "metadata": {},
     "output_type": "execute_result"
    }
   ],
   "source": [
    "kkk.groupby('total_units').size().sort_values(ascending=False).head(10)#.plot()"
   ]
  },
  {
   "cell_type": "code",
   "execution_count": 277,
   "metadata": {},
   "outputs": [
    {
     "data": {
      "text/plain": [
       "62392"
      ]
     },
     "execution_count": 277,
     "metadata": {},
     "output_type": "execute_result"
    }
   ],
   "source": [
    "kkk = pd.DataFrame(raw_data['commercial_units'])\n",
    "\n",
    "\n",
    "# (^\\s)|(\\s+)$\n",
    "\n",
    "kkk['commercial_units_'] = kkk['commercial_units'].str.split(r'(\\s+)$|,', expand=True)[0]\n",
    "kkk['commercial_units_len'] = kkk['commercial_units'].str.len()\n",
    "kkk['commercial_units__len'] = kkk['commercial_units'].str.len()\n",
    "kkk['commercial_units__diff'] = kkk.commercial_units_len - kkk.commercial_units__len\n",
    "\n",
    "\n",
    "len(kkk[kkk.commercial_units.isna()])\n",
    "# kkk[kkk.commercial_units.i]"
   ]
  },
  {
   "cell_type": "code",
   "execution_count": 278,
   "metadata": {},
   "outputs": [
    {
     "data": {
      "text/plain": [
       "commercial_units\n",
       "0     21998\n",
       "1      1182\n",
       "2       181\n",
       "3        80\n",
       "5        36\n",
       "4        34\n",
       "7        14\n",
       "6        14\n",
       "9         8\n",
       "11        7\n",
       "dtype: int64"
      ]
     },
     "execution_count": 278,
     "metadata": {},
     "output_type": "execute_result"
    }
   ],
   "source": [
    "kkk.groupby('commercial_units').size().sort_values(ascending=False).head(10)#.plot()"
   ]
  },
  {
   "cell_type": "code",
   "execution_count": 284,
   "metadata": {},
   "outputs": [
    {
     "data": {
      "text/html": [
       "<div>\n",
       "<style scoped>\n",
       "    .dataframe tbody tr th:only-of-type {\n",
       "        vertical-align: middle;\n",
       "    }\n",
       "\n",
       "    .dataframe tbody tr th {\n",
       "        vertical-align: top;\n",
       "    }\n",
       "\n",
       "    .dataframe thead th {\n",
       "        text-align: right;\n",
       "    }\n",
       "</style>\n",
       "<table border=\"1\" class=\"dataframe\">\n",
       "  <thead>\n",
       "    <tr style=\"text-align: right;\">\n",
       "      <th></th>\n",
       "      <th>residential_units</th>\n",
       "      <th>residential_units_</th>\n",
       "      <th>residential_units_len</th>\n",
       "      <th>residential_units__len</th>\n",
       "      <th>residential_units__diff</th>\n",
       "    </tr>\n",
       "  </thead>\n",
       "  <tbody>\n",
       "  </tbody>\n",
       "</table>\n",
       "</div>"
      ],
      "text/plain": [
       "Empty DataFrame\n",
       "Columns: [residential_units, residential_units_, residential_units_len, residential_units__len, residential_units__diff]\n",
       "Index: []"
      ]
     },
     "execution_count": 284,
     "metadata": {},
     "output_type": "execute_result"
    }
   ],
   "source": [
    "kkk = pd.DataFrame(raw_data['residential_units'])\n",
    "\n",
    "\n",
    "# (^\\s)|(\\s+)$\n",
    "\n",
    "kkk['residential_units_'] = kkk['residential_units'].str.split(r'(\\s+)$|,', expand=True)[0]\n",
    "kkk['residential_units_len'] = kkk['residential_units'].str.len()\n",
    "kkk['residential_units__len'] = kkk['residential_units'].str.len()\n",
    "kkk['residential_units__diff'] = kkk.residential_units_len - kkk.residential_units__len\n",
    "\n",
    "\n",
    "kkk[kkk.residential_units__diff > 0]"
   ]
  },
  {
   "cell_type": "code",
   "execution_count": 285,
   "metadata": {},
   "outputs": [
    {
     "data": {
      "text/plain": [
       "29729"
      ]
     },
     "execution_count": 285,
     "metadata": {},
     "output_type": "execute_result"
    }
   ],
   "source": [
    "len(kkk[kkk.residential_units.isna()])"
   ]
  },
  {
   "cell_type": "code",
   "execution_count": 292,
   "metadata": {},
   "outputs": [
    {
     "data": {
      "text/plain": [
       "building_class_name\n",
       "ASYLUMS AND HOMES                             7\n",
       "COMMERCIAL CONDOS                           488\n",
       "COMMERCIAL GARAGES                          376\n",
       "COMMERCIAL VACANT LAND                      206\n",
       "CONDO-RENTALS                                 3\n",
       "CONDOPS                                      94\n",
       "CONDOS - 2-10 UNIT RESIDENTIAL              675\n",
       "CONDOS - 2-10 UNIT WITH COMMERCIAL UNIT      28\n",
       "CONDOS - ELEVATOR APARTMENTS               2870\n",
       "CONDOS - WALKUP APARTMENTS                  532\n",
       "COOPS - ELEVATOR APARTMENTS                2172\n",
       "COOPS - WALKUP APARTMENTS                   706\n",
       "EDUCATIONAL FACILITIES                       30\n",
       "FACTORIES                                   173\n",
       "HOSPITAL AND HEALTH FACILITIES               11\n",
       "INDOOR PUBLIC AND CULTURAL FACILITIES        11\n",
       "LOFT BUILDINGS                               12\n",
       "LUXURY HOTELS                                 2\n",
       "OFFICE BUILDINGS                            170\n",
       "ONE FAMILY HOMES                           6383\n",
       "OTHER HOTELS                                 11\n",
       "OUTDOOR RECREATIONAL FACILITIES               7\n",
       "RELIGIOUS FACILITIES                         39\n",
       "RENTALS - 4-10 UNIT                         435\n",
       "RENTALS - ELEVATOR APARTMENTS               117\n",
       "RENTALS - WALKUP APARTMENTS                1809\n",
       "SELECTED GOVERNMENTAL FACILITIES              5\n",
       "STORE BUILDINGS                             527\n",
       "TAX CLASS 1 - OTHER                          76\n",
       "TAX CLASS 1 CONDOS                          795\n",
       "TAX CLASS 1 VACANT LAND                     700\n",
       "TAX CLASS 3 - UTILITY PROPERTIES              3\n",
       "TAX CLASS 4 - OTHER                         115\n",
       "THEATRES                                      3\n",
       "THREE FAMILY HOMES                         2310\n",
       "TWO FAMILY HOMES                           7279\n",
       "WAREHOUSES                                  213\n",
       "dtype: int64"
      ]
     },
     "execution_count": 292,
     "metadata": {},
     "output_type": "execute_result"
    }
   ],
   "source": [
    "# we can set empty residential_units w/ means by building_class_name,\n",
    "# or we can cluster then, predict more meaningful values?\n",
    "\n",
    "xyz = raw_data[raw_data.residential_units.isna()]\n",
    "\n",
    "xyz.groupby('building_class_name').size()"
   ]
  },
  {
   "cell_type": "code",
   "execution_count": 344,
   "metadata": {},
   "outputs": [
    {
     "name": "stderr",
     "output_type": "stream",
     "text": [
      "/usr/local/anaconda3/lib/python3.7/site-packages/ipykernel_launcher.py:2: SettingWithCopyWarning: \n",
      "A value is trying to be set on a copy of a slice from a DataFrame.\n",
      "Try using .loc[row_indexer,col_indexer] = value instead\n",
      "\n",
      "See the caveats in the documentation: http://pandas.pydata.org/pandas-docs/stable/indexing.html#indexing-view-versus-copy\n",
      "  \n"
     ]
    },
    {
     "data": {
      "text/plain": [
       "building_class_name  residential_units\n",
       "ASYLUMS AND HOMES    0                       3\n",
       "                     2                       1\n",
       "                     40                      1\n",
       "                     65                      1\n",
       "COMMERCIAL CONDOS    0                    1194\n",
       "dtype: int64"
      ]
     },
     "execution_count": 344,
     "metadata": {},
     "output_type": "execute_result"
    }
   ],
   "source": [
    "xyz_notna = raw_data[raw_data.residential_units.notna()]\n",
    "xyz_notna['residential_units_'] = xyz_notna['residential_units'].astype(int)\n",
    "\n",
    "# xyz_notna = xyz_notna.groupby(['building_class_name']).mean().round()\n",
    "\n",
    "\n",
    "xyz_notna = xyz_notna.groupby(['building_class_name', 'residential_units']).size()\n",
    "\n",
    "xyz_notna.head(5)"
   ]
  },
  {
   "cell_type": "code",
   "execution_count": null,
   "metadata": {},
   "outputs": [],
   "source": []
  },
  {
   "cell_type": "code",
   "execution_count": 18,
   "metadata": {
    "scrolled": false
   },
   "outputs": [
    {
     "data": {
      "text/plain": [
       "apartment_number\n",
       "                63830\n",
       "#1                  1\n",
       "#4                  1\n",
       "#C3                 1\n",
       "#C6                 1\n",
       "*                   1\n",
       "-                   1\n",
       "01-B                1\n",
       "02A                 1\n",
       "0N                  1\n",
       "dtype: int64"
      ]
     },
     "execution_count": 18,
     "metadata": {},
     "output_type": "execute_result"
    }
   ],
   "source": [
    "kkk = pd.DataFrame(raw_data['apartment_number'])\n",
    "\n",
    "kkk.groupby('apartment_number').size().sort_index().head(10)\n",
    "\n",
    "# 60K+ empty\n",
    "# nothing special\n",
    "# remove column"
   ]
  },
  {
   "cell_type": "code",
   "execution_count": 19,
   "metadata": {},
   "outputs": [
    {
     "data": {
      "text/html": [
       "<div>\n",
       "<style scoped>\n",
       "    .dataframe tbody tr th:only-of-type {\n",
       "        vertical-align: middle;\n",
       "    }\n",
       "\n",
       "    .dataframe tbody tr th {\n",
       "        vertical-align: top;\n",
       "    }\n",
       "\n",
       "    .dataframe thead th {\n",
       "        text-align: right;\n",
       "    }\n",
       "</style>\n",
       "<table border=\"1\" class=\"dataframe\">\n",
       "  <thead>\n",
       "    <tr style=\"text-align: right;\">\n",
       "      <th></th>\n",
       "      <th>neighborhood</th>\n",
       "      <th>neighborhood_</th>\n",
       "      <th>neighborhood_len</th>\n",
       "      <th>neighborhood__len</th>\n",
       "      <th>neighborhood__diff</th>\n",
       "    </tr>\n",
       "  </thead>\n",
       "  <tbody>\n",
       "  </tbody>\n",
       "</table>\n",
       "</div>"
      ],
      "text/plain": [
       "Empty DataFrame\n",
       "Columns: [neighborhood, neighborhood_, neighborhood_len, neighborhood__len, neighborhood__diff]\n",
       "Index: []"
      ]
     },
     "execution_count": 19,
     "metadata": {},
     "output_type": "execute_result"
    }
   ],
   "source": [
    "kkk = pd.DataFrame(raw_data['neighborhood'])\n",
    "\n",
    "\n",
    "# (^\\s)|(\\s+)$\n",
    "\n",
    "kkk['neighborhood_'] = kkk['neighborhood'].str.split(r'(\\s+)$|,', expand=True)[0]\n",
    "kkk['neighborhood_len'] = kkk['neighborhood'].str.len()\n",
    "kkk['neighborhood__len'] = kkk['neighborhood'].str.len()\n",
    "kkk['neighborhood__diff'] = kkk.neighborhood_len - kkk.neighborhood__len\n",
    "\n",
    "\n",
    "kkk[kkk.neighborhood__diff > 0]"
   ]
  },
  {
   "cell_type": "code",
   "execution_count": 20,
   "metadata": {},
   "outputs": [
    {
     "data": {
      "text/plain": [
       "49897"
      ]
     },
     "execution_count": 20,
     "metadata": {},
     "output_type": "execute_result"
    }
   ],
   "source": [
    "kkk.groupby('neighborhood_').size().sort_values(ascending=False).head(50).sum()\n",
    "\n",
    "# top 50 neighborhood covers 50K+ houses"
   ]
  },
  {
   "cell_type": "code",
   "execution_count": 21,
   "metadata": {},
   "outputs": [
    {
     "data": {
      "text/html": [
       "<div>\n",
       "<style scoped>\n",
       "    .dataframe tbody tr th:only-of-type {\n",
       "        vertical-align: middle;\n",
       "    }\n",
       "\n",
       "    .dataframe tbody tr th {\n",
       "        vertical-align: top;\n",
       "    }\n",
       "\n",
       "    .dataframe thead th {\n",
       "        text-align: right;\n",
       "    }\n",
       "</style>\n",
       "<table border=\"1\" class=\"dataframe\">\n",
       "  <thead>\n",
       "    <tr style=\"text-align: right;\">\n",
       "      <th></th>\n",
       "      <th>address</th>\n",
       "      <th>address_</th>\n",
       "      <th>address_len</th>\n",
       "      <th>address__len</th>\n",
       "      <th>address__diff</th>\n",
       "    </tr>\n",
       "  </thead>\n",
       "  <tbody>\n",
       "    <tr>\n",
       "      <th>0</th>\n",
       "      <td>345 WEST 14TH   STREET</td>\n",
       "      <td>345 WEST 14TH   STREET</td>\n",
       "      <td>43</td>\n",
       "      <td>22</td>\n",
       "      <td>21</td>\n",
       "    </tr>\n",
       "    <tr>\n",
       "      <th>1</th>\n",
       "      <td>345 WEST 14TH   STREET</td>\n",
       "      <td>345 WEST 14TH   STREET</td>\n",
       "      <td>43</td>\n",
       "      <td>22</td>\n",
       "      <td>21</td>\n",
       "    </tr>\n",
       "    <tr>\n",
       "      <th>2</th>\n",
       "      <td>345 WEST 14TH   STREET</td>\n",
       "      <td>345 WEST 14TH   STREET</td>\n",
       "      <td>43</td>\n",
       "      <td>22</td>\n",
       "      <td>21</td>\n",
       "    </tr>\n",
       "    <tr>\n",
       "      <th>3</th>\n",
       "      <td>345 WEST 14TH   STREET</td>\n",
       "      <td>345 WEST 14TH   STREET</td>\n",
       "      <td>43</td>\n",
       "      <td>22</td>\n",
       "      <td>21</td>\n",
       "    </tr>\n",
       "    <tr>\n",
       "      <th>4</th>\n",
       "      <td>345 WEST 14TH   STREET</td>\n",
       "      <td>345 WEST 14TH   STREET</td>\n",
       "      <td>43</td>\n",
       "      <td>22</td>\n",
       "      <td>21</td>\n",
       "    </tr>\n",
       "  </tbody>\n",
       "</table>\n",
       "</div>"
      ],
      "text/plain": [
       "                                       address                address_  \\\n",
       "0   345 WEST 14TH   STREET                      345 WEST 14TH   STREET   \n",
       "1   345 WEST 14TH   STREET                      345 WEST 14TH   STREET   \n",
       "2   345 WEST 14TH   STREET                      345 WEST 14TH   STREET   \n",
       "3   345 WEST 14TH   STREET                      345 WEST 14TH   STREET   \n",
       "4   345 WEST 14TH   STREET                      345 WEST 14TH   STREET   \n",
       "\n",
       "   address_len  address__len  address__diff  \n",
       "0           43            22             21  \n",
       "1           43            22             21  \n",
       "2           43            22             21  \n",
       "3           43            22             21  \n",
       "4           43            22             21  "
      ]
     },
     "execution_count": 21,
     "metadata": {},
     "output_type": "execute_result"
    }
   ],
   "source": [
    "kkk = pd.DataFrame(raw_data['address'])\n",
    "\n",
    "\n",
    "# (^\\s)|(\\s+)$\n",
    "\n",
    "kkk['address_'] = kkk['address'].str.split(r'(^\\s)|(\\s+)$', expand=True)[3]\n",
    "kkk['address_len'] = kkk['address'].str.len()\n",
    "kkk['address__len'] = kkk['address_'].str.len()\n",
    "kkk['address__diff'] = kkk.address_len - kkk.address__len\n",
    "\n",
    "\n",
    "kkk.head()"
   ]
  },
  {
   "cell_type": "code",
   "execution_count": null,
   "metadata": {},
   "outputs": [],
   "source": []
  },
  {
   "cell_type": "code",
   "execution_count": null,
   "metadata": {},
   "outputs": [],
   "source": []
  },
  {
   "cell_type": "markdown",
   "metadata": {},
   "source": [
    "## Visualize, Get More Intuition\n",
    "\n",
    "- Visualize for myself (mostly using pandas), then seaborn or google data studio for more apelling graphs"
   ]
  },
  {
   "cell_type": "code",
   "execution_count": 22,
   "metadata": {},
   "outputs": [
    {
     "data": {
      "text/plain": [
       "building_class\n",
       "01    14846\n",
       "02    13678\n",
       "03     4135\n",
       "dtype: int64"
      ]
     },
     "execution_count": 22,
     "metadata": {},
     "output_type": "execute_result"
    }
   ],
   "source": [
    "raw_data.groupby('building_class').size().head(3)\n",
    "\n",
    "# we should split this column into 2 pieces"
   ]
  },
  {
   "cell_type": "code",
   "execution_count": 23,
   "metadata": {
    "scrolled": true
   },
   "outputs": [
    {
     "data": {
      "text/plain": [
       "tax_class_at_present\n",
       "        271\n",
       "1     32863\n",
       "1A     1113\n",
       "1B     1221\n",
       "1C      122\n",
       "2     32899\n",
       "2A     2667\n",
       "2B      971\n",
       "2C     1905\n",
       "3         6\n",
       "4     11937\n",
       "dtype: int64"
      ]
     },
     "execution_count": 23,
     "metadata": {},
     "output_type": "execute_result"
    }
   ],
   "source": [
    "raw_data.groupby('tax_class_at_present').size()#.plot(kind='bar')\n",
    "\n",
    "# 1, 2 and 4 is dominating tax_class_at...."
   ]
  },
  {
   "cell_type": "code",
   "execution_count": 24,
   "metadata": {},
   "outputs": [
    {
     "data": {
      "text/html": [
       "<div>\n",
       "<style scoped>\n",
       "    .dataframe tbody tr th:only-of-type {\n",
       "        vertical-align: middle;\n",
       "    }\n",
       "\n",
       "    .dataframe tbody tr th {\n",
       "        vertical-align: top;\n",
       "    }\n",
       "\n",
       "    .dataframe thead th {\n",
       "        text-align: right;\n",
       "    }\n",
       "</style>\n",
       "<table border=\"1\" class=\"dataframe\">\n",
       "  <thead>\n",
       "    <tr style=\"text-align: right;\">\n",
       "      <th></th>\n",
       "      <th>borough</th>\n",
       "      <th>borough_name</th>\n",
       "      <th>neighborhood</th>\n",
       "      <th>building_class_category</th>\n",
       "      <th>building_class</th>\n",
       "      <th>building_class_name</th>\n",
       "      <th>tax_class_at_present</th>\n",
       "      <th>tax_class_at_sale</th>\n",
       "      <th>block</th>\n",
       "      <th>lot</th>\n",
       "      <th>easement</th>\n",
       "      <th>building_class_at_present</th>\n",
       "      <th>building_class_at_sale</th>\n",
       "      <th>address</th>\n",
       "      <th>address_</th>\n",
       "      <th>apartment_number</th>\n",
       "      <th>zipcode</th>\n",
       "      <th>residential_units</th>\n",
       "      <th>commercial_units</th>\n",
       "      <th>total_units</th>\n",
       "      <th>land_square_feet</th>\n",
       "      <th>gross_square_feet</th>\n",
       "      <th>year_built</th>\n",
       "      <th>sale_date</th>\n",
       "      <th>sale_price</th>\n",
       "    </tr>\n",
       "  </thead>\n",
       "  <tbody>\n",
       "  </tbody>\n",
       "</table>\n",
       "</div>"
      ],
      "text/plain": [
       "Empty DataFrame\n",
       "Columns: [borough, borough_name, neighborhood, building_class_category, building_class, building_class_name, tax_class_at_present, tax_class_at_sale, block, lot, easement, building_class_at_present, building_class_at_sale, address, address_, apartment_number, zipcode, residential_units, commercial_units, total_units, land_square_feet, gross_square_feet, year_built, sale_date, sale_price]\n",
       "Index: []"
      ]
     },
     "execution_count": 24,
     "metadata": {},
     "output_type": "execute_result"
    }
   ],
   "source": [
    "raw_data[raw_data.tax_class_at_present.isna()]"
   ]
  },
  {
   "cell_type": "code",
   "execution_count": 25,
   "metadata": {},
   "outputs": [
    {
     "data": {
      "text/html": [
       "<div>\n",
       "<style scoped>\n",
       "    .dataframe tbody tr th:only-of-type {\n",
       "        vertical-align: middle;\n",
       "    }\n",
       "\n",
       "    .dataframe tbody tr th {\n",
       "        vertical-align: top;\n",
       "    }\n",
       "\n",
       "    .dataframe thead th {\n",
       "        text-align: right;\n",
       "    }\n",
       "</style>\n",
       "<table border=\"1\" class=\"dataframe\">\n",
       "  <thead>\n",
       "    <tr style=\"text-align: right;\">\n",
       "      <th></th>\n",
       "      <th>borough</th>\n",
       "      <th>borough_name</th>\n",
       "      <th>neighborhood</th>\n",
       "      <th>building_class_category</th>\n",
       "      <th>building_class</th>\n",
       "      <th>building_class_name</th>\n",
       "      <th>tax_class_at_present</th>\n",
       "      <th>tax_class_at_sale</th>\n",
       "      <th>block</th>\n",
       "      <th>lot</th>\n",
       "      <th>easement</th>\n",
       "      <th>building_class_at_present</th>\n",
       "      <th>building_class_at_sale</th>\n",
       "      <th>address</th>\n",
       "      <th>address_</th>\n",
       "      <th>apartment_number</th>\n",
       "      <th>zipcode</th>\n",
       "      <th>residential_units</th>\n",
       "      <th>commercial_units</th>\n",
       "      <th>total_units</th>\n",
       "      <th>land_square_feet</th>\n",
       "      <th>gross_square_feet</th>\n",
       "      <th>year_built</th>\n",
       "      <th>sale_date</th>\n",
       "      <th>sale_price</th>\n",
       "    </tr>\n",
       "  </thead>\n",
       "  <tbody>\n",
       "    <tr>\n",
       "      <th>0</th>\n",
       "      <td>1</td>\n",
       "      <td>Manhattan</td>\n",
       "      <td></td>\n",
       "      <td>13  CONDOS - ELEVATOR APARTMENTS</td>\n",
       "      <td>13</td>\n",
       "      <td>CONDOS - ELEVATOR APARTMENTS</td>\n",
       "      <td></td>\n",
       "      <td>2</td>\n",
       "      <td>738</td>\n",
       "      <td>1306</td>\n",
       "      <td></td>\n",
       "      <td></td>\n",
       "      <td>R4</td>\n",
       "      <td>345 WEST 14TH   STREET</td>\n",
       "      <td>345 WEST 14TH   STREET</td>\n",
       "      <td></td>\n",
       "      <td>10014</td>\n",
       "      <td>0</td>\n",
       "      <td>NaN</td>\n",
       "      <td>0</td>\n",
       "      <td>0</td>\n",
       "      <td>0</td>\n",
       "      <td>0</td>\n",
       "      <td>2013-05-20</td>\n",
       "      <td>2214693.0</td>\n",
       "    </tr>\n",
       "    <tr>\n",
       "      <th>1</th>\n",
       "      <td>1</td>\n",
       "      <td>Manhattan</td>\n",
       "      <td></td>\n",
       "      <td>13  CONDOS - ELEVATOR APARTMENTS</td>\n",
       "      <td>13</td>\n",
       "      <td>CONDOS - ELEVATOR APARTMENTS</td>\n",
       "      <td></td>\n",
       "      <td>2</td>\n",
       "      <td>738</td>\n",
       "      <td>1307</td>\n",
       "      <td></td>\n",
       "      <td></td>\n",
       "      <td>R4</td>\n",
       "      <td>345 WEST 14TH   STREET</td>\n",
       "      <td>345 WEST 14TH   STREET</td>\n",
       "      <td></td>\n",
       "      <td>10014</td>\n",
       "      <td>0</td>\n",
       "      <td>NaN</td>\n",
       "      <td>0</td>\n",
       "      <td>0</td>\n",
       "      <td>0</td>\n",
       "      <td>0</td>\n",
       "      <td>2013-05-16</td>\n",
       "      <td>1654656.0</td>\n",
       "    </tr>\n",
       "    <tr>\n",
       "      <th>2</th>\n",
       "      <td>1</td>\n",
       "      <td>Manhattan</td>\n",
       "      <td></td>\n",
       "      <td>13  CONDOS - ELEVATOR APARTMENTS</td>\n",
       "      <td>13</td>\n",
       "      <td>CONDOS - ELEVATOR APARTMENTS</td>\n",
       "      <td></td>\n",
       "      <td>2</td>\n",
       "      <td>738</td>\n",
       "      <td>1308</td>\n",
       "      <td></td>\n",
       "      <td></td>\n",
       "      <td>R4</td>\n",
       "      <td>345 WEST 14TH   STREET</td>\n",
       "      <td>345 WEST 14TH   STREET</td>\n",
       "      <td></td>\n",
       "      <td>10014</td>\n",
       "      <td>0</td>\n",
       "      <td>NaN</td>\n",
       "      <td>0</td>\n",
       "      <td>0</td>\n",
       "      <td>0</td>\n",
       "      <td>0</td>\n",
       "      <td>2013-05-23</td>\n",
       "      <td>1069162.0</td>\n",
       "    </tr>\n",
       "  </tbody>\n",
       "</table>\n",
       "</div>"
      ],
      "text/plain": [
       "   borough borough_name neighborhood  \\\n",
       "0        1    Manhattan                \n",
       "1        1    Manhattan                \n",
       "2        1    Manhattan                \n",
       "\n",
       "                        building_class_category building_class  \\\n",
       "0  13  CONDOS - ELEVATOR APARTMENTS                         13   \n",
       "1  13  CONDOS - ELEVATOR APARTMENTS                         13   \n",
       "2  13  CONDOS - ELEVATOR APARTMENTS                         13   \n",
       "\n",
       "            building_class_name tax_class_at_present tax_class_at_sale  block  \\\n",
       "0  CONDOS - ELEVATOR APARTMENTS                                      2    738   \n",
       "1  CONDOS - ELEVATOR APARTMENTS                                      2    738   \n",
       "2  CONDOS - ELEVATOR APARTMENTS                                      2    738   \n",
       "\n",
       "    lot easement building_class_at_present building_class_at_sale  \\\n",
       "0  1306                                                       R4    \n",
       "1  1307                                                       R4    \n",
       "2  1308                                                       R4    \n",
       "\n",
       "                                       address                address_  \\\n",
       "0   345 WEST 14TH   STREET                      345 WEST 14TH   STREET   \n",
       "1   345 WEST 14TH   STREET                      345 WEST 14TH   STREET   \n",
       "2   345 WEST 14TH   STREET                      345 WEST 14TH   STREET   \n",
       "\n",
       "  apartment_number  zipcode residential_units commercial_units total_units  \\\n",
       "0                     10014                 0              NaN           0   \n",
       "1                     10014                 0              NaN           0   \n",
       "2                     10014                 0              NaN           0   \n",
       "\n",
       "   land_square_feet  gross_square_feet  year_built  sale_date  sale_price  \n",
       "0                 0                  0           0 2013-05-20   2214693.0  \n",
       "1                 0                  0           0 2013-05-16   1654656.0  \n",
       "2                 0                  0           0 2013-05-23   1069162.0  "
      ]
     },
     "execution_count": 25,
     "metadata": {},
     "output_type": "execute_result"
    }
   ],
   "source": [
    "raw_data[raw_data.tax_class_at_present == '  '].head(3)\n",
    "\n",
    "# delete this rows "
   ]
  },
  {
   "cell_type": "code",
   "execution_count": null,
   "metadata": {},
   "outputs": [],
   "source": []
  },
  {
   "cell_type": "code",
   "execution_count": 182,
   "metadata": {},
   "outputs": [
    {
     "data": {
      "text/plain": [
       "<matplotlib.axes._subplots.AxesSubplot at 0x1a3ce32550>"
      ]
     },
     "execution_count": 182,
     "metadata": {},
     "output_type": "execute_result"
    },
    {
     "data": {
      "image/png": "[encoded data removed]",
      "text/plain": [
       "<Figure size 432x288 with 1 Axes>"
      ]
     },
     "metadata": {
      "needs_background": "light"
     },
     "output_type": "display_data"
    }
   ],
   "source": [
    "raw_data.groupby('block').size().plot()\n",
    "\n",
    "# it reads as numerical, but infact categorical\n",
    "# can be deleted"
   ]
  },
  {
   "cell_type": "code",
   "execution_count": 27,
   "metadata": {},
   "outputs": [
    {
     "data": {
      "text/plain": [
       "<matplotlib.axes._subplots.AxesSubplot at 0x1a2425c240>"
      ]
     },
     "execution_count": 27,
     "metadata": {},
     "output_type": "execute_result"
    },
    {
     "data": {
      "image/png": "[encoded data removed]",
      "text/plain": [
       "<Figure size 432x288 with 1 Axes>"
      ]
     },
     "metadata": {
      "needs_background": "light"
     },
     "output_type": "display_data"
    }
   ],
   "source": [
    "raw_data.groupby('lot').size().plot()\n",
    "\n",
    "# it reads as numerical, but infact categorical\n",
    "# can be deleted"
   ]
  },
  {
   "cell_type": "code",
   "execution_count": 27,
   "metadata": {},
   "outputs": [
    {
     "data": {
      "text/plain": [
       "easement\n",
       "     85973\n",
       "E        2\n",
       "dtype: int64"
      ]
     },
     "execution_count": 27,
     "metadata": {},
     "output_type": "execute_result"
    }
   ],
   "source": [
    "raw_data.groupby('easement').size()\n",
    "\n",
    "# can be deleted"
   ]
  },
  {
   "cell_type": "code",
   "execution_count": 28,
   "metadata": {},
   "outputs": [
    {
     "data": {
      "text/plain": [
       "<matplotlib.axes._subplots.AxesSubplot at 0x1a224db898>"
      ]
     },
     "execution_count": 28,
     "metadata": {},
     "output_type": "execute_result"
    },
    {
     "data": {
      "image/png": "[encoded data removed]",
      "text/plain": [
       "<Figure size 432x288 with 1 Axes>"
      ]
     },
     "metadata": {
      "needs_background": "light"
     },
     "output_type": "display_data"
    }
   ],
   "source": [
    "raw_data.groupby('building_class_at_present').size().sort_values(ascending=False).plot()\n",
    "\n",
    "# raw_data[raw_data.building_class_at_present == 'C2'].groupby('building_class_at_present').size()\n",
    "\n",
    "# some has +100 items? need domain knowledge to extract a meaningful sense\n",
    "# building_class_at_present: may be mapped into 3 groups to use later ?\n",
    "# no white-spaces at the end"
   ]
  },
  {
   "cell_type": "code",
   "execution_count": 29,
   "metadata": {},
   "outputs": [
    {
     "data": {
      "text/plain": [
       "<matplotlib.axes._subplots.AxesSubplot at 0x1a21f4bd30>"
      ]
     },
     "execution_count": 29,
     "metadata": {},
     "output_type": "execute_result"
    },
    {
     "data": {
      "image/png": "[encoded data removed]",
      "text/plain": [
       "<Figure size 432x288 with 1 Axes>"
      ]
     },
     "metadata": {
      "needs_background": "light"
     },
     "output_type": "display_data"
    }
   ],
   "source": [
    "raw_data.groupby('building_class_at_sale').size().sort_values(ascending=False).plot()"
   ]
  },
  {
   "cell_type": "code",
   "execution_count": 30,
   "metadata": {
    "scrolled": true
   },
   "outputs": [
    {
     "data": {
      "text/plain": [
       "apartment_number\n",
       "                63830\n",
       "TIMES             599\n",
       "4                 273\n",
       "3B                249\n",
       "3A                244\n",
       "2                 235\n",
       "3                 233\n",
       "6                 228\n",
       "2A                222\n",
       "4A                219\n",
       "dtype: int64"
      ]
     },
     "execution_count": 30,
     "metadata": {},
     "output_type": "execute_result"
    }
   ],
   "source": [
    "raw_data.groupby('apartment_number').size().sort_values(ascending=False).head(10)\n",
    "\n",
    "# len(raw_data.groupby('apartment_number').size()) \n",
    "\n",
    "# raw_data[raw_data.apartment_number == 'TIMES']\n",
    "\n",
    "# 63830 is empty %74 empty\n",
    "# 4000+ diff. apartment_number in 85K rows.\n",
    "# apartment_number has white-spaces at the end"
   ]
  },
  {
   "cell_type": "code",
   "execution_count": 31,
   "metadata": {
    "scrolled": false
   },
   "outputs": [
    {
     "data": {
      "text/plain": [
       "zipcode\n",
       "10019    6193\n",
       "10023    1514\n",
       "11207    1357\n",
       "11201    1314\n",
       "10011    1261\n",
       "11375    1200\n",
       "10314    1164\n",
       "10016    1147\n",
       "10022    1119\n",
       "11215    1106\n",
       "dtype: int64"
      ]
     },
     "execution_count": 31,
     "metadata": {},
     "output_type": "execute_result"
    }
   ],
   "source": [
    "raw_data.groupby('zipcode').size().sort_values(ascending=False).head(10)#.plot(kind='pie')\n",
    "\n",
    "# 10019 zipcode is %7 of houses\n",
    "# 70K houses in 100 zipcodes\n",
    "\n",
    "# no double rows"
   ]
  },
  {
   "cell_type": "code",
   "execution_count": 32,
   "metadata": {},
   "outputs": [
    {
     "data": {
      "text/html": [
       "<div>\n",
       "<style scoped>\n",
       "    .dataframe tbody tr th:only-of-type {\n",
       "        vertical-align: middle;\n",
       "    }\n",
       "\n",
       "    .dataframe tbody tr th {\n",
       "        vertical-align: top;\n",
       "    }\n",
       "\n",
       "    .dataframe thead th {\n",
       "        text-align: right;\n",
       "    }\n",
       "</style>\n",
       "<table border=\"1\" class=\"dataframe\">\n",
       "  <thead>\n",
       "    <tr style=\"text-align: right;\">\n",
       "      <th></th>\n",
       "      <th>residential_units</th>\n",
       "      <th>commercial_units</th>\n",
       "      <th>total_units</th>\n",
       "    </tr>\n",
       "  </thead>\n",
       "  <tbody>\n",
       "    <tr>\n",
       "      <th>0</th>\n",
       "      <td>0</td>\n",
       "      <td>NaN</td>\n",
       "      <td>0</td>\n",
       "    </tr>\n",
       "    <tr>\n",
       "      <th>1</th>\n",
       "      <td>0</td>\n",
       "      <td>NaN</td>\n",
       "      <td>0</td>\n",
       "    </tr>\n",
       "    <tr>\n",
       "      <th>2</th>\n",
       "      <td>0</td>\n",
       "      <td>NaN</td>\n",
       "      <td>0</td>\n",
       "    </tr>\n",
       "    <tr>\n",
       "      <th>3</th>\n",
       "      <td>0</td>\n",
       "      <td>NaN</td>\n",
       "      <td>0</td>\n",
       "    </tr>\n",
       "    <tr>\n",
       "      <th>4</th>\n",
       "      <td>0</td>\n",
       "      <td>NaN</td>\n",
       "      <td>0</td>\n",
       "    </tr>\n",
       "    <tr>\n",
       "      <th>5</th>\n",
       "      <td>0</td>\n",
       "      <td>NaN</td>\n",
       "      <td>0</td>\n",
       "    </tr>\n",
       "    <tr>\n",
       "      <th>6</th>\n",
       "      <td>0</td>\n",
       "      <td>NaN</td>\n",
       "      <td>0</td>\n",
       "    </tr>\n",
       "    <tr>\n",
       "      <th>7</th>\n",
       "      <td>0</td>\n",
       "      <td>NaN</td>\n",
       "      <td>0</td>\n",
       "    </tr>\n",
       "    <tr>\n",
       "      <th>8</th>\n",
       "      <td>0</td>\n",
       "      <td>NaN</td>\n",
       "      <td>0</td>\n",
       "    </tr>\n",
       "    <tr>\n",
       "      <th>9</th>\n",
       "      <td>0</td>\n",
       "      <td>NaN</td>\n",
       "      <td>0</td>\n",
       "    </tr>\n",
       "    <tr>\n",
       "      <th>10</th>\n",
       "      <td>0</td>\n",
       "      <td>NaN</td>\n",
       "      <td>0</td>\n",
       "    </tr>\n",
       "    <tr>\n",
       "      <th>11</th>\n",
       "      <td>0</td>\n",
       "      <td>NaN</td>\n",
       "      <td>0</td>\n",
       "    </tr>\n",
       "    <tr>\n",
       "      <th>12</th>\n",
       "      <td>0</td>\n",
       "      <td>NaN</td>\n",
       "      <td>0</td>\n",
       "    </tr>\n",
       "    <tr>\n",
       "      <th>13</th>\n",
       "      <td>0</td>\n",
       "      <td>NaN</td>\n",
       "      <td>0</td>\n",
       "    </tr>\n",
       "    <tr>\n",
       "      <th>14</th>\n",
       "      <td>0</td>\n",
       "      <td>NaN</td>\n",
       "      <td>0</td>\n",
       "    </tr>\n",
       "    <tr>\n",
       "      <th>15</th>\n",
       "      <td>0</td>\n",
       "      <td>NaN</td>\n",
       "      <td>0</td>\n",
       "    </tr>\n",
       "    <tr>\n",
       "      <th>16</th>\n",
       "      <td>0</td>\n",
       "      <td>NaN</td>\n",
       "      <td>0</td>\n",
       "    </tr>\n",
       "    <tr>\n",
       "      <th>17</th>\n",
       "      <td>0</td>\n",
       "      <td>NaN</td>\n",
       "      <td>1</td>\n",
       "    </tr>\n",
       "    <tr>\n",
       "      <th>18</th>\n",
       "      <td>3</td>\n",
       "      <td>NaN</td>\n",
       "      <td>3</td>\n",
       "    </tr>\n",
       "    <tr>\n",
       "      <th>19</th>\n",
       "      <td>1</td>\n",
       "      <td>NaN</td>\n",
       "      <td>1</td>\n",
       "    </tr>\n",
       "  </tbody>\n",
       "</table>\n",
       "</div>"
      ],
      "text/plain": [
       "   residential_units commercial_units total_units\n",
       "0                  0              NaN           0\n",
       "1                  0              NaN           0\n",
       "2                  0              NaN           0\n",
       "3                  0              NaN           0\n",
       "4                  0              NaN           0\n",
       "5                  0              NaN           0\n",
       "6                  0              NaN           0\n",
       "7                  0              NaN           0\n",
       "8                  0              NaN           0\n",
       "9                  0              NaN           0\n",
       "10                 0              NaN           0\n",
       "11                 0              NaN           0\n",
       "12                 0              NaN           0\n",
       "13                 0              NaN           0\n",
       "14                 0              NaN           0\n",
       "15                 0              NaN           0\n",
       "16                 0              NaN           0\n",
       "17                 0              NaN           1\n",
       "18                 3              NaN           3\n",
       "19                 1              NaN           1"
      ]
     },
     "execution_count": 32,
     "metadata": {},
     "output_type": "execute_result"
    }
   ],
   "source": [
    "raw_data[['residential_units', 'commercial_units', 'total_units']].head(20)\n",
    "\n",
    "# total = residental + commercial ?\n",
    "# if there are dif, can we set to commercial or we should delete  or we may use to create a dummy category ?\n",
    "# if total = 0 , what we should do?"
   ]
  },
  {
   "cell_type": "markdown",
   "metadata": {},
   "source": [
    "## Export OUTPUT file"
   ]
  },
  {
   "cell_type": "code",
   "execution_count": 194,
   "metadata": {},
   "outputs": [
    {
     "data": {
      "text/plain": [
       "55568"
      ]
     },
     "execution_count": 194,
     "metadata": {},
     "output_type": "execute_result"
    }
   ],
   "source": [
    "data_prepared = raw_data\n",
    "\n",
    "data_prepared = data_prepared[data_prepared.sale_price != 0] #28K records\n",
    "data_prepared = data_prepared[data_prepared.building_class_name.notna()] #1500 rows\n",
    "data_prepared = data_prepared[data_prepared.tax_class_at_present != '  '] #271 rows\n",
    "\n",
    "len(data_prepared)\n",
    "\n",
    "# deleted ~30K rows"
   ]
  },
  {
   "cell_type": "code",
   "execution_count": 195,
   "metadata": {},
   "outputs": [],
   "source": [
    "data_prepared.drop(['borough', 'building_class_category', 'building_class',\n",
    "                    'block', 'lot',\n",
    "                    'easement', \n",
    "                    'address', 'apartment_number', \n",
    "                    'tax_class_at_sale', 'building_class_at_sale'], \\\n",
    "                  axis=1, \\\n",
    "                  inplace=True)"
   ]
  },
  {
   "cell_type": "code",
   "execution_count": 196,
   "metadata": {},
   "outputs": [
    {
     "data": {
      "text/plain": [
       "borough_name                         object\n",
       "neighborhood                         object\n",
       "building_class_name                  object\n",
       "tax_class_at_present                 object\n",
       "building_class_at_present            object\n",
       "address_                             object\n",
       "zipcode                               int64\n",
       "residential_units                    object\n",
       "commercial_units                     object\n",
       "total_units                          object\n",
       "land_square_feet                      int64\n",
       "gross_square_feet                     int64\n",
       "year_built                            int64\n",
       "sale_date                    datetime64[ns]\n",
       "sale_price                          float64\n",
       "dtype: object"
      ]
     },
     "execution_count": 196,
     "metadata": {},
     "output_type": "execute_result"
    }
   ],
   "source": [
    "data_prepared.dtypes"
   ]
  },
  {
   "cell_type": "markdown",
   "metadata": {},
   "source": [
    "## outliers esp. for numerical features \n",
    "\n",
    "- **data_cleaned** is the outcome data frame"
   ]
  },
  {
   "cell_type": "code",
   "execution_count": 188,
   "metadata": {},
   "outputs": [
    {
     "data": {
      "text/plain": [
       "55568"
      ]
     },
     "execution_count": 188,
     "metadata": {},
     "output_type": "execute_result"
    }
   ],
   "source": [
    "len(data_prepared)"
   ]
  },
  {
   "cell_type": "code",
   "execution_count": 201,
   "metadata": {},
   "outputs": [
    {
     "data": {
      "text/plain": [
       "(29311, 24880, 24119, <matplotlib.axes._subplots.AxesSubplot at 0x1a31fbda58>)"
      ]
     },
     "execution_count": 201,
     "metadata": {},
     "output_type": "execute_result"
    },
    {
     "data": {
      "image/png": "[encoded data removed]",
      "text/plain": [
       "<Figure size 432x288 with 1 Axes>"
      ]
     },
     "metadata": {
      "needs_background": "light"
     },
     "output_type": "display_data"
    }
   ],
   "source": [
    "# below type plotting, x axis contains dump values !!!!\n",
    "\n",
    "outliers = data\n",
    "\n",
    "x = outliers[outliers.gross_square_feet == 0]\n",
    "y = outliers[(outliers.gross_square_feet > 0) & (outliers.gross_square_feet <= 100000)]\n",
    "\n",
    "z = outliers[(outliers.gross_square_feet > 0) & (outliers.gross_square_feet <= 20000)]\n",
    "\n",
    "len(x), len(y), len(z), outliers.gross_square_feet.plot()\n",
    "\n",
    "# gross_square_feet>500K seems outliers! or >20K (seems much better)"
   ]
  },
  {
   "cell_type": "code",
   "execution_count": 202,
   "metadata": {
    "scrolled": false
   },
   "outputs": [
    {
     "data": {
      "text/plain": [
       "<matplotlib.axes._subplots.AxesSubplot at 0x1a3201de10>"
      ]
     },
     "execution_count": 202,
     "metadata": {},
     "output_type": "execute_result"
    },
    {
     "data": {
      "image/png": "[encoded data removed]",
      "text/plain": [
       "<Figure size 432x288 with 1 Axes>"
      ]
     },
     "metadata": {
      "needs_background": "light"
     },
     "output_type": "display_data"
    }
   ],
   "source": [
    "z.gross_square_feet.plot.hist(bins=100)"
   ]
  },
  {
   "cell_type": "code",
   "execution_count": 235,
   "metadata": {},
   "outputs": [
    {
     "data": {
      "text/plain": [
       "(0,\n",
       " 55544,\n",
       " 55353,\n",
       " 51593,\n",
       " 50462,\n",
       " <matplotlib.axes._subplots.AxesSubplot at 0x1a4d709f98>)"
      ]
     },
     "execution_count": 235,
     "metadata": {},
     "output_type": "execute_result"
    },
    {
     "data": {
      "image/png": "[encoded data removed]",
      "text/plain": [
       "<Figure size 432x288 with 1 Axes>"
      ]
     },
     "metadata": {
      "needs_background": "light"
     },
     "output_type": "display_data"
    }
   ],
   "source": [
    "x = outliers[outliers.sale_price == 0]\n",
    "\n",
    "y = outliers[outliers.sale_price <= 200000000]\n",
    "\n",
    "z = outliers[outliers.sale_price <= 25000000]\n",
    "k = outliers[outliers.sale_price <= 2500000]  # still covers most of the rows :)\n",
    "\n",
    "m = outliers[outliers.sale_price <= 2000000]  # still covers most of the rows :)\n",
    "\n",
    "len(x), len(y), len(z), len(k), len(m), outliers.sale_price.plot()\n",
    "\n",
    "# data contains >0 sale_price, but it seems we also elimine under some values?\n",
    "\n",
    "# over sale_price>2M usd seems outliers !\n",
    "# or we may also create a category column depending sales_price (< 1M, ..., >200M and <500M, >500M, >900M ...)"
   ]
  },
  {
   "cell_type": "code",
   "execution_count": 242,
   "metadata": {},
   "outputs": [
    {
     "data": {
      "text/plain": [
       "<matplotlib.axes._subplots.AxesSubplot at 0x1a4d4567b8>"
      ]
     },
     "execution_count": 242,
     "metadata": {},
     "output_type": "execute_result"
    },
    {
     "data": {
      "image/png": "[encoded data removed]",
      "text/plain": [
       "<Figure size 432x288 with 1 Axes>"
      ]
     },
     "metadata": {
      "needs_background": "light"
     },
     "output_type": "display_data"
    }
   ],
   "source": [
    "m.sale_price.plot.hist(bins=100)"
   ]
  },
  {
   "cell_type": "code",
   "execution_count": null,
   "metadata": {},
   "outputs": [],
   "source": []
  },
  {
   "cell_type": "code",
   "execution_count": null,
   "metadata": {},
   "outputs": [],
   "source": []
  },
  {
   "cell_type": "code",
   "execution_count": 245,
   "metadata": {},
   "outputs": [
    {
     "data": {
      "text/plain": [
       "22627"
      ]
     },
     "execution_count": 245,
     "metadata": {},
     "output_type": "execute_result"
    }
   ],
   "source": [
    "data_cleaned = data_prepared\n",
    "\n",
    "data_cleaned = data_cleaned[(data_cleaned.gross_square_feet > 0) & (data_cleaned.gross_square_feet <= 20000)]\n",
    "\n",
    "data_cleaned = data_cleaned[(data_cleaned.sale_price < 2000000)]\n",
    "\n",
    "len(data_cleaned)"
   ]
  },
  {
   "cell_type": "code",
   "execution_count": 251,
   "metadata": {},
   "outputs": [
    {
     "data": {
      "text/plain": [
       "array([[<matplotlib.axes._subplots.AxesSubplot object at 0x1a504cd240>,\n",
       "        <matplotlib.axes._subplots.AxesSubplot object at 0x1a50526978>],\n",
       "       [<matplotlib.axes._subplots.AxesSubplot object at 0x1a505b2fd0>,\n",
       "        <matplotlib.axes._subplots.AxesSubplot object at 0x1a505df668>],\n",
       "       [<matplotlib.axes._subplots.AxesSubplot object at 0x1a50607cc0>,\n",
       "        <matplotlib.axes._subplots.AxesSubplot object at 0x1a50639358>]],\n",
       "      dtype=object)"
      ]
     },
     "execution_count": 251,
     "metadata": {},
     "output_type": "execute_result"
    },
    {
     "data": {
      "image/png": "[encoded data removed]",
      "text/plain": [
       "<Figure size 432x288 with 6 Axes>"
      ]
     },
     "metadata": {
      "needs_background": "light"
     },
     "output_type": "display_data"
    }
   ],
   "source": [
    "data_cleaned.hist()"
   ]
  },
  {
   "cell_type": "markdown",
   "metadata": {},
   "source": [
    "## Enrichment etc..\n",
    "\n",
    "- read OUTPUT data as **data_prepared** generated above\n",
    "\n",
    "#### Problem w/ features\n",
    "we have \n",
    "- so many **categorical features** which _must be mapped_ into less values, to predict sale_price and, \n",
    "- **less numerical features**, which will be used to predict sale_price"
   ]
  },
  {
   "cell_type": "code",
   "execution_count": 346,
   "metadata": {},
   "outputs": [
    {
     "data": {
      "text/plain": [
       "borough_name                         object\n",
       "neighborhood                         object\n",
       "building_class_name                  object\n",
       "tax_class_at_present                 object\n",
       "building_class_at_present            object\n",
       "address_                             object\n",
       "zipcode                               int64\n",
       "residential_units                    object\n",
       "commercial_units                     object\n",
       "total_units                          object\n",
       "land_square_feet                      int64\n",
       "gross_square_feet                     int64\n",
       "year_built                            int64\n",
       "sale_date                    datetime64[ns]\n",
       "sale_price                          float64\n",
       "dtype: object"
      ]
     },
     "execution_count": 346,
     "metadata": {},
     "output_type": "execute_result"
    }
   ],
   "source": [
    "data_cleaned.dtypes"
   ]
  },
  {
   "cell_type": "code",
   "execution_count": 34,
   "metadata": {},
   "outputs": [
    {
     "data": {
      "text/html": [
       "<div>\n",
       "<style scoped>\n",
       "    .dataframe tbody tr th:only-of-type {\n",
       "        vertical-align: middle;\n",
       "    }\n",
       "\n",
       "    .dataframe tbody tr th {\n",
       "        vertical-align: top;\n",
       "    }\n",
       "\n",
       "    .dataframe thead th {\n",
       "        text-align: right;\n",
       "    }\n",
       "</style>\n",
       "<table border=\"1\" class=\"dataframe\">\n",
       "  <thead>\n",
       "    <tr style=\"text-align: right;\">\n",
       "      <th></th>\n",
       "      <th>borough_name</th>\n",
       "      <th>neighborhood</th>\n",
       "      <th>building_class_name</th>\n",
       "      <th>tax_class_at_present</th>\n",
       "      <th>building_class_at_present</th>\n",
       "      <th>address_</th>\n",
       "      <th>zipcode</th>\n",
       "      <th>residential_units</th>\n",
       "      <th>commercial_units</th>\n",
       "      <th>total_units</th>\n",
       "      <th>land_square_feet</th>\n",
       "      <th>gross_square_feet</th>\n",
       "      <th>year_built</th>\n",
       "      <th>sale_date</th>\n",
       "      <th>sale_price</th>\n",
       "    </tr>\n",
       "  </thead>\n",
       "  <tbody>\n",
       "    <tr>\n",
       "      <th>0</th>\n",
       "      <td>Manhattan</td>\n",
       "      <td>ALPHABET CITY</td>\n",
       "      <td>THREE FAMILY HOMES</td>\n",
       "      <td>1</td>\n",
       "      <td>C0</td>\n",
       "      <td>243 EAST 7TH   STREET</td>\n",
       "      <td>10009</td>\n",
       "      <td>3</td>\n",
       "      <td>NaN</td>\n",
       "      <td>3</td>\n",
       "      <td>2381</td>\n",
       "      <td>3084</td>\n",
       "      <td>1899</td>\n",
       "      <td>2013-03-06</td>\n",
       "      <td>3150000</td>\n",
       "    </tr>\n",
       "    <tr>\n",
       "      <th>1</th>\n",
       "      <td>Manhattan</td>\n",
       "      <td>ALPHABET CITY</td>\n",
       "      <td>TAX CLASS 1 CONDOS</td>\n",
       "      <td>1C</td>\n",
       "      <td>R6</td>\n",
       "      <td>238 EAST 4TH   STREET</td>\n",
       "      <td>10009</td>\n",
       "      <td>1</td>\n",
       "      <td>NaN</td>\n",
       "      <td>1</td>\n",
       "      <td>0</td>\n",
       "      <td>0</td>\n",
       "      <td>1955</td>\n",
       "      <td>2013-03-27</td>\n",
       "      <td>3450000</td>\n",
       "    </tr>\n",
       "    <tr>\n",
       "      <th>2</th>\n",
       "      <td>Manhattan</td>\n",
       "      <td>ALPHABET CITY</td>\n",
       "      <td>RENTALS - WALKUP APARTMENTS</td>\n",
       "      <td>2</td>\n",
       "      <td>C4</td>\n",
       "      <td>715 EAST 5TH   STREET</td>\n",
       "      <td>10009</td>\n",
       "      <td>20</td>\n",
       "      <td>NaN</td>\n",
       "      <td>20</td>\n",
       "      <td>2426</td>\n",
       "      <td>9345</td>\n",
       "      <td>1900</td>\n",
       "      <td>2012-09-06</td>\n",
       "      <td>3650000</td>\n",
       "    </tr>\n",
       "  </tbody>\n",
       "</table>\n",
       "</div>"
      ],
      "text/plain": [
       "  borough_name   neighborhood          building_class_name  \\\n",
       "0    Manhattan  ALPHABET CITY           THREE FAMILY HOMES   \n",
       "1    Manhattan  ALPHABET CITY           TAX CLASS 1 CONDOS   \n",
       "2    Manhattan  ALPHABET CITY  RENTALS - WALKUP APARTMENTS   \n",
       "\n",
       "  tax_class_at_present building_class_at_present               address_  \\\n",
       "0                    1                        C0  243 EAST 7TH   STREET   \n",
       "1                   1C                        R6  238 EAST 4TH   STREET   \n",
       "2                    2                        C4  715 EAST 5TH   STREET   \n",
       "\n",
       "  zipcode residential_units commercial_units total_units  land_square_feet  \\\n",
       "0   10009                 3              NaN           3              2381   \n",
       "1   10009                 1              NaN           1                 0   \n",
       "2   10009                20              NaN          20              2426   \n",
       "\n",
       "   gross_square_feet year_built  sale_date  sale_price  \n",
       "0               3084       1899 2013-03-06     3150000  \n",
       "1                  0       1955 2013-03-27     3450000  \n",
       "2               9345       1900 2012-09-06     3650000  "
      ]
     },
     "execution_count": 34,
     "metadata": {},
     "output_type": "execute_result"
    }
   ],
   "source": [
    "data = pd.read_csv('dataset/housing/output_after_eda.csv', \\\n",
    "                       dtype={'borough_name': object, 'neighborhood': object, 'building_class_name': object,\n",
    "                              'tax_class_at_present': object, 'building_class_at_present': object,\n",
    "                              'address_': object, 'zipcode': object, 'residential_units': object,\n",
    "                              'commercial_units': object, 'total_units': object, 'land_square_feet': np.int64, \n",
    "                              'gross_square_feet': np.int64, 'year_built': object,\n",
    "                              'sale_price': np.int64}, \\\n",
    "                       parse_dates=['sale_date'], \\\n",
    "                       infer_datetime_format=True)\n",
    "\n",
    "\n",
    "\n",
    "data.head(3)"
   ]
  },
  {
   "cell_type": "code",
   "execution_count": 35,
   "metadata": {},
   "outputs": [
    {
     "data": {
      "text/plain": [
       "borough_name                         object\n",
       "neighborhood                         object\n",
       "building_class_name                  object\n",
       "tax_class_at_present                 object\n",
       "building_class_at_present            object\n",
       "address_                             object\n",
       "zipcode                              object\n",
       "residential_units                    object\n",
       "commercial_units                     object\n",
       "total_units                          object\n",
       "land_square_feet                      int64\n",
       "gross_square_feet                     int64\n",
       "year_built                           object\n",
       "sale_date                    datetime64[ns]\n",
       "sale_price                            int64\n",
       "dtype: object"
      ]
     },
     "execution_count": 35,
     "metadata": {},
     "output_type": "execute_result"
    }
   ],
   "source": [
    "data.dtypes"
   ]
  },
  {
   "cell_type": "code",
   "execution_count": 36,
   "metadata": {},
   "outputs": [
    {
     "data": {
      "text/html": [
       "<div>\n",
       "<style scoped>\n",
       "    .dataframe tbody tr th:only-of-type {\n",
       "        vertical-align: middle;\n",
       "    }\n",
       "\n",
       "    .dataframe tbody tr th {\n",
       "        vertical-align: top;\n",
       "    }\n",
       "\n",
       "    .dataframe thead th {\n",
       "        text-align: right;\n",
       "    }\n",
       "</style>\n",
       "<table border=\"1\" class=\"dataframe\">\n",
       "  <thead>\n",
       "    <tr style=\"text-align: right;\">\n",
       "      <th></th>\n",
       "      <th>borough_name</th>\n",
       "      <th>neighborhood</th>\n",
       "      <th>building_class_name</th>\n",
       "      <th>tax_class_at_present</th>\n",
       "      <th>building_class_at_present</th>\n",
       "      <th>address_</th>\n",
       "      <th>zipcode</th>\n",
       "      <th>residential_units</th>\n",
       "      <th>commercial_units</th>\n",
       "      <th>total_units</th>\n",
       "      <th>land_square_feet</th>\n",
       "      <th>gross_square_feet</th>\n",
       "      <th>year_built</th>\n",
       "      <th>sale_date</th>\n",
       "      <th>sale_price</th>\n",
       "    </tr>\n",
       "  </thead>\n",
       "  <tbody>\n",
       "    <tr>\n",
       "      <th>count</th>\n",
       "      <td>55568</td>\n",
       "      <td>55567</td>\n",
       "      <td>55568</td>\n",
       "      <td>55568</td>\n",
       "      <td>55568</td>\n",
       "      <td>55568</td>\n",
       "      <td>55568</td>\n",
       "      <td>37377</td>\n",
       "      <td>15502</td>\n",
       "      <td>37377</td>\n",
       "      <td>5.556800e+04</td>\n",
       "      <td>5.556800e+04</td>\n",
       "      <td>55568</td>\n",
       "      <td>55568</td>\n",
       "      <td>5.556800e+04</td>\n",
       "    </tr>\n",
       "    <tr>\n",
       "      <th>unique</th>\n",
       "      <td>5</td>\n",
       "      <td>253</td>\n",
       "      <td>38</td>\n",
       "      <td>10</td>\n",
       "      <td>147</td>\n",
       "      <td>45210</td>\n",
       "      <td>185</td>\n",
       "      <td>146</td>\n",
       "      <td>21</td>\n",
       "      <td>155</td>\n",
       "      <td>NaN</td>\n",
       "      <td>NaN</td>\n",
       "      <td>152</td>\n",
       "      <td>364</td>\n",
       "      <td>NaN</td>\n",
       "    </tr>\n",
       "    <tr>\n",
       "      <th>top</th>\n",
       "      <td>Manhattan</td>\n",
       "      <td>MIDTOWN WEST</td>\n",
       "      <td>COOPS - ELEVATOR APARTMENTS</td>\n",
       "      <td>2</td>\n",
       "      <td>D4</td>\n",
       "      <td>102 WEST 57TH STREET</td>\n",
       "      <td>10019</td>\n",
       "      <td>0</td>\n",
       "      <td>0</td>\n",
       "      <td>1</td>\n",
       "      <td>NaN</td>\n",
       "      <td>NaN</td>\n",
       "      <td>0</td>\n",
       "      <td>2012-12-20 00:00:00</td>\n",
       "      <td>NaN</td>\n",
       "    </tr>\n",
       "    <tr>\n",
       "      <th>freq</th>\n",
       "      <td>18295</td>\n",
       "      <td>2386</td>\n",
       "      <td>12525</td>\n",
       "      <td>26469</td>\n",
       "      <td>12257</td>\n",
       "      <td>917</td>\n",
       "      <td>2373</td>\n",
       "      <td>16659</td>\n",
       "      <td>14733</td>\n",
       "      <td>14958</td>\n",
       "      <td>NaN</td>\n",
       "      <td>NaN</td>\n",
       "      <td>4700</td>\n",
       "      <td>537</td>\n",
       "      <td>NaN</td>\n",
       "    </tr>\n",
       "    <tr>\n",
       "      <th>first</th>\n",
       "      <td>NaN</td>\n",
       "      <td>NaN</td>\n",
       "      <td>NaN</td>\n",
       "      <td>NaN</td>\n",
       "      <td>NaN</td>\n",
       "      <td>NaN</td>\n",
       "      <td>NaN</td>\n",
       "      <td>NaN</td>\n",
       "      <td>NaN</td>\n",
       "      <td>NaN</td>\n",
       "      <td>NaN</td>\n",
       "      <td>NaN</td>\n",
       "      <td>NaN</td>\n",
       "      <td>2012-08-01 00:00:00</td>\n",
       "      <td>NaN</td>\n",
       "    </tr>\n",
       "    <tr>\n",
       "      <th>last</th>\n",
       "      <td>NaN</td>\n",
       "      <td>NaN</td>\n",
       "      <td>NaN</td>\n",
       "      <td>NaN</td>\n",
       "      <td>NaN</td>\n",
       "      <td>NaN</td>\n",
       "      <td>NaN</td>\n",
       "      <td>NaN</td>\n",
       "      <td>NaN</td>\n",
       "      <td>NaN</td>\n",
       "      <td>NaN</td>\n",
       "      <td>NaN</td>\n",
       "      <td>NaN</td>\n",
       "      <td>2013-08-26 00:00:00</td>\n",
       "      <td>NaN</td>\n",
       "    </tr>\n",
       "    <tr>\n",
       "      <th>mean</th>\n",
       "      <td>NaN</td>\n",
       "      <td>NaN</td>\n",
       "      <td>NaN</td>\n",
       "      <td>NaN</td>\n",
       "      <td>NaN</td>\n",
       "      <td>NaN</td>\n",
       "      <td>NaN</td>\n",
       "      <td>NaN</td>\n",
       "      <td>NaN</td>\n",
       "      <td>NaN</td>\n",
       "      <td>2.730345e+03</td>\n",
       "      <td>5.149269e+03</td>\n",
       "      <td>NaN</td>\n",
       "      <td>NaN</td>\n",
       "      <td>1.318202e+06</td>\n",
       "    </tr>\n",
       "    <tr>\n",
       "      <th>std</th>\n",
       "      <td>NaN</td>\n",
       "      <td>NaN</td>\n",
       "      <td>NaN</td>\n",
       "      <td>NaN</td>\n",
       "      <td>NaN</td>\n",
       "      <td>NaN</td>\n",
       "      <td>NaN</td>\n",
       "      <td>NaN</td>\n",
       "      <td>NaN</td>\n",
       "      <td>NaN</td>\n",
       "      <td>4.989225e+04</td>\n",
       "      <td>2.834796e+04</td>\n",
       "      <td>NaN</td>\n",
       "      <td>NaN</td>\n",
       "      <td>1.111268e+07</td>\n",
       "    </tr>\n",
       "    <tr>\n",
       "      <th>min</th>\n",
       "      <td>NaN</td>\n",
       "      <td>NaN</td>\n",
       "      <td>NaN</td>\n",
       "      <td>NaN</td>\n",
       "      <td>NaN</td>\n",
       "      <td>NaN</td>\n",
       "      <td>NaN</td>\n",
       "      <td>NaN</td>\n",
       "      <td>NaN</td>\n",
       "      <td>NaN</td>\n",
       "      <td>0.000000e+00</td>\n",
       "      <td>0.000000e+00</td>\n",
       "      <td>NaN</td>\n",
       "      <td>NaN</td>\n",
       "      <td>1.000000e+00</td>\n",
       "    </tr>\n",
       "    <tr>\n",
       "      <th>25%</th>\n",
       "      <td>NaN</td>\n",
       "      <td>NaN</td>\n",
       "      <td>NaN</td>\n",
       "      <td>NaN</td>\n",
       "      <td>NaN</td>\n",
       "      <td>NaN</td>\n",
       "      <td>NaN</td>\n",
       "      <td>NaN</td>\n",
       "      <td>NaN</td>\n",
       "      <td>NaN</td>\n",
       "      <td>0.000000e+00</td>\n",
       "      <td>0.000000e+00</td>\n",
       "      <td>NaN</td>\n",
       "      <td>NaN</td>\n",
       "      <td>2.750000e+05</td>\n",
       "    </tr>\n",
       "    <tr>\n",
       "      <th>50%</th>\n",
       "      <td>NaN</td>\n",
       "      <td>NaN</td>\n",
       "      <td>NaN</td>\n",
       "      <td>NaN</td>\n",
       "      <td>NaN</td>\n",
       "      <td>NaN</td>\n",
       "      <td>NaN</td>\n",
       "      <td>NaN</td>\n",
       "      <td>NaN</td>\n",
       "      <td>NaN</td>\n",
       "      <td>0.000000e+00</td>\n",
       "      <td>0.000000e+00</td>\n",
       "      <td>NaN</td>\n",
       "      <td>NaN</td>\n",
       "      <td>4.900000e+05</td>\n",
       "    </tr>\n",
       "    <tr>\n",
       "      <th>75%</th>\n",
       "      <td>NaN</td>\n",
       "      <td>NaN</td>\n",
       "      <td>NaN</td>\n",
       "      <td>NaN</td>\n",
       "      <td>NaN</td>\n",
       "      <td>NaN</td>\n",
       "      <td>NaN</td>\n",
       "      <td>NaN</td>\n",
       "      <td>NaN</td>\n",
       "      <td>NaN</td>\n",
       "      <td>2.500000e+03</td>\n",
       "      <td>2.150000e+03</td>\n",
       "      <td>NaN</td>\n",
       "      <td>NaN</td>\n",
       "      <td>8.500000e+05</td>\n",
       "    </tr>\n",
       "    <tr>\n",
       "      <th>max</th>\n",
       "      <td>NaN</td>\n",
       "      <td>NaN</td>\n",
       "      <td>NaN</td>\n",
       "      <td>NaN</td>\n",
       "      <td>NaN</td>\n",
       "      <td>NaN</td>\n",
       "      <td>NaN</td>\n",
       "      <td>NaN</td>\n",
       "      <td>NaN</td>\n",
       "      <td>NaN</td>\n",
       "      <td>6.777433e+06</td>\n",
       "      <td>2.548000e+06</td>\n",
       "      <td>NaN</td>\n",
       "      <td>NaN</td>\n",
       "      <td>1.307965e+09</td>\n",
       "    </tr>\n",
       "  </tbody>\n",
       "</table>\n",
       "</div>"
      ],
      "text/plain": [
       "       borough_name  neighborhood          building_class_name  \\\n",
       "count         55568         55567                        55568   \n",
       "unique            5           253                           38   \n",
       "top       Manhattan  MIDTOWN WEST  COOPS - ELEVATOR APARTMENTS   \n",
       "freq          18295          2386                        12525   \n",
       "first           NaN           NaN                          NaN   \n",
       "last            NaN           NaN                          NaN   \n",
       "mean            NaN           NaN                          NaN   \n",
       "std             NaN           NaN                          NaN   \n",
       "min             NaN           NaN                          NaN   \n",
       "25%             NaN           NaN                          NaN   \n",
       "50%             NaN           NaN                          NaN   \n",
       "75%             NaN           NaN                          NaN   \n",
       "max             NaN           NaN                          NaN   \n",
       "\n",
       "       tax_class_at_present building_class_at_present              address_  \\\n",
       "count                 55568                     55568                 55568   \n",
       "unique                   10                       147                 45210   \n",
       "top                       2                        D4  102 WEST 57TH STREET   \n",
       "freq                  26469                     12257                   917   \n",
       "first                   NaN                       NaN                   NaN   \n",
       "last                    NaN                       NaN                   NaN   \n",
       "mean                    NaN                       NaN                   NaN   \n",
       "std                     NaN                       NaN                   NaN   \n",
       "min                     NaN                       NaN                   NaN   \n",
       "25%                     NaN                       NaN                   NaN   \n",
       "50%                     NaN                       NaN                   NaN   \n",
       "75%                     NaN                       NaN                   NaN   \n",
       "max                     NaN                       NaN                   NaN   \n",
       "\n",
       "       zipcode residential_units commercial_units total_units  \\\n",
       "count    55568             37377            15502       37377   \n",
       "unique     185               146               21         155   \n",
       "top      10019                 0                0           1   \n",
       "freq      2373             16659            14733       14958   \n",
       "first      NaN               NaN              NaN         NaN   \n",
       "last       NaN               NaN              NaN         NaN   \n",
       "mean       NaN               NaN              NaN         NaN   \n",
       "std        NaN               NaN              NaN         NaN   \n",
       "min        NaN               NaN              NaN         NaN   \n",
       "25%        NaN               NaN              NaN         NaN   \n",
       "50%        NaN               NaN              NaN         NaN   \n",
       "75%        NaN               NaN              NaN         NaN   \n",
       "max        NaN               NaN              NaN         NaN   \n",
       "\n",
       "        land_square_feet  gross_square_feet year_built            sale_date  \\\n",
       "count       5.556800e+04       5.556800e+04      55568                55568   \n",
       "unique               NaN                NaN        152                  364   \n",
       "top                  NaN                NaN          0  2012-12-20 00:00:00   \n",
       "freq                 NaN                NaN       4700                  537   \n",
       "first                NaN                NaN        NaN  2012-08-01 00:00:00   \n",
       "last                 NaN                NaN        NaN  2013-08-26 00:00:00   \n",
       "mean        2.730345e+03       5.149269e+03        NaN                  NaN   \n",
       "std         4.989225e+04       2.834796e+04        NaN                  NaN   \n",
       "min         0.000000e+00       0.000000e+00        NaN                  NaN   \n",
       "25%         0.000000e+00       0.000000e+00        NaN                  NaN   \n",
       "50%         0.000000e+00       0.000000e+00        NaN                  NaN   \n",
       "75%         2.500000e+03       2.150000e+03        NaN                  NaN   \n",
       "max         6.777433e+06       2.548000e+06        NaN                  NaN   \n",
       "\n",
       "          sale_price  \n",
       "count   5.556800e+04  \n",
       "unique           NaN  \n",
       "top              NaN  \n",
       "freq             NaN  \n",
       "first            NaN  \n",
       "last             NaN  \n",
       "mean    1.318202e+06  \n",
       "std     1.111268e+07  \n",
       "min     1.000000e+00  \n",
       "25%     2.750000e+05  \n",
       "50%     4.900000e+05  \n",
       "75%     8.500000e+05  \n",
       "max     1.307965e+09  "
      ]
     },
     "execution_count": 36,
     "metadata": {},
     "output_type": "execute_result"
    }
   ],
   "source": [
    "data.describe(include='all')"
   ]
  },
  {
   "cell_type": "code",
   "execution_count": 132,
   "metadata": {},
   "outputs": [
    {
     "data": {
      "text/plain": [
       "(37377, 15502, 18191, 17623)"
      ]
     },
     "execution_count": 132,
     "metadata": {},
     "output_type": "execute_result"
    }
   ],
   "source": [
    "x = data.groupby('residential_units').size().sum()\n",
    "\n",
    "y = data.groupby('commercial_units').size().sum()\n",
    "\n",
    "q = data[(data.residential_units.isna()) & (data.commercial_units.isna())]\n",
    "\n",
    "m = data.groupby('total_units').size().sum()\n",
    "\n",
    "x, y, len(q), (55000-m)\n",
    "\n",
    "# (32%) 18K of 55K records empty regarding total_units\n",
    "# we need many categorical features which must be mapped into less values, to predict sale_price\n",
    "# and, less numerical features, which can be used to predict sale_price"
   ]
  },
  {
   "cell_type": "code",
   "execution_count": null,
   "metadata": {},
   "outputs": [],
   "source": []
  },
  {
   "cell_type": "code",
   "execution_count": 261,
   "metadata": {},
   "outputs": [
    {
     "data": {
      "image/png": "[encoded data removed]",
      "text/plain": [
       "<Figure size 432x288 with 1 Axes>"
      ]
     },
     "metadata": {
      "needs_background": "light"
     },
     "output_type": "display_data"
    }
   ],
   "source": [
    "ax1 = sns.scatterplot(x='gross_square_feet', y='sale_price', palette='Set2', data=data_cleaned)\n"
   ]
  },
  {
   "cell_type": "code",
   "execution_count": null,
   "metadata": {},
   "outputs": [],
   "source": []
  },
  {
   "cell_type": "code",
   "execution_count": 66,
   "metadata": {},
   "outputs": [
    {
     "data": {
      "text/plain": [
       "building_class_name\n",
       "ASYLUMS AND HOMES                              8\n",
       "COMMERCIAL CONDOS                            662\n",
       "COMMERCIAL GARAGES                           383\n",
       "COMMERCIAL VACANT LAND                       200\n",
       "CONDO-RENTALS                                 17\n",
       "CONDOPS                                     1320\n",
       "CONDOS - 2-10 UNIT RESIDENTIAL               901\n",
       "CONDOS - 2-10 UNIT WITH COMMERCIAL UNIT       50\n",
       "CONDOS - ELEVATOR APARTMENTS                9232\n",
       "CONDOS - WALKUP APARTMENTS                   722\n",
       "COOPS - ELEVATOR APARTMENTS                12525\n",
       "COOPS - WALKUP APARTMENTS                   2372\n",
       "EDUCATIONAL FACILITIES                        33\n",
       "FACTORIES                                    166\n",
       "HOSPITAL AND HEALTH FACILITIES                17\n",
       "INDOOR PUBLIC AND CULTURAL FACILITIES         12\n",
       "LOFT BUILDINGS                                78\n",
       "LUXURY HOTELS                               1225\n",
       "OFFICE BUILDINGS                             268\n",
       "ONE FAMILY HOMES                            9691\n",
       "OTHER HOTELS                                  22\n",
       "OUTDOOR RECREATIONAL FACILITIES                4\n",
       "RELIGIOUS FACILITIES                          67\n",
       "RENTALS - 4-10 UNIT                          429\n",
       "RENTALS - ELEVATOR APARTMENTS                363\n",
       "RENTALS - WALKUP APARTMENTS                 2260\n",
       "SELECTED GOVERNMENTAL FACILITIES               1\n",
       "SPECIAL CONDO BILLING LOTS                     1\n",
       "STORE BUILDINGS                              585\n",
       "TAX CLASS 1 - OTHER                           45\n",
       "TAX CLASS 1 CONDOS                           869\n",
       "TAX CLASS 1 VACANT LAND                      462\n",
       "TAX CLASS 3 - UTILITY PROPERTIES               1\n",
       "TAX CLASS 4 - OTHER                           78\n",
       "THEATRES                                       1\n",
       "THREE FAMILY HOMES                          2257\n",
       "TWO FAMILY HOMES                            8245\n",
       "WAREHOUSES                                   223\n",
       "dtype: int64"
      ]
     },
     "execution_count": 66,
     "metadata": {},
     "output_type": "execute_result"
    }
   ],
   "source": [
    "zzz = data\n",
    "\n",
    "zzz.groupby('building_class_name').size()#.plot(kind='pie')\n",
    "\n",
    "# we should create a column such as family houses"
   ]
  },
  {
   "cell_type": "code",
   "execution_count": 41,
   "metadata": {},
   "outputs": [
    {
     "data": {
      "text/plain": [
       "<matplotlib.axes._subplots.AxesSubplot at 0x1a23de7898>"
      ]
     },
     "execution_count": 41,
     "metadata": {},
     "output_type": "execute_result"
    },
    {
     "data": {
      "image/png": "[encoded data removed]",
      "text/plain": [
       "<Figure size 432x288 with 1 Axes>"
      ]
     },
     "metadata": {},
     "output_type": "display_data"
    }
   ],
   "source": [
    "data_enriched = data\n",
    "\n",
    "data_enriched.loc[data_enriched.building_class_name.str.contains('FAMILY'), 'building_class_map'] = 'FAMILY'\n",
    "data_enriched.loc[data_enriched.building_class_name.str.contains('APARTMENT'), 'building_class_map'] = 'APARTMENTS'\n",
    "data_enriched.loc[data_enriched.building_class_name.str.contains('FACILITIES'), 'building_class_map'] = 'FACILITIES'\n",
    "\n",
    "# this keeps getting decreased, above lines increased\n",
    "data_enriched.loc[data_enriched.building_class_map.isna(), 'building_class_map'] = 'OTHER'\n",
    "\n",
    "data_enriched.groupby('building_class_map').size().plot(kind='pie')\n",
    "\n",
    "# len(data_enriched[data_enriched.building_class_map.notna()])\n",
    "# 20K records contains family "
   ]
  },
  {
   "cell_type": "code",
   "execution_count": 63,
   "metadata": {},
   "outputs": [
    {
     "data": {
      "text/plain": [
       "29311"
      ]
     },
     "execution_count": 63,
     "metadata": {},
     "output_type": "execute_result"
    }
   ],
   "source": [
    "# data.gross_square_feet.plot()\n",
    "kz = data[data.gross_square_feet == 0]\n",
    "\n",
    "\n",
    "len(kz)\n",
    "\n",
    "# 29K of filled sales_price rows have 0 square_feet"
   ]
  },
  {
   "cell_type": "code",
   "execution_count": 263,
   "metadata": {},
   "outputs": [
    {
     "data": {
      "image/png": "[encoded data removed]",
      "text/plain": [
       "<Figure size 432x288 with 1 Axes>"
      ]
     },
     "metadata": {
      "needs_background": "light"
     },
     "output_type": "display_data"
    }
   ],
   "source": [
    "ax10 = sns.scatterplot(x='gross_square_feet', y='sale_price', palette='Set2', data=data_cleaned)\n"
   ]
  },
  {
   "cell_type": "markdown",
   "metadata": {},
   "source": [
    "### Cross Analysis"
   ]
  },
  {
   "cell_type": "code",
   "execution_count": 39,
   "metadata": {},
   "outputs": [],
   "source": [
    "# k = data[['building_class_name', 'residential_units']] \n",
    "\n",
    "\n",
    "# k.groupby([ 'building_class_name', 'residential_units']).size()#.sort_values(ascending=False).unstack('residential_units')#.plot(kind='pie')"
   ]
  },
  {
   "cell_type": "code",
   "execution_count": null,
   "metadata": {},
   "outputs": [],
   "source": []
  },
  {
   "cell_type": "code",
   "execution_count": 206,
   "metadata": {},
   "outputs": [],
   "source": [
    "export_csv = data_cleaned.to_csv (r'./dataset/housing/output_after_eda.csv', \n",
    "                                  index = None,\n",
    "                                  header = True) \n",
    "\n",
    "export_csv"
   ]
  }
 ],
 "metadata": {
  "kernelspec": {
   "display_name": "Python 3",
   "language": "python",
   "name": "python3"
  },
  "language_info": {
   "codemirror_mode": {
    "name": "ipython",
    "version": 3
   },
   "file_extension": ".py",
   "mimetype": "text/x-python",
   "name": "python",
   "nbconvert_exporter": "python",
   "pygments_lexer": "ipython3",
   "version": "3.7.3"
  }
 },
 "nbformat": 4,
 "nbformat_minor": 2
}
